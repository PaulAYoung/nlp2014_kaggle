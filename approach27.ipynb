{
 "metadata": {
  "name": "",
  "signature": "sha256:d1e2eda82616ccfafc333fd42b3848a85e43e757865d80a0f23fb726239452dc"
 },
 "nbformat": 3,
 "nbformat_minor": 0,
 "worksheets": [
  {
   "cells": [
    {
     "cell_type": "code",
     "collapsed": false,
     "input": [
      "import re\n",
      "import random\n",
      "from os import path\n",
      "\n",
      "import nltk\n",
      "\n",
      "import testing_util as util\n",
      "import term_scoring\n",
      "from testing_util import sample_sets, final_sets\n",
      "\n",
      "import tfidf_class"
     ],
     "language": "python",
     "metadata": {},
     "outputs": [],
     "prompt_number": 1
    },
    {
     "cell_type": "code",
     "collapsed": false,
     "input": [
      "def feature_num_tokens(text):\n",
      "    return {\"num_tokens\": len(nltk.word_tokenize(text))/10}"
     ],
     "language": "python",
     "metadata": {},
     "outputs": [],
     "prompt_number": 2
    },
    {
     "cell_type": "code",
     "collapsed": false,
     "input": [
      "def feature_avg_len_word(text):\n",
      "    tokens = nltk.word_tokenize(text)\n",
      "    return {\"word_len\": sum([len(w) for w in tokens])/len(tokens)}"
     ],
     "language": "python",
     "metadata": {},
     "outputs": [],
     "prompt_number": 3
    },
    {
     "cell_type": "code",
     "collapsed": false,
     "input": [
      "stopwords = nltk.corpus.stopwords.words('english')\n",
      "stemmer = nltk.PorterStemmer()\n",
      "\n",
      "def get_terms(t):\n",
      "    \"\"\"\n",
      "    This is used to get the relevant items out of text. \n",
      "    \"\"\"\n",
      "    tokens = nltk.word_tokenize(t)\n",
      "    return [stemmer.stem(w.lower()) for w in tokens if len(w)>3 and (w not in stopwords)]"
     ],
     "language": "python",
     "metadata": {},
     "outputs": [],
     "prompt_number": 4
    },
    {
     "cell_type": "code",
     "collapsed": false,
     "input": [
      "def get_bigrams(t):\n",
      "    \"\"\"\n",
      "    This is used to get the relevant items out of text. \n",
      "    \"\"\"\n",
      "    tokens = nltk.word_tokenize(t)\n",
      "    tokens = [stemmer.stem(w.lower()) for w in tokens if len(w)>3 and (w not in stopwords)]\n",
      "    \n",
      "    return nltk.bigrams(tokens)"
     ],
     "language": "python",
     "metadata": {},
     "outputs": [],
     "prompt_number": 5
    },
    {
     "cell_type": "code",
     "collapsed": false,
     "input": [
      "def category_term_scorer1(sample_list):\n",
      "    \"\"\"\n",
      "    takes a list of tuples in format (category,text) and creates scores for each term\n",
      "    for its relevance to each category\n",
      "    \"\"\"\n",
      "    categories = {}\n",
      "    \n",
      "    for c,s in sample_list:\n",
      "        if c not in categories:\n",
      "            categories[c]=[]\n",
      "        for w in get_terms(s):\n",
      "            categories[c].append(w)\n",
      "    \n",
      "    fd_all = nltk.FreqDist([w for wl in categories.values() for w in wl])\n",
      "    \n",
      "    fd_categories = {c:nltk.FreqDist(v) for c,v in categories.iteritems()}\n",
      "    \n",
      "    term_scores = {}\n",
      "    for term in fd_all.iterkeys():\n",
      "        if fd_all[term] < 5:\n",
      "            continue\n",
      "        d = {}\n",
      "        for c,fd in fd_categories.iteritems():\n",
      "            d[c]= fd[term]/(1+fd_all[term]-fd[term])\n",
      "        term_scores[term]=d\n",
      "    \n",
      "    return term_scores"
     ],
     "language": "python",
     "metadata": {},
     "outputs": [],
     "prompt_number": 6
    },
    {
     "cell_type": "code",
     "collapsed": false,
     "input": [
      "def category_term_scorer2(sample_list):\n",
      "    \"\"\"\n",
      "    takes a list of tuples in format (category,text) and creates scores for each term\n",
      "    for its relevance to each category\n",
      "    \"\"\"\n",
      "    categories = {}\n",
      "    \n",
      "    for c,s in sample_list:\n",
      "        if c not in categories:\n",
      "            categories[c]=[]\n",
      "        for w in get_bigrams(s):\n",
      "            categories[c].append(w)\n",
      "    \n",
      "    fd_all = nltk.FreqDist([w for wl in categories.values() for w in wl])\n",
      "    \n",
      "    fd_categories = {c:nltk.FreqDist(v) for c,v in categories.iteritems()}\n",
      "    \n",
      "    term_scores = {}\n",
      "    for term in fd_all.iterkeys():\n",
      "        if fd_all[term] < 5:\n",
      "            continue\n",
      "        d = {}\n",
      "        for c,fd in fd_categories.iteritems():\n",
      "            d[c]= fd[term]/(1+fd_all[term]-fd[term])\n",
      "        term_scores[term]=d\n",
      "    \n",
      "    return term_scores"
     ],
     "language": "python",
     "metadata": {},
     "outputs": [],
     "prompt_number": 7
    },
    {
     "cell_type": "code",
     "collapsed": false,
     "input": [
      "termscore1 = term_scoring.TermScoreClassiffier(scorer=category_term_scorer1, key=\"termscore\", tokenizer=get_terms)\n",
      "termscore2 = term_scoring.TermScoreClassiffier(scorer=category_term_scorer2, key=\"bigramscore\", tokenizer=get_bigrams)"
     ],
     "language": "python",
     "metadata": {},
     "outputs": [],
     "prompt_number": 8
    },
    {
     "cell_type": "code",
     "collapsed": false,
     "input": [
      "tfidf_checker = tfidf_class.TfidfRater(get_terms, nterms=50)"
     ],
     "language": "python",
     "metadata": {},
     "outputs": [],
     "prompt_number": 9
    },
    {
     "cell_type": "code",
     "collapsed": false,
     "input": [
      "extractor = util.FeatureExtractor()\n",
      "extractor.add_extractor(feature_num_tokens)\n",
      "extractor.add_extractor(feature_avg_len_word)\n",
      "extractor.add_extractor(termscore1, trained=True)\n",
      "extractor.add_extractor(termscore2, trained=True)\n",
      "extractor.add_extractor(tfidf_checker, trained=True)"
     ],
     "language": "python",
     "metadata": {},
     "outputs": [],
     "prompt_number": 10
    },
    {
     "cell_type": "code",
     "collapsed": false,
     "input": [
      "classifier = nltk.classify.NaiveBayesClassifier"
     ],
     "language": "python",
     "metadata": {},
     "outputs": [],
     "prompt_number": 17
    },
    {
     "cell_type": "code",
     "collapsed": false,
     "input": [
      "extractor.test(sample_sets, folds=10, confusion=True, classifier=classifier)"
     ],
     "language": "python",
     "metadata": {},
     "outputs": [
      {
       "output_type": "stream",
       "stream": "stdout",
       "text": [
        "**************************\n",
        "Run 0\n",
        "**************************\n",
        "test 0 - 57.993%"
       ]
      },
      {
       "output_type": "stream",
       "stream": "stdout",
       "text": [
        "\n",
        "  |      1      2      3      4      6      5      7 |\n",
        "--+--------------------------------------------------+\n",
        "1 | <13.4%>  3.7%      .   1.1%   0.7%   1.1%      . |\n",
        "2 |   4.1% <13.4%>  0.4%      .      .   0.4%   0.7% |\n",
        "3 |   5.9%   0.4%  <9.3%>  1.1%      .      .      . |\n",
        "4 |   3.7%      .      . <13.0%>     .      .      . |\n",
        "6 |   3.7%   1.1%      .   1.1%  <3.7%>     .      . |\n",
        "5 |   3.0%   0.4%   0.7%      .   0.4%  <2.2%>  2.2% |\n",
        "7 |   5.2%      .   0.4%      .   0.4%      .  <3.0%>|\n",
        "--+--------------------------------------------------+\n",
        "(row = reference; col = test)\n"
       ]
      },
      {
       "output_type": "stream",
       "stream": "stdout",
       "text": [
        "\n",
        "test 1 - 54.647%"
       ]
      },
      {
       "output_type": "stream",
       "stream": "stdout",
       "text": [
        "\n",
        "  |      1      2      3      4      7      5      6 |\n",
        "--+--------------------------------------------------+\n",
        "1 | <19.0%>  3.0%   0.7%   2.6%      .   1.1%   0.7% |\n",
        "2 |   4.1% <11.5%>  1.1%      .      .   0.4%      . |\n",
        "3 |   5.2%   0.4%  <7.8%>  0.7%      .      .      . |\n",
        "4 |   4.5%   0.4%      .  <7.1%>     .      .      . |\n",
        "7 |   4.5%   0.7%   0.4%      .  <3.3%>  0.7%   0.7% |\n",
        "5 |   5.2%   0.4%   0.4%   1.1%   0.4%  <2.6%>     . |\n",
        "6 |   4.5%      .      .   1.1%      .   0.4%  <3.3%>|\n",
        "--+--------------------------------------------------+\n",
        "(row = reference; col = test)\n"
       ]
      },
      {
       "output_type": "stream",
       "stream": "stdout",
       "text": [
        "\n",
        "test 2 - 60.967%"
       ]
      },
      {
       "output_type": "stream",
       "stream": "stdout",
       "text": [
        "\n",
        "  |      1      4      3      7      2      5      6 |\n",
        "--+--------------------------------------------------+\n",
        "1 | <23.4%>  1.5%   1.1%      .   4.5%   0.4%      . |\n",
        "4 |   3.7% <10.4%>  0.7%      .      .      .   0.4% |\n",
        "3 |   5.2%      .  <6.7%>     .   0.4%      .   0.4% |\n",
        "7 |   5.9%      .   0.4%  <4.5%>  0.4%   0.7%   0.4% |\n",
        "2 |   1.1%      .   0.4%      . <10.0%>     .   0.4% |\n",
        "5 |   1.9%   0.7%      .   1.1%   1.1%  <3.3%>  0.4% |\n",
        "6 |   4.8%   1.1%      .      .      .      .  <2.6%>|\n",
        "--+--------------------------------------------------+\n",
        "(row = reference; col = test)\n"
       ]
      },
      {
       "output_type": "stream",
       "stream": "stdout",
       "text": [
        "\n",
        "test 3 - 57.993%"
       ]
      },
      {
       "output_type": "stream",
       "stream": "stdout",
       "text": [
        "\n",
        "  |      1      2      3      4      7      6      5 |\n",
        "--+--------------------------------------------------+\n",
        "1 | <21.2%>  1.1%   0.4%   3.3%      .   1.1%   0.4% |\n",
        "2 |   3.7% <12.6%>  0.4%      .   1.1%      .   0.4% |\n",
        "3 |   5.9%   0.4%  <8.6%>  1.1%      .      .   0.4% |\n",
        "4 |   3.7%      .      .  <7.8%>     .      .      . |\n",
        "7 |   6.3%   0.4%   0.4%      .  <2.2%>     .   0.4% |\n",
        "6 |   4.1%      .      .   1.1%      .  <3.0%>  0.7% |\n",
        "5 |   4.1%      .      .      .   1.1%      .  <2.6%>|\n",
        "--+--------------------------------------------------+\n",
        "(row = reference; col = test)\n"
       ]
      },
      {
       "output_type": "stream",
       "stream": "stdout",
       "text": [
        "\n",
        "test 4 - 57.621%"
       ]
      },
      {
       "output_type": "stream",
       "stream": "stdout",
       "text": [
        "\n",
        "  |      1      2      4      3      6      5      7 |\n",
        "--+--------------------------------------------------+\n",
        "1 | <21.9%>  4.1%   1.9%   1.1%   0.4%   1.1%   1.1% |\n",
        "2 |   5.2% <13.8%>     .      .      .   0.4%   0.4% |\n",
        "4 |   3.7%      . <10.0%>  0.7%      .      .   0.4% |\n",
        "3 |   5.6%      .   1.1%  <4.8%>     .      .      . |\n",
        "6 |   3.3%      .   0.4%   0.4%  <3.3%>     .   1.5% |\n",
        "5 |   3.3%   0.4%      .   1.1%      .  <2.2%>  1.1% |\n",
        "7 |   2.2%   0.4%      .   0.4%   0.7%      .  <1.5%>|\n",
        "--+--------------------------------------------------+\n",
        "(row = reference; col = test)\n"
       ]
      },
      {
       "output_type": "stream",
       "stream": "stdout",
       "text": [
        "\n",
        "test 5 - 54.647%"
       ]
      },
      {
       "output_type": "stream",
       "stream": "stdout",
       "text": [
        "\n",
        "  |      1      3      2      4      6      7      5 |\n",
        "--+--------------------------------------------------+\n",
        "1 | <20.1%>  1.1%   5.2%   4.5%   0.4%   1.1%   1.1% |\n",
        "3 |   6.3%  <5.9%>  1.1%   0.7%      .   0.7%      . |\n",
        "2 |   3.0%   1.1% <10.0%>     .      .      .      . |\n",
        "4 |   2.2%      .   0.4%  <8.9%>     .      .      . |\n",
        "6 |   3.0%   0.4%   0.4%   0.7%  <6.7%>     .   0.4% |\n",
        "7 |   3.3%      .   0.7%      .      .  <2.6%>  1.1% |\n",
        "5 |   4.8%      .   1.1%      .      .   0.4%  <0.4%>|\n",
        "--+--------------------------------------------------+\n",
        "(row = reference; col = test)\n"
       ]
      },
      {
       "output_type": "stream",
       "stream": "stdout",
       "text": [
        "\n",
        "test 6 - 55.019%"
       ]
      },
      {
       "output_type": "stream",
       "stream": "stdout",
       "text": [
        "\n",
        "  |      1      2      3      7      4      5      6 |\n",
        "--+--------------------------------------------------+\n",
        "1 | <17.5%>  4.5%   1.1%      .   1.5%   0.4%   0.4% |\n",
        "2 |   4.8% <14.1%>  0.4%      .      .   0.4%      . |\n",
        "3 |   7.1%   0.7%  <8.2%>     .   1.1%      .   0.4% |\n",
        "7 |   6.3%   0.4%   0.7%  <2.6%>     .   1.1%   0.4% |\n",
        "4 |   3.3%      .      .   0.4%  <6.7%>     .      . |\n",
        "5 |   4.1%   1.9%   0.4%   1.1%      .  <2.6%>     . |\n",
        "6 |   1.5%      .      .      .   0.7%      .  <3.3%>|\n",
        "--+--------------------------------------------------+\n",
        "(row = reference; col = test)\n"
       ]
      },
      {
       "output_type": "stream",
       "stream": "stdout",
       "text": [
        "\n",
        "test 7 - 60.223%"
       ]
      },
      {
       "output_type": "stream",
       "stream": "stdout",
       "text": [
        "\n",
        "  |      1      2      3      4      5      7      6 |\n",
        "--+--------------------------------------------------+\n",
        "1 | <22.3%>  4.8%   0.4%   2.6%   0.4%   1.9%   0.4% |\n",
        "2 |   4.5% <11.5%>  0.7%      .      .      .      . |\n",
        "3 |   3.3%   0.7%  <7.1%>  0.7%   0.4%   0.7%   0.4% |\n",
        "4 |   1.5%   0.4%      .  <9.7%>     .      .   0.4% |\n",
        "5 |   3.3%   1.1%   0.4%      .  <4.5%>  1.5%      . |\n",
        "7 |   5.2%      .   1.1%      .   0.4%  <3.7%>  0.4% |\n",
        "6 |   1.9%      .   0.4%      .      .      .  <1.5%>|\n",
        "--+--------------------------------------------------+\n",
        "(row = reference; col = test)\n"
       ]
      },
      {
       "output_type": "stream",
       "stream": "stdout",
       "text": [
        "\n",
        "test 8 - 55.762%"
       ]
      },
      {
       "output_type": "stream",
       "stream": "stdout",
       "text": [
        "\n",
        "  |      1      3      2      4      6      5      7 |\n",
        "--+--------------------------------------------------+\n",
        "1 | <20.1%>  1.9%   2.2%   2.6%   0.7%   0.4%   0.4% |\n",
        "3 |   7.8%  <6.3%>  1.9%   1.1%      .      .   0.4% |\n",
        "2 |   3.7%      . <11.5%>     .   0.4%      .      . |\n",
        "4 |   3.0%   0.7%      .  <9.3%>     .      .      . |\n",
        "6 |   5.6%      .   0.4%      .  <4.5%>     .   0.4% |\n",
        "5 |   3.7%   0.4%   1.1%      .   0.4%  <1.9%>     . |\n",
        "7 |   3.7%   0.4%   0.4%   0.4%   0.4%      .  <2.2%>|\n",
        "--+--------------------------------------------------+\n",
        "(row = reference; col = test)\n"
       ]
      },
      {
       "output_type": "stream",
       "stream": "stdout",
       "text": [
        "\n",
        "test 9 - 56.318%"
       ]
      },
      {
       "output_type": "stream",
       "stream": "stdout",
       "text": [
        "\n",
        "  |      1      2      3      5      4      6      7 |\n",
        "--+--------------------------------------------------+\n",
        "1 | <18.4%>  3.2%   1.8%   0.7%   2.9%   0.7%   0.4% |\n",
        "2 |   2.5% <13.0%>  0.4%   0.4%      .      .      . |\n",
        "3 |   3.6%   0.7% <10.1%>  0.4%   0.7%      .   0.4% |\n",
        "5 |   4.3%   0.4%   0.7%  <4.7%>  0.7%      .   1.1% |\n",
        "4 |   4.3%   0.4%   1.1%      .  <5.4%>  0.4%      . |\n",
        "6 |   4.3%   0.4%      .      .   0.4%  <4.0%>     . |\n",
        "7 |   4.3%   0.7%   0.7%   0.4%      .   0.4%  <0.7%>|\n",
        "--+--------------------------------------------------+\n",
        "(row = reference; col = test)\n"
       ]
      },
      {
       "output_type": "stream",
       "stream": "stdout",
       "text": [
        "\n"
       ]
      }
     ],
     "prompt_number": 11
    },
    {
     "cell_type": "code",
     "collapsed": false,
     "input": [
      "cl = extractor.get_classifier(sample_sets)"
     ],
     "language": "python",
     "metadata": {},
     "outputs": [],
     "prompt_number": 12
    },
    {
     "cell_type": "code",
     "collapsed": false,
     "input": [
      "errors = extractor.show_errors(sample_sets, classifier=classifier)"
     ],
     "language": "python",
     "metadata": {},
     "outputs": [],
     "prompt_number": 18
    },
    {
     "cell_type": "code",
     "collapsed": false,
     "input": [
      "for e in errors:\n",
      "    print \"{:<5}{:<5}{}\".format(*e)"
     ],
     "language": "python",
     "metadata": {},
     "outputs": [
      {
       "output_type": "stream",
       "stream": "stdout",
       "text": [
        "2    1    what is defined as a deception deliberatly practiced in order to secure unfair or unlawful gain? this question is in regard to the legalities of fire investigation.\n",
        "1    2    what is ethernet? \n",
        "1    2    is there a way in ms excel to have a cell be equal to multiple cells? e.g.= d3 and d5, where d3 &amp; 5 are words? i'm trying to make a cell that has a list of other cells.  e.g. i want my cell to say [d4's value], [d5's value]&#xa;&#xa;can i do that?  right now when i try, excel spits out the #value error.  can you help?\n",
        "2    1    what's the best accounting program to buy for my small business? \n",
        "1    3    why did the replacements break up? \n",
        "1    6    how can i treat a burn? i was helpin my mom cook and got burned, eben though is small is still hurts\n",
        "1    5    instead of exluding discussions of evolution/creationism/intelligent design, why not teach all 3? why exclude? let people make up their own minds. seems to me if you leave one or two out, it 'authorizes' one view over any other.\n",
        "1    6    what is diferticulitis? it is an intestinal disorder\n",
        "1    7    do you believe in intelligent design or something else? i read an article on intelligent design and am just curious to see what others have to say about it.\n",
        "1    4    is their a possibility to put back ur honey?is he thinking of me too? \n",
        "1    2    why can't emailers 1) spell, 2) use good grammar, 3) proofread before sending? except non english speakers some of the replies to questions are so bad it is not worth the trouble to read them. have they no personal pride in how they are perceived?\n",
        "1    5    what do you think is the single most important event of a high schooler's life? \n",
        "5    7    submerged geometric shapes near cuba? these were discovered in the summer of 2004 (i think that was when).  the finders thought they were probably buildings, but no one could figure out how they could be so deep.  further research was planned.  how did this turn out?  anyone know what these are called?\n",
        "1    5    i'm trying to find out when a blueberry is red? \n",
        "4    1    can a wife or husband get their spouse medical records without a court order or subpena in arkansas and how? \n",
        "2    5    what protects a developing bird in a shell? is the shell, shell lining, and/or egg white the protection for a developing bird in a shell?\n",
        "1    6    my arm is numb due to nurve damage in my neck, it has been like that for approximately two mouths, musti do.? \n",
        "1    4    how would you know that he/she is the right one for you? \n",
        "3    1    how do i know if my chanel handbag is authentic? black, kidney bean shaped, two straps that are made of silver chains entertwined with leather.  two tassels are the zipper handles.\n",
        "1    3    who is the actress in the overstocked.com commercials? \n",
        "2    1    recently,i received a mail it informed me that i won a eaaslottery.is it right one or it belongs to trapping? sir,&#xa;    recently i recieved a mail it informed me that i won a lottery.its name is eaaslottery.i recieved it from barr_artha@hotmail.com.is it right one or belongs to cyber trapping?it also informed me that i have to pay 675dollars under the transactional charges of money.lottery worth is 250,000dollers. it is from holland[according to mail sender]. so i request u to answer me as soon as possible.&#xa;                                        thanking u,&#xa;                                        vip_raamineni\n",
        "4    7    if a tree falls in a forest and no one is around, does it make a sound? \n",
        "1    6    why do non-vegetarians get so defensive at the mere mention that one is a vegetarian? \n",
        "1    5    what is the capital of mongolia? \n",
        "1    6    if with in sexual contact with a person with std how many days before symptom appears? \n",
        "4    1    how do you get rid of a boyfriend who just does not get you do not want him anymore?? \n",
        "1    5    what does xoxo stand for? \n",
        "1    5    what was president wilson's opinion of wwi at the beginning of the war? did most americans agree with him? \n",
        "1    7    what is nanotechnology &amp; what is its scope? \n",
        "1    5    who said all paid jobs absorb and degrade the mind? \n",
        "5    1    what is the best 9 to 5 occupation attainable w/o a college degree? \n",
        "5    1    can someone *simply* explain what a stock short is? \n",
        "4    6    why do women live more than men? \n",
        "1    3    what is tia carrere's nationality? \n",
        "1    7    why does asparagus make your pee smell funny? \n",
        "4    2    what relationship does yahoo have with the government, and associated press? \n",
        "1    3    do advertising agencies let you audition for tv commercials if you're not a career actor? \n",
        "1    2    will the flock web browser be usefull? wondering if anyone thinks flock will be a usefull browser, or will people just put extensions on to firefox?\n",
        "3    7    what is the mass of black holes made of? \n",
        "1    7    why do people amputate dogs tail? what is the reason that some types of dog are considered to be better off with out their tail?\n",
        "1    4    should i return or keep the engagement ring to my ex-fiance? \n",
        "1    6    how do i treat a runny nose and non stop caugh? \n",
        "1    7    do you know a name of a male haitian mathematician? \n",
        "1    3    what is worse than biting an apple &amp; seeing a worm? \n",
        "2    1    trying to find a residential phone #, but cant find it in the yellow pages? \n",
        "4    3    what is the best place to party in sf? so i have been to sf once on broadway street with a lot of bars and clubs but somehow i didn't really like it because there are more strip clubs. where is the best street to find lots of nice clubs with normal women??? i prefer hip-hop or trance.\n",
        "1    7    convert the following please:                 55ft/lbs to n/m &amp; 65ft/lbs to n/m &amp; 75ft/lbs to n/m  thanks? \n",
        "1    4    i have a husband and im paying 95% of the bill should i dump him? \n",
        "1    7    is there anything that can make us live forever? \n",
        "1    4    how do i get a boy to tell how he feels about me? he likes me but he wont tell me\n",
        "1    5    what are 4 ways seeds travel? i am doing a project on how seeds travel! can you help me?\n",
        "1    7    do animals have feelings? can an animal feel regrets , compassion, sad, fear etc?\n",
        "1    2    what is a good platform for writing complex web apps in php? looking for a platform for handling business objects as well as application flow so people would not have to hard code each page transition and each business logic step in php.&#xa;&#xa;what do people recommend?\n",
        "2    1    i want to test someone for meth how long does it stay in the system? \n",
        "1    4    what are the best ways to cut back from 2 incomes to 1 income? (to be a housewife)? \n",
        "1    4    where could someone find an affordable engagement ring? like where could they go online to look for one one, not necessarily shop online for one but just to see the price and what it would look like.\n",
        "6    1    are boredom and anxiety related, or could they both be related to depression? what are common cures? \n",
        "4    1    are vuls really a good way to avoid paying taxes on income obtained in investments? i'm considering getting into a variable universal life policy, and i want to know if it is a good idea or if it's better to buy term and invest the difference.\n",
        "1    4    where are the escorts in ks? \n",
        "1    6    is dayquil a good medicine for the flu?? and vomiting? \n",
        "7    5    what's better study in your country or in some other one where u not belong to ? first i've been accepted in my country university in some colege that i do'nt like very mutch\n",
        "1    3    do you think eminem is the best rapper ever???? well emienm...i believe you em to the core....the most &#xa;popular rapper even in india,a place where ppl rarely hear hip-hop n rap...wat ya say???\n",
        "1    3    it come in a pack ,get lit, hang on to ur lips, make you puff ,go out unexpectedly what is thisly? \n",
        "1    3    what is axel rose up to now? \n",
        "1    7    what is the oldest evidence of life? \n",
        "6    7    is gas milage better in cold weather.does gas expand giving you more.? \n",
        "1    3    where is the best karaoke club (ktv) in the south bay? looking for ktv with private rooms, not a karaoke bar.\n",
        "6    4    how can you cause a toddler to do something that they don't want to do? \n",
        "1    6    what is the website for the exercise called the core with gunner? its an execise with the ball called the core and trainer name is gunner\n",
        "1    3    what is emo? \n",
        "6    3    why is e-mail the same as a penis? \n",
        "1    3    why are paris hilton and nicole richie fighting? i thought they were bff!\n",
        "1    7    is talc shiney or not shiney.? \n",
        "1    4    if i have sex with this one guy is it going to hurt? i'm a virgin and i really want to you know what so is it gonna hurt or not the much, becasue i totally hate the idea of him getting me all wet\n",
        "1    5    can anyone tell me how a tablet(medicine) works? \n",
        "2    1    how can i reduce the size of a picture? with what program?\n",
        "7    5    what are five names of us cities adopted from greek? \n",
        "1    6    should you tell someone you don't know that their breath smells? is is ethical to point it out or just keep it to yourself?\n",
        "1    5    can someone direct to me to a good site about volcanoes? i need to know the top 10 deadliest volcano in the world.\n",
        "1    6    how many mg of vitamin c should be taken per day for an adult to fight the common cold.  can you take to much? \n",
        "1    4    how can i increase the volume of my sperm when i orgasm? \n",
        "2    1    are wolves being bread in captivity for release? and how do you sighn up for the program?\n",
        "1    2    what is the best lcd monitor 19-25? don't want to go overboard on budget or features. just want something better than a 17 monitor to work and play with.&#xa;&#xa;more interested in quality, performance, ease of use.\n",
        "4    1    how do i hi meet a girl i've tried everthing can't seem to anyone please help? \n",
        "5    1    do you go to public of private school? dont tell me what school you go to.? \n",
        "2    3    does stairway to heaven really have secret messages? i got a backwards version once, and i heard them, but my suspicion is that it's doctored. the sounds don't really line up to what's being played forward... but i could be wrong. any thoughts?\n",
        "3    1    have you ever listened to the dark side of the moon with wizard of oz? \n",
        "1    3    what is nelly's real name? \n",
        "2    1    i can't find my answer to my security question so i can get my password? i am using my girlfriends email address to talk to you guys somebody that knows my information keeps changing my password and security answer and she has changed it again i can't access my account because i don't know my security answer please help my name is david_saxby@yahoo.com my birthdate is march 19 1976 i live in the united states and my zip code is 45648 please email me at natalie_tackett2003@yahoo.com with the answers thank you\n",
        "4    6    what is your experience with the nuvaring birth control? do women like nuvaring? do men feel the nuvaring?\n",
        "1    3    what's the name of paris hilton's pet dog? \n",
        "1    5    is there a loan company that will loan me money, without my wifes credit being involved? i am not enrolled in school but my wife is.  her credit is ruined, so we need info. on a company that will allow me to borrow money without her. she is a full time student in the nursing program, and we need this for school and living expenses.   thanks\n",
        "1    2    what is web 2.0? \n",
        "1    4    there's this older guy that i like...how do i get him to notice me? i'm not particularly pretty but i really like this man but i'm not sure he'll like me the same.  any advise on how the ugly duckling can capture the handsome frog's heart?\n",
        "1    7    is dna the real map from where we come from and where we go to???? \n",
        "1    7    why does zebras have stripes? what is the purpose or those stripes? who do they serve the zebras in the wild life?\n",
        "1    6    what's the best sleeping aid? \n",
        "1    2    how come i cannot remove the advertisement on the right hand side of my top screen? my area to read my email is so small, if i could only get rid of the advertisement it would be much easier to view email.\n",
        "2    1    how would you change the site; www.gadgetell.com? \n",
        "2    1    where can i find instructions/diagrams on how to install a car stereo? \n",
        "1    2    what is trillian and what is the web address? \n",
        "5    6    what is the psychological term or disorder, for people who see imaginary people or animals? \n",
        "2    5    why does a 40+ computer support technician need to take pre-calculus? i major in information systems and have to take math classes. i am phobic when it comes to math, especially algebra....letters and numbers that make no sense.  when i ask instructor why i need to take it at my age, no one has a real answer.\n",
        "1    7    what are gamma ray bursts? i heard about those, but have just a vague understanding about them.\n",
        "7    5    does teenage drinking influence the cause of depression? \n",
        "3    7    how come when ever you did a hole there is never enough dirt to fill it back in? \n",
        "2    5    what is the best part time mba program in atlanta, ga? \n",
        "1    5    what is the world's largest island? \n",
        "6    4    is it true that there is a higher risk of catching aids true oral sex that regular sex? \n",
        "2    3    how do you set-up a personal video recorder without monthly fees? i figure why pay tivo or a cable company or a satellite company to use a personal video recorder, after all, it's just a piece of timer software that records data to a hard drive. just a matter of getting the tv listings, hooking up a home computer and finding the right software for one-time up front cost (something cheap, like $50 and not 300-500 like tivo/replaytv charge you).\n",
        "1    4    can there be a mutally satisfiying realationship when one pattner does not enjoy sex? \n",
        "4    1    how do i make friends? \n",
        "1    6    why do we get dandruff? \n",
        "5    1    there are 3 words in the english language that end in gry. what are they? \n",
        "4    1    i want to become a professional motivational speaker. can anybody tell me the first steps? i also want to become a writer, and would like to know how to find an editor.\n",
        "1    3    how old is gwen stafani? \n",
        "3    1    whats you favorite chore? mine is relaxing and cleaning my room and watch my sister get in trouble\n",
        "1    4    how can u say im sori to da guy dat u hurt so much..he doesnt even wana tok to u???!!!*tears*? \n",
        "2    1    why is yahoo so cool ha can abyone awnser that!!!!!!!? \n",
        "7    5    what is an atom? \n",
        "1    4    why is it so hard meeting nice looking guy off the website (i'm gay and trying to meet some exciting guys) \n",
        "2    1    does anyone know about escun.com, escrow united? it is supposed to be an internet clearing house between a buyer and seller.\n"
       ]
      }
     ],
     "prompt_number": 20
    },
    {
     "cell_type": "code",
     "collapsed": false,
     "input": [
      "cl.show_most_informative_features(50)"
     ],
     "language": "python",
     "metadata": {},
     "outputs": [
      {
       "output_type": "stream",
       "stream": "stdout",
       "text": [
        "Most Informative Features\n",
        "               termscore = '4'                 4 : 2      =    224.9 : 1.0\n",
        "               termscore = '6'                 6 : 2      =    143.0 : 1.0\n",
        "               termscore = '5'                 5 : 2      =     69.6 : 1.0\n",
        "               termscore = '7'                 7 : 2      =     65.3 : 1.0\n",
        "               termscore = '3'                 3 : 6      =     52.4 : 1.0\n",
        "             has(window) = 1                   2 : 1      =     42.3 : 1.0\n",
        "             bigramscore = '4'                 4 : 2      =     33.5 : 1.0\n",
        "               has(pain) = 1                   6 : 1      =     31.9 : 1.0\n",
        "             has(comput) = 1                   2 : 4      =     29.8 : 1.0\n",
        "              has(music) = 1                   3 : 1      =     29.6 : 1.0\n",
        "             bigramscore = '2'                 2 : 4      =     27.3 : 1.0\n",
        "               termscore = '2'                 2 : 4      =     27.3 : 1.0\n",
        "               has(song) = 1                   3 : 1      =     25.3 : 1.0\n",
        "               has(caus) = 1                   6 : 1      =     25.3 : 1.0\n",
        "               has(girl) = 1                   4 : 7      =     24.9 : 1.0\n",
        "       has(relationship) = 1                   4 : 1      =     24.3 : 1.0\n",
        "             has(togeth) = 1                   4 : 1      =     24.3 : 1.0\n",
        "               has(movi) = 1                   3 : 4      =     22.5 : 1.0\n",
        "              has(studi) = 1                   5 : 1      =     22.0 : 1.0\n",
        "             bigramscore = '5'                 5 : 1      =     21.8 : 1.0\n",
        "          has(boyfriend) = 1                   4 : 3      =     21.4 : 1.0\n",
        "         has(girlfriend) = 1                   4 : 1      =     21.4 : 1.0\n",
        "              has(medic) = 1                   6 : 1      =     20.9 : 1.0\n",
        "             has(colleg) = 1                   5 : 2      =     20.4 : 1.0\n",
        "            has(marriag) = 1                   4 : 1      =     19.9 : 1.0\n",
        "             has(friend) = 1                   4 : 5      =     19.5 : 1.0\n",
        "           has(internet) = 1                   2 : 3      =     18.8 : 1.0\n",
        "               has(bodi) = 1                   6 : 1      =     18.7 : 1.0\n",
        "             has(weight) = 1                   6 : 1      =     18.7 : 1.0\n",
        "              has(cheat) = 1                   4 : 1      =     18.4 : 1.0\n",
        "              has(yahoo) = 1                   2 : 5      =     18.1 : 1.0\n",
        "               has(feel) = 1                   4 : 2      =     17.9 : 1.0\n",
        "                has(use) = 1                   2 : 4      =     17.6 : 1.0\n",
        "             has(school) = 1                   5 : 1      =     17.5 : 1.0\n",
        "            has(softwar) = 1                   2 : 1      =     16.6 : 1.0\n",
        "              has(blood) = 1                   6 : 1      =     16.5 : 1.0\n",
        "              has(smoke) = 1                   6 : 1      =     16.5 : 1.0\n",
        "               has(love) = 1                   4 : 6      =     16.2 : 1.0\n",
        "               has(rock) = 1                   3 : 1      =     15.8 : 1.0\n",
        "            has(program) = 1                   2 : 3      =     15.2 : 1.0\n",
        "             has(realli) = 1                   4 : 5      =     14.3 : 1.0\n",
        "              has(woman) = 1                   4 : 1      =     13.7 : 1.0\n",
        "              has(marri) = 1                   4 : 1      =     13.7 : 1.0\n",
        "               has(keep) = 1                   4 : 3      =     13.6 : 1.0\n",
        "            has(univers) = 1                   7 : 1      =     13.5 : 1.0\n",
        "               has(moon) = 1                   7 : 1      =     13.5 : 1.0\n",
        "             has(instal) = 1                   2 : 1      =     13.2 : 1.0\n",
        "              has(fight) = 1                   6 : 1      =     12.5 : 1.0\n",
        "            has(magazin) = 1                   3 : 1      =     12.0 : 1.0\n",
        "             has(episod) = 1                   3 : 1      =     12.0 : 1.0\n"
       ]
      }
     ],
     "prompt_number": 14
    },
    {
     "cell_type": "code",
     "collapsed": false,
     "input": [
      "final_features = util.make_feature(extractor, final_sets)"
     ],
     "language": "python",
     "metadata": {},
     "outputs": [],
     "prompt_number": 15
    },
    {
     "cell_type": "code",
     "collapsed": false,
     "input": [
      "submission = util.make_submission(cl, final_features, writeto=\"submission27.csv\")"
     ],
     "language": "python",
     "metadata": {},
     "outputs": [],
     "prompt_number": 16
    }
   ],
   "metadata": {}
  }
 ]
}