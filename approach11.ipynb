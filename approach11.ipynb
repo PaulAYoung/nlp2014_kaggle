{
 "metadata": {
  "name": "",
  "signature": "sha256:cf3db21362562665353fd873f9570513a952f677b70927f4dd8a7d04dd061275"
 },
 "nbformat": 3,
 "nbformat_minor": 0,
 "worksheets": [
  {
   "cells": [
    {
     "cell_type": "code",
     "collapsed": false,
     "input": [
      "import cPickle as pickle\n",
      "import re\n",
      "import random\n",
      "from os import path\n",
      "\n",
      "import nltk\n",
      "\n",
      "import testing_util as util\n",
      "import term_scoring\n",
      "from testing_util import sample_sets, final_sets\n",
      "import tfidf_class"
     ],
     "language": "python",
     "metadata": {},
     "outputs": [],
     "prompt_number": 1
    },
    {
     "cell_type": "code",
     "collapsed": false,
     "input": [
      "stopwords = nltk.corpus.stopwords.words('english')\n",
      "stemmer = nltk.PorterStemmer()\n",
      "\n",
      "def get_terms(t):\n",
      "    \"\"\"\n",
      "    This is used to get the relevant items out of text. \n",
      "    \"\"\"\n",
      "    tokens = nltk.word_tokenize(t)\n",
      "    return [w.lower() for w in tokens if len(w)>3 and (w not in stopwords)]"
     ],
     "language": "python",
     "metadata": {},
     "outputs": [],
     "prompt_number": 2
    },
    {
     "cell_type": "code",
     "collapsed": false,
     "input": [
      "from nltk.classify import SklearnClassifier\n",
      "from sklearn.svm import SVC"
     ],
     "language": "python",
     "metadata": {},
     "outputs": [],
     "prompt_number": 3
    },
    {
     "cell_type": "code",
     "collapsed": false,
     "input": [
      "tfidf_checker = tfidf_class.TfidfRater(get_terms, nterms=100)"
     ],
     "language": "python",
     "metadata": {},
     "outputs": [],
     "prompt_number": 4
    },
    {
     "cell_type": "code",
     "collapsed": false,
     "input": [
      "classifier = nltk.classify.NaiveBayesClassifier\n",
      "#classifier = SklearnClassifier(SVC(), sparse=False)"
     ],
     "language": "python",
     "metadata": {},
     "outputs": [],
     "prompt_number": 5
    },
    {
     "cell_type": "code",
     "collapsed": false,
     "input": [
      "extractor = util.FeatureExtractor()\n",
      "extractor.add_extractor(tfidf_checker, trained=True)"
     ],
     "language": "python",
     "metadata": {},
     "outputs": [],
     "prompt_number": 6
    },
    {
     "cell_type": "code",
     "collapsed": false,
     "input": [
      "errors = extractor.show_errors(sample_sets, classifier=classifier)"
     ],
     "language": "python",
     "metadata": {},
     "outputs": [],
     "prompt_number": 7
    },
    {
     "cell_type": "code",
     "collapsed": false,
     "input": [
      "errors"
     ],
     "language": "python",
     "metadata": {},
     "outputs": [
      {
       "metadata": {},
       "output_type": "pyout",
       "prompt_number": 8,
       "text": [
        "[('1', '2', 'what is adsense? '),\n",
        " ('1', '7', 'why is the sky blue? '),\n",
        " ('1',\n",
        "  '4',\n",
        "  'i need a creative gift for my wife, something i can make not buy? anyone ever make something special for their wife that made her smile. i need an idea'),\n",
        " ('1',\n",
        "  '4',\n",
        "  'if you like someone and your not sure they will like you back what shall you do? '),\n",
        " ('1', '4', 'how do i stop myself from falling in love? '),\n",
        " ('1', '4', 'can i stop my husband from being so angry? '),\n",
        " ('2',\n",
        "  '1',\n",
        "  'two ? about developing a sitcom. 1.how do i protect my idea before sharing it? 2.who do i go to with it? i am wondering if there is a simple way to protect and prove that i had a certain idea for a sitcom before i go to anyone with it.  i have heard of simple things like sending a document via certified mail to yourself to prove the date that the idea originated.  i also would like to know the best way to share the idea with a realistic chance of getting to a network (abc, nbc, cbs, fox, etc).'),\n",
        " ('1', '2', 'how do i clear my search history on yahoo? '),\n",
        " ('3',\n",
        "  '1',\n",
        "  'how can i improve my english fastly? i am so sad because i can not speak english...i want to talk to my friends but they speak very well...sometime one guy talked to me but i can not understand what he said...i am so sad...i want to know how can i improve my  english fastly...i can not go to the english school after main school ...hic...so poor me...i need some help...can you help me?'),\n",
        " ('1', '2', 'why am i getting so much spam (50)in my bulk mail slot? '),\n",
        " ('1', '5', 'why is the middle finger considerd a bad finger? '),\n",
        " ('1',\n",
        "  '6',\n",
        "  'does echinacea really help prevent colds? or is a waste of money...'),\n",
        " ('1', '7', 'what are best general purpose binoculars for astronomy? '),\n",
        " ('1', '5', 'what does the q in q-tip stand for? '),\n",
        " ('1', '2', 'why cant i veiw peoples cams? '),\n",
        " ('5',\n",
        "  '3',\n",
        "  'how could bethoven know that the symphony sounds good unless he is deaf? '),\n",
        " ('1',\n",
        "  '3',\n",
        "  'how can i meet jonathan schech, now that christina applegate is no longer with him? '),\n",
        " ('1', '5', 'what is socio - economic ? '),\n",
        " ('1', '2', 'how do you intergrate ssl with a web based site? '),\n",
        " ('1',\n",
        "  '6',\n",
        "  'has anyone had bells palsy...if so..how long til first noticed any recovery/improvement. thanks s? '),\n",
        " ('1', '5', 'i need pictures on the italy basilic? '),\n",
        " ('5',\n",
        "  '3',\n",
        "  \"what's does the lock of hair mean at the end of gattaca? i just watched gattaca yesterday (the 1997 sci-fi film with ethan hawke and uma thurman).  at the end of the film when vincent is the the space ship shooting towards saturn, he finds the lock of hair that jerome has given him.  what's the significance of this gesture?&#xd;&lt;br&gt;&lt;br&gt;good film, btw.\"),\n",
        " ('1',\n",
        "  '5',\n",
        "  \"where can i learn all about flags? i need to find out what a flag's colors mean and its history.\"),\n",
        " ('3',\n",
        "  '2',\n",
        "  'how to permote a site at zero cost?? i have built a site http://cooltechno.250free.com and wana permote it what to do??'),\n",
        " ('1', '3', \"can you name 10 famous belgians? smurfs don't count\"),\n",
        " ('1', '7', 'farienheight to celsius? how do you convert them???'),\n",
        " ('5',\n",
        "  '7',\n",
        "  'where is there a heat of formation chart that includes barium compounds and nh3? baoh&#xa;&#xa;ba(no3)2&#xa;&#xa;nh3'),\n",
        " ('5',\n",
        "  '1',\n",
        "  'where can i buy timberlin boots and get them air brushed??? i want to buy the timberlin boots and what to personalize them with my initals.'),\n",
        " ('1', '7', 'is talc shiney or not shiney.? '),\n",
        " ('1',\n",
        "  '3',\n",
        "  'on the simpsons, what state is springfield in? i think it might be illinois....any other opinions?'),\n",
        " ('4',\n",
        "  '1',\n",
        "  'with one year left on my lease for my retail store, when should i begin to re-negotiate for a new one? i have a retail store with one year left on my lease. i am wondering when would be a good time to start talks with the landlord. should i wait for another 3 months or perhaps 6 months? or should i let it be known i want to extend it now?'),\n",
        " ('1',\n",
        "  '4',\n",
        "  'how do slow down and not get so excited in stressfull situations with the ones i love? '),\n",
        " ('1', '5', \"i'm trying to find out when a blueberry is red? \"),\n",
        " ('1',\n",
        "  '7',\n",
        "  'i am a 9th grader.i have to make a mathematics project. pls suggest something? '),\n",
        " ('4', '3', 'does halle berry have a new boyfriend? '),\n",
        " ('1', '7', 'what is the other nickname of georgia besides peach state? '),\n",
        " ('1', '3', \"what's your favorite ...walk into a bar joke? \"),\n",
        " ('1', '4', \"if a man cheats on you and says he won't do it again, will he? \"),\n",
        " ('1',\n",
        "  '2',\n",
        "  'where best to find free but original movies to download? both vcd and dvd.'),\n",
        " ('1', '5', 'what does xoxo stand for? '),\n",
        " ('1', '3', 'what is the best electronic out? '),\n",
        " ('1', '4', \"how do you know when someone's cheating on you? \"),\n",
        " ('1', '3', 'who wrote the screen play for the big lebowski? '),\n",
        " ('3', '4', 'how can men hold their orgasms? '),\n",
        " ('1', '3', 'is there anywhere that rents umd movies for psp? '),\n",
        " ('4',\n",
        "  '5',\n",
        "  \"how do you make a sudoku puzzle? everytime i fill one in and it always says made by hand does this meana machine can't make them?&#xa;&#xa;i would rather get an answer to my first question please.\"),\n",
        " ('1', '7', 'what is cold? '),\n",
        " ('5',\n",
        "  '4',\n",
        "  \"how do you catch a grrr if you don't have alot of time to do so??? my job gives me alot of exposure to pretty grrrs, i can detect some chemistry w/ some, mannerisms, looks, hanging out for an hour. all too often they slip away before i can make a sale w/ them. i'm trying to be a gentleman and not make gimmie ur # part of what i do in my work. i want people to feel comfortable here, but ohhh you pretty grrrs!&#xa;what to do?, you cyber grrrs won't give me a chance.&#xa;all i have left is my job.\"),\n",
        " ('1', '5', 'who is the most highly regarded national college fraternity? '),\n",
        " ('2', '7', 'what are the odds of life on another planet? '),\n",
        " ('1', '4', 'can you give me tips on how to get over an ex? '),\n",
        " ('7',\n",
        "  '4',\n",
        "  \"is it wrong to be in love with someone else when im unhappily married? i'm in love with someone long distance but i'm unhappily married with kids and i've never met the person i'm in love with and we've been in love for almost 5 years and each day gets harder. i'm trying to do whats best to keep me happy but i always wind up leading to dead ends. its stressful and frustrating when i'm not the richest person in the world to find a way to happiness. my life is stressful as is. i just feeel emotionally drained and frustrated from it all. can anyone help me out? thanks.\"),\n",
        " ('1',\n",
        "  '5',\n",
        "  'how to get rid of a beehive? who can tell me how to get rid of a beehive with out getting stung?'),\n",
        " ('1', '3', 'who is eddie van halen? '),\n",
        " ('1', '6', 'what is noni juice? '),\n",
        " ('1', '7', 'can water be hotter then 100 celsius degrees? '),\n",
        " ('1', '2', 'how to fix 02b0 - diskette drive a error? '),\n",
        " ('6',\n",
        "  '3',\n",
        "  'how do you stopyour mom from watching soap operas? my mom will not stop watching soap operas.'),\n",
        " ('1', '7', 'which came first, the chicken or the egg? '),\n",
        " ('1',\n",
        "  '7',\n",
        "  \"how was einstein's general relativity theory proven ? when was it, where was it and by whom?\"),\n",
        " ('1', '4', 'how many people here belive in love or u think its just fun? '),\n",
        " ('5',\n",
        "  '3',\n",
        "  \"where can i find the french/japanese cartoon les myst\\xc3\\xa9rieuses cit\\xc3\\xa9s d'or on dvd? it was a cartoon when i was a kid (mid 80s) about a spanish boy esteban and his two maya friends who were searching through central america in a giant golden flying condor. &#xa;&#xa;the series was set during the spanish conquest of the americas.  &#xa;&#xa;that show was so awesome.  i want to see it again\"),\n",
        " ('1',\n",
        "  '5',\n",
        "  \"what was james bond's wife's name? i seem to be having my temporary memory lapse and can't seem to be recollecting my deceased wife's name. can someone help?&#xd;&lt;br&gt;&lt;br&gt;-- 007\"),\n",
        " ('1', '5', 'is it mongooses or mongeese? '),\n",
        " ('1', '7', 'why can i see myself in a mirror? '),\n",
        " ('1',\n",
        "  '6',\n",
        "  'how do you stop a nervous habit of biting the inside of my mouth? '),\n",
        " ('1', '6', 'which is better for your body: orange or milk? '),\n",
        " ('1',\n",
        "  '6',\n",
        "  \"should you tell someone you don't know that their breath smells? is is ethical to point it out or just keep it to yourself?\"),\n",
        " ('1', '4', 'what turns a fat lady on? '),\n",
        " ('1', '6', 'what should you eat when you have high blood pressure? '),\n",
        " ('1', '2', 'how what website is a good host for free with no bannar ads? '),\n",
        " ('1',\n",
        "  '4',\n",
        "  'is there such a thing as a soulmate? or is it all new age hocus pocus?'),\n",
        " ('1',\n",
        "  '4',\n",
        "  'how do you ask another woman is she is intrested in having sex with (me) the same sex without being rude? '),\n",
        " ('1', '5', \"what are the two names of the town in it's a wonderful life? \"),\n",
        " ('5',\n",
        "  '6',\n",
        "  'hello dos eaney bodey know fo a alternative releaf for lupus sufferes thanks genuing question? '),\n",
        " ('4',\n",
        "  '1',\n",
        "  'me and my boyfriend have been going out for a week. will we last? '),\n",
        " ('1', '7', 'how is the climate in chennai city? '),\n",
        " ('4', '1', 'am i the only person who really, really hate clowns? '),\n",
        " ('2',\n",
        "  '5',\n",
        "  'i need help with using sparknotes.com. please click this q if you can help for more details. thanx? will sum1 go to www.sparknotes.com and find a chp by chp summary of summer of the monkeys and then post it onto the answers.thanyou so much cuz i dont know how. i tried but cant.'),\n",
        " ('1',\n",
        "  '3',\n",
        "  'who will win if the silver surfer &amp; superman ever meet one on one? try being imaginative'),\n",
        " ('1',\n",
        "  '2',\n",
        "  'are there any ms access templates to create a structured survey/questionnaire? preferably at no cost. i need the survey to be able to go to certain questions based on answers. for example, if yes -&gt; q12 if no -&gt; q19. needs to work in an ms access environment, preferably through a web interface.'),\n",
        " ('4',\n",
        "  '3',\n",
        "  'are jennifer aniston and vince vaughn still dating or are they engaged or is it all over between them anymore? '),\n",
        " ('1', '7', 'why is the earth round? '),\n",
        " ('1', '2', 'can any 1 tell me... what is rss? '),\n",
        " ('1', '5', \"what is the world's largest island? \"),\n",
        " ('1', '2', 'what is the difference between dvd+r and dvd-r? '),\n",
        " ('1',\n",
        "  '4',\n",
        "  'met some one on line! both feel same about on another ! am i being played  ,how do i know if real or not     ? '),\n",
        " ('1', '3', 'what do you really think about ashanti? '),\n",
        " ('1', '2', 'what is raid 0 1 5 have to do with backup drives.? '),\n",
        " ('1',\n",
        "  '2',\n",
        "  'what is the internet missing? with everything we can do on the internet, what is it missing, what do you wish you could do on the internet, but currently cant?'),\n",
        " ('1', '3', \"what is tia carrere's nationality? \"),\n",
        " ('1', '5', 'what is the white cane law? '),\n",
        " ('1', '7', 'how big is the moon? '),\n",
        " ('1',\n",
        "  '5',\n",
        "  'why is it important to separate current liabilities from long term liabilities? '),\n",
        " ('1', '5', 'how come fire trucks are red? how come fire trucks are red?'),\n",
        " ('1',\n",
        "  '3',\n",
        "  'tru calling? does anyone know why tru calling on fox was cancelled?'),\n",
        " ('1', '2', 'what is the difference between blog and xanga? '),\n",
        " ('1',\n",
        "  '7',\n",
        "  'what is the temperature on the sun and how to calculate the lost of heat per distance from it? so, what will be the distance from the sun that makes it reasonable to look for life?'),\n",
        " ('1', '6', 'why do babies have to come out head first? '),\n",
        " ('2',\n",
        "  '3',\n",
        "  'where can i find a website where i can download free music without paying or signing up? i need a website to where i can click and listen and download free.'),\n",
        " ('1', '4', 'why girls hasitate to talk with me? '),\n",
        " ('4',\n",
        "  '5',\n",
        "  'how do you find out if, someone deceased, was in the military? as far as i know my deceased father was in the army. i have no family members who would know this information. i need it for college.'),\n",
        " ('1',\n",
        "  '4',\n",
        "  \"why do women mean yes when they say no, and mean no when they say yes? don't ever try to give a honest answer when they ask: do you think i'm fat? you can say the true, it won't hurt\"),\n",
        " ('1', '2', \"how do i look at someone's yahoo profile and pics? \"),\n",
        " ('1', '6', 'why do we get dandruff? '),\n",
        " ('4',\n",
        "  '1',\n",
        "  'did you ever have alot of guys ask you out in at least 20 min? i did i want to see if its normal for a girl'),\n",
        " ('1', '2', 'how do i create my yahoo signature? '),\n",
        " ('1', '3', 'is anyone else in total love/lust with sara silverman? '),\n",
        " ('1',\n",
        "  '7',\n",
        "  'what is the difference between permutations and combinations? the formulas would be helpful as well!'),\n",
        " ('1', '2', \"what is the best website to go to when your bored? i'm bored...\"),\n",
        " ('1', '4', 'are there any women that like sex more than their mate? '),\n",
        " ('1', '2', 'how do i keep history from saving on my yahoo search bar? '),\n",
        " ('4',\n",
        "  '1',\n",
        "  \"what do i buy my boyfriend? i live with my boyfriend and yet i have no idea what to get him for christmas! he's the man who has it all, so it's really difficult to decide. he's a computer geek into gourmet food, his weimerianer, photography and modern art/architecture. help!\"),\n",
        " ('1', '5', 'which search engine has a mascot named arfie? '),\n",
        " ('1', '2', 'what is a double layer dvd burner? '),\n",
        " ('1', '5', 'what is the best way to study? '),\n",
        " ('1',\n",
        "  '3',\n",
        "  \"figure this one out? i'm not really more than holes tied to more holes; i'm strong as good steel, though not as stiff as a pole. what am i?\"),\n",
        " ('4',\n",
        "  '3',\n",
        "  'who is tyson ritter from the band  all american rejects dating? '),\n",
        " ('1', '5', 'how many words can you make from pineapple? '),\n",
        " ('1', '5', 'what is the capital of mongolia? '),\n",
        " ('1', '6', 'what are the best products for wet shaving? '),\n",
        " ('1', '7', 'what is a brockenspecter and what causes it? '),\n",
        " ('1',\n",
        "  '3',\n",
        "  'who was the first model to ever appear on the cover of sports illustrated? '),\n",
        " ('1', '2', 'how can i make money off my blog? ')]"
       ]
      }
     ],
     "prompt_number": 8
    },
    {
     "cell_type": "code",
     "collapsed": false,
     "input": [
      "extractor.test(sample_sets, folds=10,confusion=True, classifier=classifier, num_tests=1)"
     ],
     "language": "python",
     "metadata": {},
     "outputs": [
      {
       "output_type": "stream",
       "stream": "stdout",
       "text": [
        "**************************\n",
        "Run 0\n",
        "**************************\n",
        "test 0 - 64.312%"
       ]
      },
      {
       "output_type": "stream",
       "stream": "stdout",
       "text": [
        "\n",
        "  |      1      4      2      3      5      7      6 |\n",
        "--+--------------------------------------------------+\n",
        "1 | <25.3%>  0.4%   0.7%      .      .      .      . |\n",
        "4 |   7.4%  <8.9%>     .   0.4%      .      .      . |\n",
        "2 |   4.5%      .  <9.3%>     .      .      .      . |\n",
        "3 |   4.5%      .   0.4%  <7.1%>     .      .      . |\n",
        "5 |   5.6%      .      .      .  <5.2%>     .      . |\n",
        "7 |   6.3%      .      .      .      .  <4.1%>     . |\n",
        "6 |   5.6%      .      .      .      .      .  <4.5%>|\n",
        "--+--------------------------------------------------+\n",
        "(row = reference; col = test)\n"
       ]
      },
      {
       "output_type": "stream",
       "stream": "stdout",
       "text": [
        "\n",
        "test 1 - 69.145%"
       ]
      },
      {
       "output_type": "stream",
       "stream": "stdout",
       "text": [
        "\n",
        "  |      1      2      3      4      7      5      6 |\n",
        "--+--------------------------------------------------+\n",
        "1 | <29.4%>     .   0.4%      .      .      .      . |\n",
        "2 |   7.8%  <8.9%>  0.4%      .      .      .      . |\n",
        "3 |   3.7%   0.4% <10.0%>  0.4%      .      .      . |\n",
        "4 |   5.9%      .      .  <6.3%>     .      .      . |\n",
        "7 |   4.5%      .   0.4%      .  <5.9%>     .      . |\n",
        "5 |   3.7%      .      .      .      .  <4.5%>     . |\n",
        "6 |   3.3%      .      .      .      .      .  <4.1%>|\n",
        "--+--------------------------------------------------+\n",
        "(row = reference; col = test)\n"
       ]
      },
      {
       "output_type": "stream",
       "stream": "stdout",
       "text": [
        "\n",
        "test 2 - 67.286%"
       ]
      },
      {
       "output_type": "stream",
       "stream": "stdout",
       "text": [
        "\n",
        "  |      1      3      2      4      5      6      7 |\n",
        "--+--------------------------------------------------+\n",
        "1 | <30.9%>  0.4%   0.7%      .      .      .      . |\n",
        "3 |   8.2% <10.4%>     .   0.4%      .      .      . |\n",
        "2 |   4.8%   0.4%  <8.9%>     .      .      .      . |\n",
        "4 |   5.6%      .      .  <6.7%>     .      .      . |\n",
        "5 |   4.8%      .      .      .  <3.7%>     .      . |\n",
        "6 |   3.3%      .      .   0.4%      .  <4.8%>     . |\n",
        "7 |   3.7%      .      .      .      .      .  <1.9%>|\n",
        "--+--------------------------------------------------+\n",
        "(row = reference; col = test)\n"
       ]
      },
      {
       "output_type": "stream",
       "stream": "stdout",
       "text": [
        "\n",
        "test 3 - 71.004%"
       ]
      },
      {
       "output_type": "stream",
       "stream": "stdout",
       "text": [
        "\n",
        "  |      1      3      2      4      6      5      7 |\n",
        "--+--------------------------------------------------+\n",
        "1 | <28.3%>     .   0.4%   0.7%      .      .      . |\n",
        "3 |   6.3% <10.0%>     .   0.7%      .      .      . |\n",
        "2 |   4.1%      . <11.5%>     .      .      .      . |\n",
        "4 |   5.6%      .      .  <7.1%>     .      .      . |\n",
        "6 |   4.1%      .      .      .  <5.2%>     .      . |\n",
        "5 |   3.7%      .   0.4%      .      .  <4.1%>     . |\n",
        "7 |   3.0%      .      .      .      .      .  <4.8%>|\n",
        "--+--------------------------------------------------+\n",
        "(row = reference; col = test)\n"
       ]
      },
      {
       "output_type": "stream",
       "stream": "stdout",
       "text": [
        "\n",
        "test 4 - 75.093%"
       ]
      },
      {
       "output_type": "stream",
       "stream": "stdout",
       "text": [
        "\n",
        "  |      1      2      3      4      5      7      6 |\n",
        "--+--------------------------------------------------+\n",
        "1 | <27.9%>  0.4%   0.4%   0.7%      .      .      . |\n",
        "2 |   7.8% <11.9%>     .      .      .      .      . |\n",
        "3 |   1.9%      . <10.4%>     .      .   0.4%      . |\n",
        "4 |   4.5%      .      .  <7.4%>     .      .      . |\n",
        "5 |   2.6%      .      .      .  <7.4%>     .      . |\n",
        "7 |   3.3%      .   0.4%      .      .  <4.5%>  0.4% |\n",
        "6 |   2.2%      .      .      .      .      .  <5.6%>|\n",
        "--+--------------------------------------------------+\n",
        "(row = reference; col = test)\n"
       ]
      },
      {
       "output_type": "stream",
       "stream": "stdout",
       "text": [
        "\n",
        "test 5 - 70.260%"
       ]
      },
      {
       "output_type": "stream",
       "stream": "stdout",
       "text": [
        "\n",
        "  |      1      2      3      4      7      5      6 |\n",
        "--+--------------------------------------------------+\n",
        "1 | <24.9%>  0.4%      .   0.4%      .   0.7%      . |\n",
        "2 |   5.9% <10.8%>     .      .      .      .      . |\n",
        "3 |   7.1%      .  <8.2%>     .      .      .      . |\n",
        "4 |   3.7%      .   0.4%  <9.7%>     .      .      . |\n",
        "7 |   3.7%      .      .      .  <6.7%>     .      . |\n",
        "5 |   4.1%      .      .      .      .  <5.2%>     . |\n",
        "6 |   3.0%   0.4%      .      .      .      .  <4.8%>|\n",
        "--+--------------------------------------------------+\n",
        "(row = reference; col = test)\n"
       ]
      },
      {
       "output_type": "stream",
       "stream": "stdout",
       "text": [
        "\n",
        "test 6 - 69.145%"
       ]
      },
      {
       "output_type": "stream",
       "stream": "stdout",
       "text": [
        "\n",
        "  |      1      2      3      5      4      6      7 |\n",
        "--+--------------------------------------------------+\n",
        "1 | <26.8%>  0.4%      .      .      .      .      . |\n",
        "2 |   5.9% <11.2%>     .      .      .      .      . |\n",
        "3 |   3.7%      . <12.6%>     .      .      .      . |\n",
        "5 |   5.6%   0.4%   0.4%  <5.6%>     .      .      . |\n",
        "4 |   4.8%      .      .      .  <4.8%>     .      . |\n",
        "6 |   4.8%      .      .      .      .  <4.5%>     . |\n",
        "7 |   4.8%      .      .      .      .      .  <3.7%>|\n",
        "--+--------------------------------------------------+\n",
        "(row = reference; col = test)\n"
       ]
      },
      {
       "output_type": "stream",
       "stream": "stdout",
       "text": [
        "\n",
        "test 7 - 69.888%"
       ]
      },
      {
       "output_type": "stream",
       "stream": "stdout",
       "text": [
        "\n",
        "  |      1      2      3      4      7      6      5 |\n",
        "--+--------------------------------------------------+\n",
        "1 | <29.4%>  0.4%      .      .      .      .      . |\n",
        "2 |   6.3% <11.5%>  0.4%      .      .      .      . |\n",
        "3 |   4.1%      .  <8.2%>     .      .      .      . |\n",
        "4 |   5.6%      .      .  <5.9%>     .      .      . |\n",
        "7 |   5.2%      .      .      .  <5.2%>     .      . |\n",
        "6 |   4.8%      .      .   0.4%      .  <4.5%>     . |\n",
        "5 |   3.0%      .      .      .      .      .  <5.2%>|\n",
        "--+--------------------------------------------------+\n",
        "(row = reference; col = test)\n"
       ]
      },
      {
       "output_type": "stream",
       "stream": "stdout",
       "text": [
        "\n",
        "test 8 - 66.171%"
       ]
      },
      {
       "output_type": "stream",
       "stream": "stdout",
       "text": [
        "\n",
        "  |      1      3      2      4      7      6      5 |\n",
        "--+--------------------------------------------------+\n",
        "1 | <24.2%>     .   0.4%      .      .      .   0.7% |\n",
        "3 |   7.1% <10.4%>     .   0.4%      .      .   0.4% |\n",
        "2 |   7.8%   0.7%  <8.6%>     .      .      .      . |\n",
        "4 |   5.9%      .      .  <7.8%>     .      .      . |\n",
        "7 |   4.8%      .      .      .  <5.6%>     .      . |\n",
        "6 |   1.9%      .      .   0.4%      .  <5.2%>  0.4% |\n",
        "5 |   2.6%      .   0.4%      .      .      .  <4.5%>|\n",
        "--+--------------------------------------------------+\n",
        "(row = reference; col = test)\n"
       ]
      },
      {
       "output_type": "stream",
       "stream": "stdout",
       "text": [
        "\n",
        "test 9 - 68.953%"
       ]
      },
      {
       "output_type": "stream",
       "stream": "stdout",
       "text": [
        "\n",
        "  |      1      2      4      3      7      5      6 |\n",
        "--+--------------------------------------------------+\n",
        "1 | <28.9%>     .   0.4%   0.4%      .      .      . |\n",
        "2 |   7.9% <10.8%>     .      .      .      .      . |\n",
        "4 |   6.5%      .  <7.6%>     .      .      .      . |\n",
        "3 |   3.6%      .      .  <9.7%>     .      .      . |\n",
        "7 |   3.2%      .      .      .  <5.1%>     .      . |\n",
        "5 |   3.6%   0.4%      .      .      .  <4.0%>     . |\n",
        "6 |   5.1%      .      .      .      .      .  <2.9%>|\n",
        "--+--------------------------------------------------+\n",
        "(row = reference; col = test)\n"
       ]
      },
      {
       "output_type": "stream",
       "stream": "stdout",
       "text": [
        "\n"
       ]
      }
     ],
     "prompt_number": 7
    },
    {
     "cell_type": "code",
     "collapsed": false,
     "input": [
      "cl=extractor.get_classifier(sample_sets, classifier=classifier)"
     ],
     "language": "python",
     "metadata": {},
     "outputs": [],
     "prompt_number": 8
    },
    {
     "cell_type": "code",
     "collapsed": false,
     "input": [
      "final_features = util.make_feature(extractor, final_sets)"
     ],
     "language": "python",
     "metadata": {},
     "outputs": [],
     "prompt_number": 9
    },
    {
     "cell_type": "code",
     "collapsed": false,
     "input": [
      "submission = util.make_submission(cl, final_features, writeto=\"approach_11.csv\")"
     ],
     "language": "python",
     "metadata": {},
     "outputs": [],
     "prompt_number": 10
    },
    {
     "cell_type": "code",
     "collapsed": false,
     "input": [
      "cl.show_most_informative_features()"
     ],
     "language": "python",
     "metadata": {},
     "outputs": [
      {
       "output_type": "stream",
       "stream": "stdout",
       "text": [
        "Most Informative Features\n",
        "               has(song) = 1                   3 : 1      =     39.7 : 1.0"
       ]
      },
      {
       "output_type": "stream",
       "stream": "stdout",
       "text": [
        "\n",
        "              has(music) = 1                   3 : 1      =     29.6 : 1.0\n",
        "               has(girl) = 1                   4 : 3      =     28.5 : 1.0\n",
        "               has(pain) = 1                   6 : 1      =     27.5 : 1.0\n",
        "           has(computer) = 1                   2 : 4      =     25.8 : 1.0\n",
        "               has(love) = 1                   4 : 6      =     24.8 : 1.0\n",
        "           has(together) = 1                   4 : 1      =     24.3 : 1.0\n",
        "       has(relationship) = 1                   4 : 1      =     21.7 : 1.0\n",
        "          has(boyfriend) = 1                   4 : 3      =     21.4 : 1.0\n",
        "           has(marriage) = 1                   4 : 1      =     19.9 : 1.0\n"
       ]
      }
     ],
     "prompt_number": 11
    }
   ],
   "metadata": {}
  }
 ]
}