{
 "metadata": {
  "name": "",
  "signature": "sha256:3b4318120a28ed8cd170d8a00b877870eac04678d32a71880b1de171c5344b0c"
 },
 "nbformat": 3,
 "nbformat_minor": 0,
 "worksheets": [
  {
   "cells": [
    {
     "cell_type": "code",
     "collapsed": false,
     "input": [
      "import re\n",
      "import random\n",
      "from os import path\n",
      "\n",
      "import nltk\n",
      "\n",
      "import testing_util as util\n",
      "import term_scoring\n",
      "from testing_util import sample_sets, final_sets\n",
      "\n",
      "import tfidf_class\n",
      "\n",
      "from nltk.classify import SklearnClassifier\n",
      "from sklearn.svm import SVC\n",
      "from sklearn.neighbors import KNeighborsClassifier, RadiusNeighborsClassifier\n",
      "from sklearn.pipeline import Pipeline\n",
      "from sklearn.ensemble import RandomForestClassifier"
     ],
     "language": "python",
     "metadata": {},
     "outputs": [],
     "prompt_number": 26
    },
    {
     "cell_type": "code",
     "collapsed": false,
     "input": [
      "#classifier = nltk.classify.NaiveBayesClassifier\n",
      "classifier = SklearnClassifier(SVC(), sparse=False)\n",
      "#classifier = SklearnClassifier(KNeighborsClassifier(n_neighbors=3, weights='distance'))\n",
      "#classifier = SklearnClassifier(RandomForestClassifier(), sparse=False)"
     ],
     "language": "python",
     "metadata": {},
     "outputs": [],
     "prompt_number": 27
    },
    {
     "cell_type": "code",
     "collapsed": false,
     "input": [
      "stopwords = nltk.corpus.stopwords.words('english')\n",
      "stemmer = nltk.PorterStemmer()\n",
      "\n",
      "def get_terms(t):\n",
      "    \"\"\"\n",
      "    This is used to get the relevant items out of text. \n",
      "    \"\"\"\n",
      "    tokens = nltk.word_tokenize(t)\n",
      "    return [stemmer.stem(w.lower()) for w in tokens if len(w)>3 and (w not in stopwords)]"
     ],
     "language": "python",
     "metadata": {},
     "outputs": [],
     "prompt_number": 28
    },
    {
     "cell_type": "code",
     "collapsed": false,
     "input": [
      "def category_term_scorer(sample_list, nterms=40):\n",
      "    \"\"\"\n",
      "    takes a list of tuples in format (category,text) and creates scores for each term\n",
      "    for its relevance to each category\n",
      "    \"\"\"\n",
      "    \n",
      "    categories = [str(x) for x in range(1,8)]\n",
      "    idfs = tfidf_class.get_cat_idfs(sample_list, get_terms, categories)\n",
      "    \n",
      "    for k,v in idfs.iteritems():\n",
      "        idfs[k]=v[0:nterms]\n",
      "    \n",
      "    \n",
      "    scores={}\n",
      "    \n",
      "    for cat, termlist in idfs.iteritems():\n",
      "        #print cat\n",
      "        for term in termlist:\n",
      "            #print term\n",
      "            if term[0] not in scores:\n",
      "                scores[term[0]]={c: 0 for c in categories}\n",
      "            d = scores[term[0]]\n",
      "            for c,s in d.items():\n",
      "                if c == cat:\n",
      "                    d[c]+=term[1]\n",
      "                else:\n",
      "                    d[c]-=term[1]\n",
      "    \n",
      "    return scores"
     ],
     "language": "python",
     "metadata": {},
     "outputs": [],
     "prompt_number": 29
    },
    {
     "cell_type": "code",
     "collapsed": false,
     "input": [
      "feature_term_score = term_scoring.TermScoreBagger(scorer=category_term_scorer)"
     ],
     "language": "python",
     "metadata": {},
     "outputs": [],
     "prompt_number": 30
    },
    {
     "cell_type": "code",
     "collapsed": false,
     "input": [
      "extractor = util.FeatureExtractor()\n",
      "extractor.add_extractor(feature_term_score, trained=True)"
     ],
     "language": "python",
     "metadata": {},
     "outputs": [],
     "prompt_number": 31
    },
    {
     "cell_type": "code",
     "collapsed": false,
     "input": [
      "extractor.test(sample_sets, folds=10, confusion=True, classifier=classifier)"
     ],
     "language": "python",
     "metadata": {},
     "outputs": [
      {
       "output_type": "stream",
       "stream": "stdout",
       "text": [
        "**************************\n",
        "Run 0\n",
        "**************************\n",
        "test 0 - 32.342%"
       ]
      },
      {
       "output_type": "stream",
       "stream": "stdout",
       "text": [
        "\n",
        "  |      1      3      2      4      7      5      6 |\n",
        "--+--------------------------------------------------+\n",
        "1 | <24.9%>     .   0.7%   2.2%      .      .      . |\n",
        "3 |  15.2%     <.>  0.4%   0.4%      .      .      . |\n",
        "2 |  10.8%      .  <3.0%>  0.4%      .      .      . |\n",
        "4 |   8.9%      .      .  <4.5%>     .      .      . |\n",
        "7 |  11.5%      .      .      .     <.>     .      . |\n",
        "5 |  10.4%      .      .      .      .     <.>     . |\n",
        "6 |   6.3%      .      .   0.4%      .      .     <.>|\n",
        "--+--------------------------------------------------+\n",
        "(row = reference; col = test)\n"
       ]
      },
      {
       "output_type": "stream",
       "stream": "stdout",
       "text": [
        "\n",
        "test 1 - 34.944%"
       ]
      },
      {
       "output_type": "stream",
       "stream": "stdout",
       "text": [
        "\n",
        "  |      1      2      3      4      6      7      5 |\n",
        "--+--------------------------------------------------+\n",
        "1 | <27.1%>  0.7%      .   0.7%      .      .      . |\n",
        "2 |  14.9%  <3.0%>     .      .      .      .      . |\n",
        "3 |  14.9%   0.7%     <.>  0.7%      .      .      . |\n",
        "4 |   7.4%      .      .  <4.8%>     .      .      . |\n",
        "6 |   9.3%   0.4%      .      .     <.>     .      . |\n",
        "7 |   8.9%      .      .      .      .     <.>     . |\n",
        "5 |   6.3%      .      .      .      .      .     <.>|\n",
        "--+--------------------------------------------------+\n",
        "(row = reference; col = test)\n"
       ]
      },
      {
       "output_type": "stream",
       "stream": "stdout",
       "text": [
        "\n",
        "test 2 - 34.572%"
       ]
      },
      {
       "output_type": "stream",
       "stream": "stdout",
       "text": [
        "\n",
        "  |      1      3      2      4      7      5      6 |\n",
        "--+--------------------------------------------------+\n",
        "1 | <23.8%>     .   1.9%   0.7%      .      .      . |\n",
        "3 |  15.2%  <0.7%>  1.9%   0.4%      .      .      . |\n",
        "2 |  13.4%      .  <4.1%>     .      .      .      . |\n",
        "4 |   7.4%      .      .  <5.9%>     .      .      . |\n",
        "7 |   9.3%      .      .      .     <.>     .      . |\n",
        "5 |   7.8%      .      .      .      .     <.>     . |\n",
        "6 |   7.4%      .      .      .      .      .     <.>|\n",
        "--+--------------------------------------------------+\n",
        "(row = reference; col = test)\n"
       ]
      },
      {
       "output_type": "stream",
       "stream": "stdout",
       "text": [
        "\n",
        "test 3 - 36.431%"
       ]
      },
      {
       "output_type": "stream",
       "stream": "stdout",
       "text": [
        "\n",
        "  |      1      4      2      3      5      7      6 |\n",
        "--+--------------------------------------------------+\n",
        "1 | <28.3%>  1.1%   1.1%   0.4%      .      .      . |\n",
        "4 |  10.4%  <5.6%>     .      .      .      .      . |\n",
        "2 |  10.0%      .  <2.2%>     .      .      .      . |\n",
        "3 |  10.8%   0.4%   0.4%  <0.4%>     .      .      . |\n",
        "5 |  10.0%      .      .      .     <.>     .      . |\n",
        "7 |  10.0%      .      .      .      .     <.>     . |\n",
        "6 |   8.6%   0.4%      .      .      .      .     <.>|\n",
        "--+--------------------------------------------------+\n",
        "(row = reference; col = test)\n"
       ]
      },
      {
       "output_type": "stream",
       "stream": "stdout",
       "text": [
        "\n",
        "test 4 - 33.457%"
       ]
      },
      {
       "output_type": "stream",
       "stream": "stdout",
       "text": [
        "\n",
        "  |      1      2      3      4      5      6      7 |\n",
        "--+--------------------------------------------------+\n",
        "1 | <24.2%>  1.1%      .   1.5%      .      .      . |\n",
        "2 |  13.8%  <5.6%>     .      .      .      .      . |\n",
        "3 |  12.3%   0.4%  <0.4%>  0.4%      .      .      . |\n",
        "4 |   8.6%      .      .  <3.3%>     .      .      . |\n",
        "5 |  10.8%      .      .   0.4%     <.>     .      . |\n",
        "6 |   9.3%      .      .      .      .     <.>     . |\n",
        "7 |   7.8%      .      .   0.4%      .      .     <.>|\n",
        "--+--------------------------------------------------+\n",
        "(row = reference; col = test)\n"
       ]
      },
      {
       "output_type": "stream",
       "stream": "stdout",
       "text": [
        "\n",
        "test 5 - 30.483%"
       ]
      },
      {
       "output_type": "stream",
       "stream": "stdout",
       "text": [
        "\n",
        "  |      1      2      3      4      6      7      5 |\n",
        "--+--------------------------------------------------+\n",
        "1 | <21.9%>  0.7%      .   0.7%      .      .      . |\n",
        "2 |  12.6%  <4.8%>  0.4%   0.4%      .      .      . |\n",
        "3 |  17.1%      .  <0.7%>  0.4%      .      .      . |\n",
        "4 |   7.8%   0.4%      .  <3.0%>     .      .      . |\n",
        "6 |  10.0%      .      .      .     <.>     .      . |\n",
        "7 |   9.7%   0.4%      .      .      .     <.>     . |\n",
        "5 |   8.6%   0.4%      .      .      .      .     <.>|\n",
        "--+--------------------------------------------------+\n",
        "(row = reference; col = test)\n"
       ]
      },
      {
       "output_type": "stream",
       "stream": "stdout",
       "text": [
        "\n",
        "test 6 - 31.599%"
       ]
      },
      {
       "output_type": "stream",
       "stream": "stdout",
       "text": [
        "\n",
        "  |      1      2      3      4      5      6      7 |\n",
        "--+--------------------------------------------------+\n",
        "1 | <26.8%>  1.9%      .   1.5%      .      .      . |\n",
        "2 |  13.8%  <3.3%>     .      .      .      .      . |\n",
        "3 |  14.9%   0.4%     <.>  0.4%      .      .      . |\n",
        "4 |  10.0%      .      .  <1.5%>     .      .      . |\n",
        "5 |   8.6%   0.7%      .      .     <.>     .      . |\n",
        "6 |   8.6%      .      .      .      .     <.>     . |\n",
        "7 |   7.8%      .      .      .      .      .     <.>|\n",
        "--+--------------------------------------------------+\n",
        "(row = reference; col = test)\n"
       ]
      },
      {
       "output_type": "stream",
       "stream": "stdout",
       "text": [
        "\n",
        "test 7 - 37.175%"
       ]
      },
      {
       "output_type": "stream",
       "stream": "stdout",
       "text": [
        "\n",
        "  |      1      2      3      4      6      5      7 |\n",
        "--+--------------------------------------------------+\n",
        "1 | <30.9%>  1.9%   0.4%   1.5%      .      .      . |\n",
        "2 |  14.9%  <2.6%>     .      .      .      .      . |\n",
        "3 |  11.9%      .  <1.1%>     .      .      .      . |\n",
        "4 |   7.1%   0.4%      .  <2.6%>     .      .      . |\n",
        "6 |   8.9%   0.4%      .   0.4%     <.>     .      . |\n",
        "5 |   7.1%   0.4%      .   0.4%      .     <.>     . |\n",
        "7 |   7.4%      .      .      .      .      .     <.>|\n",
        "--+--------------------------------------------------+\n",
        "(row = reference; col = test)\n"
       ]
      },
      {
       "output_type": "stream",
       "stream": "stdout",
       "text": [
        "\n",
        "test 8 - 36.059%"
       ]
      },
      {
       "output_type": "stream",
       "stream": "stdout",
       "text": [
        "\n",
        "  |      1      2      3      4      6      7      5 |\n",
        "--+--------------------------------------------------+\n",
        "1 | <28.3%>  0.7%      .   0.7%      .      .      . |\n",
        "2 |  11.9%  <3.3%>     .   0.4%      .      .      . |\n",
        "3 |  13.8%   1.1%     <.>     .      .      .      . |\n",
        "4 |   8.6%      .      .  <4.5%>     .      .      . |\n",
        "6 |  10.0%      .      .      .     <.>     .      . |\n",
        "7 |   8.6%      .      .      .      .     <.>     . |\n",
        "5 |   8.2%      .      .      .      .      .     <.>|\n",
        "--+--------------------------------------------------+\n",
        "(row = reference; col = test)\n"
       ]
      },
      {
       "output_type": "stream",
       "stream": "stdout",
       "text": [
        "\n",
        "test 9 - 35.379%"
       ]
      },
      {
       "output_type": "stream",
       "stream": "stdout",
       "text": [
        "\n",
        "  |      1      2      4      3      5      7      6 |\n",
        "--+--------------------------------------------------+\n",
        "1 | <24.5%>  2.2%      .      .      .      .      . |\n",
        "2 |  11.6%  <6.9%>     .   0.4%      .      .      . |\n",
        "4 |  11.9%      .  <4.0%>     .      .      .      . |\n",
        "3 |  12.3%      .   0.7%     <.>     .      .      . |\n",
        "5 |  10.1%   0.4%      .      .     <.>     .      . |\n",
        "7 |   9.4%      .      .      .      .     <.>     . |\n",
        "6 |   5.4%      .   0.4%      .      .      .     <.>|\n",
        "--+--------------------------------------------------+\n",
        "(row = reference; col = test)\n"
       ]
      },
      {
       "output_type": "stream",
       "stream": "stdout",
       "text": [
        "\n"
       ]
      }
     ],
     "prompt_number": 32
    },
    {
     "cell_type": "code",
     "collapsed": false,
     "input": [
      "cl = extractor.get_classifier(sample_sets, classifier=classifier)"
     ],
     "language": "python",
     "metadata": {},
     "outputs": [],
     "prompt_number": 23
    },
    {
     "cell_type": "code",
     "collapsed": false,
     "input": [
      "final_features = util.make_feature(extractor, final_sets)"
     ],
     "language": "python",
     "metadata": {},
     "outputs": [],
     "prompt_number": 24
    },
    {
     "cell_type": "code",
     "collapsed": false,
     "input": [
      "submission = util.make_submission(cl, final_features, writeto=\"ReturnOfTheJedi2.csv\")"
     ],
     "language": "python",
     "metadata": {},
     "outputs": [],
     "prompt_number": 25
    }
   ],
   "metadata": {}
  }
 ]
}