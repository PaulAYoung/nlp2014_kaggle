{
 "metadata": {
  "name": "",
  "signature": "sha256:ce55827c4fee55d45cbd0ae5a2a8719bb0c157b620f14d7dc8723a9d255518ab"
 },
 "nbformat": 3,
 "nbformat_minor": 0,
 "worksheets": [
  {
   "cells": [
    {
     "cell_type": "code",
     "collapsed": false,
     "input": [
      "import re\n",
      "import random\n",
      "from os import path\n",
      "\n",
      "import nltk\n",
      "\n",
      "import testing_util as util\n",
      "import term_scoring\n",
      "from testing_util import sample_sets, final_sets\n",
      "\n",
      "import tfidf_class"
     ],
     "language": "python",
     "metadata": {},
     "outputs": [],
     "prompt_number": 1
    },
    {
     "cell_type": "code",
     "collapsed": false,
     "input": [
      "def feature_num_tokens(text):\n",
      "    return {\"num_tokens\": len(nltk.word_tokenize(text))/10}"
     ],
     "language": "python",
     "metadata": {},
     "outputs": [],
     "prompt_number": 2
    },
    {
     "cell_type": "code",
     "collapsed": false,
     "input": [
      "def feature_avg_len_word(text):\n",
      "    tokens = nltk.word_tokenize(text)\n",
      "    return {\"word_len\": sum([len(w) for w in tokens])/len(tokens)}"
     ],
     "language": "python",
     "metadata": {},
     "outputs": [],
     "prompt_number": 3
    },
    {
     "cell_type": "code",
     "collapsed": false,
     "input": [
      "stopwords = nltk.corpus.stopwords.words('english')\n",
      "stemmer = nltk.PorterStemmer()\n",
      "\n",
      "def get_terms(t):\n",
      "    \"\"\"\n",
      "    This is used to get the relevant items out of text. \n",
      "    \"\"\"\n",
      "    tokens = nltk.word_tokenize(t)\n",
      "    return [w.lower() for w in tokens if len(w)>3 and (w not in stopwords)]"
     ],
     "language": "python",
     "metadata": {},
     "outputs": [],
     "prompt_number": 4
    },
    {
     "cell_type": "code",
     "collapsed": false,
     "input": [
      "def category_term_scorer1(sample_list):\n",
      "    \"\"\"\n",
      "    takes a list of tuples in format (category,text) and creates scores for each term\n",
      "    for its relevance to each category\n",
      "    \"\"\"\n",
      "    \n",
      "    categories = [str(x) for x in range(1,8)]\n",
      "    idfs = tfidf_class.get_cat_idfs(sample_list, get_terms, categories)\n",
      "    terms = set([t for s in sample_list for t in get_terms(s[1])])\n",
      "    \n",
      "    scores={}\n",
      "    for t in terms:\n",
      "        t_score = {}\n",
      "        for c in categories:\n",
      "            if t in idfs[c]:\n",
      "                t_score[c] = idfs[c][t][1]\n",
      "            else:\n",
      "                others = [cat[t][1] for cat in idfs if t in cat]\n",
      "                t_score[c] = -(sum(others)/(len(others)+1))\n",
      "        scores[t]=t_score\n",
      "    \n",
      "    return scores"
     ],
     "language": "python",
     "metadata": {},
     "outputs": [],
     "prompt_number": 5
    },
    {
     "cell_type": "code",
     "collapsed": false,
     "input": [
      "def category_term_scorer2(sample_list):\n",
      "    \"\"\"\n",
      "    takes a list of tuples in format (category,text) and creates scores for each term\n",
      "    for its relevance to each category\n",
      "    \"\"\"\n",
      "    categories = {}\n",
      "    \n",
      "    for c,s in sample_list:\n",
      "        if c not in categories:\n",
      "            categories[c]=[]\n",
      "        for w in get_terms(s):\n",
      "            categories[c].append(w)\n",
      "    \n",
      "    fd_all = nltk.FreqDist([w for wl in categories.values() for w in wl])\n",
      "    \n",
      "    fd_categories = {c:nltk.FreqDist(v) for c,v in categories.iteritems()}\n",
      "    \n",
      "    term_scores = {}\n",
      "    for term in fd_all.iterkeys():\n",
      "        if fd_all[term] < 5:\n",
      "            continue\n",
      "        d = {}\n",
      "        for c,fd in fd_categories.iteritems():\n",
      "            d[c]= fd[term]/(1+fd_all[term]-fd[term])\n",
      "        term_scores[term]=d\n",
      "    \n",
      "    return term_scores"
     ],
     "language": "python",
     "metadata": {},
     "outputs": [],
     "prompt_number": 6
    },
    {
     "cell_type": "code",
     "collapsed": false,
     "input": [
      "termscore1 = term_scoring.TermScoreClassiffier(scorer=category_term_scorer1, key=\"termscore1\")\n",
      "termscore2 = term_scoring.TermScoreClassiffier(scorer=category_term_scorer2, key=\"termscore2\")"
     ],
     "language": "python",
     "metadata": {},
     "outputs": [],
     "prompt_number": 7
    },
    {
     "cell_type": "code",
     "collapsed": false,
     "input": [
      "def notbiz(text):\n",
      "    terms = [\"comp\", \"linux\", \"windows\", \"internet\",\n",
      "            \"software\", \"program\", r\"\\d+(mb|kb|gb)\",\n",
      "            \"download\", \"e-?mail\", \"web\", \"(desk|lap)top\",\n",
      "            \"wireless\", \"website\", \"html\", \"smtp\",\n",
      "            \"song\", \"movie\", \"music\", \"favorite\",\n",
      "            \"show\", \"first\", \"rock\", \"magazine\",\n",
      "            \"lyric\", \"series\", \"episode\", \"singer\",\n",
      "            \"act(or|ress)\", \"cartoon\", \"riddle\", \"joke\"\n",
      "            \"album\", \"love\", \"girl\", \"boy\", \"relationship\",\n",
      "            \"women\", \"date\", \"(boy|girl)friend\", \"marri\",\n",
      "            \"wife\", \"husband\", \"family\", \"dating\", \"sex\",\n",
      "            \" friend\", \"roman(ce|tic)\", \"school\", \"college\",\n",
      "            \"study\", \"english\", \"word\",\n",
      "            \"history\", \"educat\", \"teach\", \"book\", \"spanish\",\n",
      "            \"university\", \"grade\", \"exam\", \"learn\", \n",
      "            \"pain\", \"cold\", \"body\", \"surgery\", \"blood\",\n",
      "            \"weight\", \"health\", \"smok(es|ing)\", \"symptoms\",\n",
      "            \"cure\", \"diet\", \"treatment\", \"medic\", \"penis\",\n",
      "            \"vomit\", \"acne\", \"\\d+mg\", \"itching\", \"teeth\",\n",
      "            \"materbat\", \"earth\", \"world\", \"theory\", \"universe\", \"point\",\n",
      "            \"planet\", \"moon\", \"science\", \"math\", \"atom\", \"stars\",\n",
      "            \"\\d+[/*^+-]\\d+\"]\n",
      "    score = 0\n",
      "    for word in terms:\n",
      "        if re.search(word, text, re.IGNORECASE):\n",
      "            score += 1\n",
      "    if score > 3:\n",
      "        score = 3\n",
      "    return {\"notbiz\":score}"
     ],
     "language": "python",
     "metadata": {},
     "outputs": [],
     "prompt_number": 8
    },
    {
     "cell_type": "code",
     "collapsed": false,
     "input": [
      "tfidf_checker = tfidf_class.TfidfRater(get_terms, nterms=50)"
     ],
     "language": "python",
     "metadata": {},
     "outputs": [],
     "prompt_number": 9
    },
    {
     "cell_type": "code",
     "collapsed": false,
     "input": [
      "extractor = util.FeatureExtractor()\n",
      "extractor.add_extractor(feature_num_tokens)\n",
      "extractor.add_extractor(feature_avg_len_word)\n",
      "extractor.add_extractor(termscore1, trained=True)\n",
      "extractor.add_extractor(termscore2, trained=True)\n",
      "extractor.add_extractor(tfidf_checker, trained=True)\n",
      "extractor.add_extractor(notbiz)"
     ],
     "language": "python",
     "metadata": {},
     "outputs": [],
     "prompt_number": 10
    },
    {
     "cell_type": "code",
     "collapsed": false,
     "input": [
      "extractor.test(sample_sets, folds=10, confusion=True, classifier=nltk.classify.NaiveBayesClassifier)"
     ],
     "language": "python",
     "metadata": {},
     "outputs": [
      {
       "output_type": "stream",
       "stream": "stdout",
       "text": [
        "**************************\n",
        "Run 0\n",
        "**************************\n",
        "test 0 - 54.647%"
       ]
      },
      {
       "output_type": "stream",
       "stream": "stdout",
       "text": [
        "\n",
        "  |      1      2      3      4      6      5      7 |\n",
        "--+--------------------------------------------------+\n",
        "1 | <19.3%>  2.6%   0.7%   3.7%      .   0.4%      . |\n",
        "2 |   5.9% <10.0%>  0.7%      .      .      .   0.7% |\n",
        "3 |   8.6%      .  <7.8%>  0.4%      .      .      . |\n",
        "4 |   5.2%      .      .  <9.7%>     .      .      . |\n",
        "6 |   4.5%   0.7%      .      .  <3.3%>     .      . |\n",
        "5 |   3.3%   0.4%      .   0.7%      .  <3.0%>  0.4% |\n",
        "7 |   3.7%   0.4%   0.4%      .   0.7%   1.1%  <1.5%>|\n",
        "--+--------------------------------------------------+\n",
        "(row = reference; col = test)\n"
       ]
      },
      {
       "output_type": "stream",
       "stream": "stdout",
       "text": [
        "\n",
        "test 1 - 62.825%"
       ]
      },
      {
       "output_type": "stream",
       "stream": "stdout",
       "text": [
        "\n",
        "  |      1      2      3      4      7      5      6 |\n",
        "--+--------------------------------------------------+\n",
        "1 | <25.7%>  4.1%   1.5%   1.1%   0.4%   0.4%   0.4% |\n",
        "2 |   4.5% <15.2%>     .      .      .   0.4%      . |\n",
        "3 |   5.6%   0.7%  <5.6%>     .   0.4%      .      . |\n",
        "4 |   3.7%      .   0.4%  <7.8%>     .      .   0.4% |\n",
        "7 |   3.7%   0.4%   1.1%      .  <3.7%>     .   0.4% |\n",
        "5 |   1.9%   0.4%   0.4%   0.7%   0.4%  <2.6%>  0.4% |\n",
        "6 |   2.6%      .   0.4%   0.7%      .      .  <2.2%>|\n",
        "--+--------------------------------------------------+\n",
        "(row = reference; col = test)\n"
       ]
      },
      {
       "output_type": "stream",
       "stream": "stdout",
       "text": [
        "\n",
        "test 2 - 52.045%"
       ]
      },
      {
       "output_type": "stream",
       "stream": "stdout",
       "text": [
        "\n",
        "  |      1      2      3      4      5      7      6 |\n",
        "--+--------------------------------------------------+\n",
        "1 | <19.3%>  3.0%   1.5%   2.6%   1.1%   0.4%   0.7% |\n",
        "2 |   4.5% <11.2%>     .      .   0.4%      .      . |\n",
        "3 |   5.2%   0.7%  <8.6%>  1.1%   0.4%      .      . |\n",
        "4 |   3.0%   0.7%   0.4%  <6.7%>     .      .   0.7% |\n",
        "5 |   6.3%   0.4%   0.4%      .  <1.5%>  0.7%   0.4% |\n",
        "7 |   5.9%   0.7%   0.4%      .   0.4%  <1.9%>     . |\n",
        "6 |   3.3%   1.1%      .   0.7%      .   0.7%  <3.0%>|\n",
        "--+--------------------------------------------------+\n",
        "(row = reference; col = test)\n"
       ]
      },
      {
       "output_type": "stream",
       "stream": "stdout",
       "text": [
        "\n",
        "test 3 - 51.301%"
       ]
      },
      {
       "output_type": "stream",
       "stream": "stdout",
       "text": [
        "\n",
        "  |      1      2      3      4      5      6      7 |\n",
        "--+--------------------------------------------------+\n",
        "1 | <16.0%>  4.5%   1.5%   2.2%   0.4%   0.4%   0.4% |\n",
        "2 |   5.2% <11.9%>  0.4%   0.7%   0.4%   0.4%      . |\n",
        "3 |   5.9%   0.4%  <5.6%>  2.6%   0.7%   0.4%   0.4% |\n",
        "4 |   5.2%   0.4%      .  <7.1%>     .      .      . |\n",
        "5 |   5.9%   0.4%   0.4%      .  <3.7%>  0.4%   0.7% |\n",
        "6 |   4.5%   0.4%   0.4%   0.4%      .  <3.3%>     . |\n",
        "7 |   1.9%   0.4%   0.4%      .      .   0.4%  <3.7%>|\n",
        "--+--------------------------------------------------+\n",
        "(row = reference; col = test)\n"
       ]
      },
      {
       "output_type": "stream",
       "stream": "stdout",
       "text": [
        "\n",
        "test 4 - 51.301%"
       ]
      },
      {
       "output_type": "stream",
       "stream": "stdout",
       "text": [
        "\n",
        "  |      1      3      2      4      5      6      7 |\n",
        "--+--------------------------------------------------+\n",
        "1 | <17.5%>  0.7%   3.7%   2.6%   0.4%   0.4%   0.4% |\n",
        "3 |   6.7%  <7.4%>  1.5%   0.7%      .      .   0.7% |\n",
        "2 |   3.7%   0.4% <11.5%>  1.1%      .      .      . |\n",
        "4 |   3.3%   0.7%   0.4%  <5.9%>     .      .      . |\n",
        "5 |   4.5%   0.4%   0.7%   0.4%  <3.7%>  0.4%   0.4% |\n",
        "6 |   5.9%      .      .   1.5%      .  <2.6%>     . |\n",
        "7 |   5.2%   0.4%   0.4%      .      .   1.1%  <2.6%>|\n",
        "--+--------------------------------------------------+\n",
        "(row = reference; col = test)\n"
       ]
      },
      {
       "output_type": "stream",
       "stream": "stdout",
       "text": [
        "\n",
        "test 5 - 59.480%"
       ]
      },
      {
       "output_type": "stream",
       "stream": "stdout",
       "text": [
        "\n",
        "  |      1      2      4      3      6      7      5 |\n",
        "--+--------------------------------------------------+\n",
        "1 | <23.4%>  4.1%   3.7%   0.7%   0.4%      .   1.1% |\n",
        "2 |   3.7% <14.1%>     .   0.7%      .      .      . |\n",
        "4 |   4.1%      .  <8.9%>  0.4%      .      .      . |\n",
        "3 |   4.8%      .   1.1%  <6.3%>     .      .      . |\n",
        "6 |   3.7%      .   1.1%      .  <3.0%>     .   0.4% |\n",
        "7 |   3.7%   0.4%      .      .   0.7%  <2.6%>  0.4% |\n",
        "5 |   2.6%   1.1%      .      .      .   1.5%  <1.1%>|\n",
        "--+--------------------------------------------------+\n",
        "(row = reference; col = test)\n"
       ]
      },
      {
       "output_type": "stream",
       "stream": "stdout",
       "text": [
        "\n",
        "test 6 - 57.249%"
       ]
      },
      {
       "output_type": "stream",
       "stream": "stdout",
       "text": [
        "\n",
        "  |      1      4      3      2      5      7      6 |\n",
        "--+--------------------------------------------------+\n",
        "1 | <19.3%>  0.7%   0.4%   3.0%   0.7%   0.4%   0.4% |\n",
        "4 |   2.6% <12.6%>  0.7%      .      .   0.4%   0.4% |\n",
        "3 |   6.3%   1.1%  <7.8%>  0.4%      .      .   0.4% |\n",
        "2 |   3.7%      .      .  <9.3%>     .      .      . |\n",
        "5 |   4.8%   0.7%   0.7%   0.4%  <3.3%>  0.4%      . |\n",
        "7 |   4.8%      .   0.4%   0.4%      .  <3.0%>  1.1% |\n",
        "6 |   5.6%   1.1%   0.4%   0.4%      .      .  <1.9%>|\n",
        "--+--------------------------------------------------+\n",
        "(row = reference; col = test)\n"
       ]
      },
      {
       "output_type": "stream",
       "stream": "stdout",
       "text": [
        "\n",
        "test 7 - 53.903%"
       ]
      },
      {
       "output_type": "stream",
       "stream": "stdout",
       "text": [
        "\n",
        "  |      1      3      2      4      6      7      5 |\n",
        "--+--------------------------------------------------+\n",
        "1 | <20.1%>  2.2%   3.0%   2.2%   0.4%   0.4%   1.5% |\n",
        "3 |   7.1%  <7.4%>  1.5%   0.7%      .      .      . |\n",
        "2 |   3.7%   0.7% <10.4%>     .      .   0.7%      . |\n",
        "4 |   3.3%      .      .  <8.6%>     .   0.7%      . |\n",
        "6 |   4.1%      .      .   0.7%  <4.8%>  0.4%      . |\n",
        "7 |   6.7%      .   0.7%   0.4%      .  <1.5%>     . |\n",
        "5 |   3.7%   0.4%   0.4%      .      .   0.4%  <1.1%>|\n",
        "--+--------------------------------------------------+\n",
        "(row = reference; col = test)\n"
       ]
      },
      {
       "output_type": "stream",
       "stream": "stdout",
       "text": [
        "\n",
        "test 8 - 59.480%"
       ]
      },
      {
       "output_type": "stream",
       "stream": "stdout",
       "text": [
        "\n",
        "  |      1      2      3      4      7      5      6 |\n",
        "--+--------------------------------------------------+\n",
        "1 | <20.8%>  3.0%   1.1%   3.0%   0.7%   0.7%   0.4% |\n",
        "2 |   4.5% <11.5%>  0.7%      .   0.4%      .      . |\n",
        "3 |   4.1%   0.7%  <7.4%>  0.4%      .   0.7%      . |\n",
        "4 |   3.0%   0.4%      .  <8.2%>     .      .      . |\n",
        "7 |   5.9%   0.4%   0.4%      .  <3.0%>  0.4%   0.4% |\n",
        "5 |   4.5%   0.7%   0.4%      .   0.4%  <4.1%>     . |\n",
        "6 |   2.6%      .      .   0.7%      .      .  <4.5%>|\n",
        "--+--------------------------------------------------+\n",
        "(row = reference; col = test)\n"
       ]
      },
      {
       "output_type": "stream",
       "stream": "stdout",
       "text": [
        "\n",
        "test 9 - 55.235%"
       ]
      },
      {
       "output_type": "stream",
       "stream": "stdout",
       "text": [
        "\n",
        "  |      1      2      3      4      5      7      6 |\n",
        "--+--------------------------------------------------+\n",
        "1 | <21.7%>  1.8%   1.4%   1.4%   0.7%      .   0.4% |\n",
        "2 |   2.5%  <9.7%>  1.4%      .   0.7%      .   0.4% |\n",
        "3 |   6.5%   1.1%  <4.7%>  1.4%      .      .   0.4% |\n",
        "4 |   2.2%      .   0.7%  <9.7%>     .      .      . |\n",
        "5 |   4.7%   1.4%   1.4%      .  <3.2%>  0.4%   0.4% |\n",
        "7 |   7.2%      .   0.4%   0.4%      .  <2.9%>  0.4% |\n",
        "6 |   2.9%   0.4%      .   1.4%      .   0.4%  <3.2%>|\n",
        "--+--------------------------------------------------+\n",
        "(row = reference; col = test)\n"
       ]
      },
      {
       "output_type": "stream",
       "stream": "stdout",
       "text": [
        "\n"
       ]
      }
     ],
     "prompt_number": 11
    },
    {
     "cell_type": "code",
     "collapsed": false,
     "input": [
      "extractor.train_extractors(sample_sets)"
     ],
     "language": "python",
     "metadata": {},
     "outputs": [],
     "prompt_number": 11
    },
    {
     "cell_type": "code",
     "collapsed": false,
     "input": [
      "cl = extractor.get_classifier(sample_sets)"
     ],
     "language": "python",
     "metadata": {},
     "outputs": [],
     "prompt_number": 12
    },
    {
     "cell_type": "code",
     "collapsed": false,
     "input": [
      "cl.show_most_informative_features(100)"
     ],
     "language": "python",
     "metadata": {},
     "outputs": [
      {
       "output_type": "stream",
       "stream": "stdout",
       "text": [
        "Most Informative Features\n",
        "              termscore2 = '4'                 4 : 2      =    131.8 : 1.0\n",
        "              termscore2 = '3'                 3 : 6      =     85.8 : 1.0\n",
        "              termscore2 = '6'                 6 : 2      =     78.8 : 1.0\n",
        "              termscore2 = '7'                 7 : 3      =     65.1 : 1.0\n",
        "               has(song) = 1                   3 : 1      =     39.7 : 1.0\n",
        "              termscore2 = '5'                 5 : 2      =     37.3 : 1.0\n",
        "              has(music) = 1                   3 : 1      =     29.6 : 1.0\n",
        "               has(girl) = 1                   4 : 3      =     28.5 : 1.0\n",
        "               has(pain) = 1                   6 : 1      =     27.5 : 1.0\n",
        "           has(computer) = 1                   2 : 4      =     25.8 : 1.0\n",
        "               has(love) = 1                   4 : 6      =     24.8 : 1.0\n",
        "           has(together) = 1                   4 : 1      =     24.3 : 1.0\n",
        "              termscore2 = '2'                 2 : 4      =     23.7 : 1.0\n",
        "       has(relationship) = 1                   4 : 1      =     21.7 : 1.0\n",
        "          has(boyfriend) = 1                   4 : 3      =     21.4 : 1.0\n",
        "           has(marriage) = 1                   4 : 1      =     19.9 : 1.0\n",
        "           has(internet) = 1                   2 : 3      =     18.8 : 1.0\n",
        "               has(body) = 1                   6 : 1      =     18.7 : 1.0\n",
        "              has(yahoo) = 1                   2 : 5      =     18.1 : 1.0\n",
        "             has(school) = 1                   5 : 2      =     17.9 : 1.0\n",
        "              has(years) = 1                   4 : 2      =     17.9 : 1.0\n",
        "             has(weight) = 1                   6 : 1      =     16.5 : 1.0\n",
        "              has(movie) = 1                   3 : 1      =     16.5 : 1.0\n",
        "               has(page) = 1                   2 : 1      =     16.4 : 1.0\n",
        "           has(software) = 1                   2 : 1      =     15.9 : 1.0\n",
        "              has(study) = 1                   5 : 1      =     15.7 : 1.0\n",
        "            has(install) = 1                   2 : 1      =     15.2 : 1.0\n",
        "            has(friends) = 1                   4 : 2      =     14.4 : 1.0\n",
        "             has(really) = 1                   4 : 5      =     14.3 : 1.0\n",
        "            has(smoking) = 1                   6 : 1      =     14.3 : 1.0\n",
        "            has(college) = 1                   5 : 2      =     14.2 : 1.0\n",
        "              has(woman) = 1                   4 : 1      =     12.8 : 1.0\n",
        "              has(fight) = 1                   6 : 1      =     12.5 : 1.0\n",
        "            has(medical) = 1                   6 : 1      =     12.1 : 1.0\n",
        "              has(never) = 1                   4 : 2      =     11.8 : 1.0\n",
        "            has(english) = 1                   5 : 2      =     11.8 : 1.0\n",
        "            has(windows) = 1                   2 : 5      =     11.7 : 1.0\n",
        "               has(life) = 1                   7 : 2      =     11.7 : 1.0\n",
        "          has(education) = 1                   5 : 1      =     11.5 : 1.0\n",
        "           has(distance) = 1                   7 : 1      =     11.4 : 1.0\n",
        "               has(moon) = 1                   7 : 1      =     11.4 : 1.0\n",
        "               has(keep) = 1                   4 : 3      =     11.3 : 1.0\n",
        "            has(married) = 1                   4 : 1      =     11.1 : 1.0\n",
        "               has(feel) = 1                   6 : 2      =     11.1 : 1.0\n",
        "             has(listen) = 1                   3 : 1      =     10.7 : 1.0\n",
        "               has(band) = 1                   3 : 1      =     10.7 : 1.0\n",
        "              has(earth) = 1                   7 : 1      =     10.6 : 1.0\n",
        "               has(word) = 1                   5 : 2      =     10.5 : 1.0\n",
        "            has(program) = 1                   2 : 3      =     10.4 : 1.0\n",
        "              has(women) = 1                   4 : 5      =     10.1 : 1.0\n",
        "             has(health) = 1                   6 : 1      =      9.9 : 1.0\n",
        "               has(work) = 1                   4 : 3      =      9.7 : 1.0\n",
        "               has(date) = 1                   4 : 2      =      9.7 : 1.0\n",
        "            has(episode) = 1                   3 : 1      =      9.5 : 1.0\n",
        "             has(causes) = 1                   6 : 4      =      9.5 : 1.0\n",
        "            has(spanish) = 1                   5 : 1      =      9.4 : 1.0\n",
        "               has(eyes) = 1                   7 : 1      =      9.3 : 1.0\n",
        "              has(light) = 1                   7 : 1      =      9.3 : 1.0\n",
        "             has(humans) = 1                   7 : 1      =      9.3 : 1.0\n",
        "               has(wife) = 1                   4 : 1      =      9.3 : 1.0\n",
        "             has(system) = 1                   2 : 1      =      9.1 : 1.0\n",
        "               has(good) = 1                   6 : 7      =      8.8 : 1.0\n",
        "               has(away) = 1                   6 : 3      =      8.7 : 1.0\n",
        "             has(friend) = 1                   4 : 2      =      8.6 : 1.0\n",
        "               has(used) = 1                   2 : 1      =      8.5 : 1.0\n",
        "             has(router) = 1                   2 : 1      =      8.5 : 1.0\n",
        "             has(normal) = 1                   6 : 2      =      8.5 : 1.0\n",
        "              has(using) = 1                   2 : 5      =      8.4 : 1.0\n",
        "               has(free) = 1                   2 : 5      =      8.4 : 1.0\n",
        "               has(cold) = 1                   6 : 1      =      8.4 : 1.0\n",
        "               has(said) = 1                   4 : 2      =      8.3 : 1.0\n",
        "            has(cartoon) = 1                   3 : 1      =      8.2 : 1.0\n",
        "           has(possible) = 1                   7 : 1      =      8.1 : 1.0\n",
        "         has(difference) = 1                   2 : 3      =      8.1 : 1.0\n",
        "           has(download) = 1                   2 : 1      =      8.0 : 1.0\n",
        "              has(girls) = 1                   4 : 7      =      7.8 : 1.0\n",
        "               has(site) = 1                   2 : 7      =      7.8 : 1.0\n",
        "               has(dont) = 1                   4 : 5      =      7.7 : 1.0\n",
        "           has(favorite) = 1                   3 : 1      =      7.7 : 1.0\n",
        "              has(blood) = 1                   6 : 4      =      7.5 : 1.0\n",
        "               has(show) = 1                   3 : 1      =      7.4 : 1.0\n",
        "               has(want) = 1                   4 : 3      =      7.3 : 1.0\n",
        "               has(says) = 1                   4 : 5      =      7.3 : 1.0\n",
        "               has(ever) = 1                   4 : 5      =      7.3 : 1.0\n",
        "              has(since) = 1                   6 : 1      =      7.3 : 1.0\n",
        "            has(history) = 1                   5 : 3      =      7.2 : 1.0\n",
        "             has(theory) = 1                   7 : 3      =      7.1 : 1.0\n",
        "               has(high) = 1                   5 : 4      =      7.1 : 1.0\n",
        "             has(things) = 1                   4 : 2      =      7.1 : 1.0\n",
        "               has(best) = 1                   6 : 7      =      6.9 : 1.0\n",
        "            has(someone) = 1                   4 : 3      =      6.9 : 1.0\n",
        "              has(water) = 1                   7 : 1      =      6.8 : 1.0\n",
        "               has(back) = 1                   4 : 5      =      6.8 : 1.0\n",
        "            has(schools) = 1                   5 : 2      =      6.8 : 1.0\n",
        "             has(degree) = 1                   5 : 2      =      6.8 : 1.0\n",
        "               has(ways) = 1                   5 : 2      =      6.8 : 1.0\n",
        "             has(planet) = 1                   7 : 2      =      6.7 : 1.0\n",
        "                  notbiz = 3                   4 : 7      =      6.7 : 1.0\n",
        "              has(words) = 1                   5 : 1      =      6.7 : 1.0\n",
        "            has(website) = 1                   2 : 7      =      6.7 : 1.0\n"
       ]
      }
     ],
     "prompt_number": 16
    },
    {
     "cell_type": "code",
     "collapsed": false,
     "input": [
      "final_features = util.make_feature(extractor, final_sets)"
     ],
     "language": "python",
     "metadata": {},
     "outputs": [],
     "prompt_number": 13
    },
    {
     "cell_type": "code",
     "collapsed": false,
     "input": [
      "submission = util.make_submission(cl, final_features, writeto=\"submission24.csv\")"
     ],
     "language": "python",
     "metadata": {},
     "outputs": [],
     "prompt_number": 14
    }
   ],
   "metadata": {}
  }
 ]
}