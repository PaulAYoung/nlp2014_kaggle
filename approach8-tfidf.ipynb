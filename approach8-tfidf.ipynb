{
 "metadata": {
  "name": "",
  "signature": "sha256:ace239d5c015a291701fc9a6cf575fc1cdc86f5e1df6453072bdeb9aea7055f4"
 },
 "nbformat": 3,
 "nbformat_minor": 0,
 "worksheets": [
  {
   "cells": [
    {
     "cell_type": "code",
     "collapsed": false,
     "input": [
      "import cPickle as pickle\n",
      "import re\n",
      "import random\n",
      "from os import path\n",
      "\n",
      "import nltk\n",
      "\n",
      "import testing_util as util\n",
      "import term_scoring\n",
      "from testing_util import sample_sets, final_sets"
     ],
     "language": "python",
     "metadata": {},
     "outputs": [],
     "prompt_number": 1
    },
    {
     "cell_type": "code",
     "collapsed": false,
     "input": [
      "from nltk.classify import SklearnClassifier\n",
      "from sklearn.svm import SVC"
     ],
     "language": "python",
     "metadata": {},
     "outputs": [],
     "prompt_number": 2
    },
    {
     "cell_type": "code",
     "collapsed": false,
     "input": [
      "term_idfs = pickle.load(open('term_idfs.pkl', 'rb'))\n",
      "cat_tfidfs = pickle.load(open('cattfidf.pkl', 'rb'))"
     ],
     "language": "python",
     "metadata": {},
     "outputs": [],
     "prompt_number": 3
    },
    {
     "cell_type": "code",
     "collapsed": false,
     "input": [
      "stopwords = nltk.corpus.stopwords.words('english')\n",
      "stemmer = nltk.PorterStemmer()\n",
      "\n",
      "def get_terms(t):\n",
      "    \"\"\"\n",
      "    This is used to get the relevant items out of text. \n",
      "    \"\"\"\n",
      "    tokens = nltk.word_tokenize(t)\n",
      "    return [stemmer.stem(w.lower()) for w in tokens if len(w)>3 and (w not in stopwords)]"
     ],
     "language": "python",
     "metadata": {},
     "outputs": [],
     "prompt_number": 4
    },
    {
     "cell_type": "code",
     "collapsed": false,
     "input": [
      "def rate_tfidf(text):\n",
      "    terms = get_terms(text)\n",
      "    fd = nltk.FreqDist(terms)\n",
      "    tfidfs = [(t, fd.freq(t)/term_idfs[t]) for t in terms if t in term_idfs]\n",
      "    \n",
      "    ratings = {\"tfidf({})\".format(i):0 for i in range(1,8)}\n",
      "    for t, tfidf in tfidfs:\n",
      "        for i in range(1,8):\n",
      "            cat_tfidf = cat_tfidfs[str(i)]\n",
      "            if t in cat_tfidf:\n",
      "                ratings[\"tfidf({})\".format(i)] += tfidf*cat_tfidf[t]\n",
      "    \n",
      "    for k,v in ratings.iteritems():\n",
      "        ratings[k] = (v*10**5)/(len(terms)+1)\n",
      "    \n",
      "    return ratings"
     ],
     "language": "python",
     "metadata": {},
     "outputs": [],
     "prompt_number": 28
    },
    {
     "cell_type": "code",
     "collapsed": false,
     "input": [
      "rate_tfidf(sample_sets[10][1])"
     ],
     "language": "python",
     "metadata": {},
     "outputs": [
      {
       "metadata": {},
       "output_type": "pyout",
       "prompt_number": 29,
       "text": [
        "{'tfidf(1)': 6.315309339484123,\n",
        " 'tfidf(2)': 3.244707660855587,\n",
        " 'tfidf(3)': 2.928107453846562,\n",
        " 'tfidf(4)': 3.4249333379298914,\n",
        " 'tfidf(5)': 5.706248438851926,\n",
        " 'tfidf(6)': 3.799813673601981,\n",
        " 'tfidf(7)': 2.4547440622599273}"
       ]
      }
     ],
     "prompt_number": 29
    },
    {
     "cell_type": "code",
     "collapsed": false,
     "input": [
      "#classifier = nltk.classify.NaiveBayesClassifier\n",
      "classifier = SklearnClassifier(SVC(), sparse=False)"
     ],
     "language": "python",
     "metadata": {},
     "outputs": [],
     "prompt_number": 6
    },
    {
     "cell_type": "code",
     "collapsed": false,
     "input": [
      "extractor = util.FeatureExtractor()\n",
      "extractor.add_extractor(rate_tfidf)"
     ],
     "language": "python",
     "metadata": {},
     "outputs": [],
     "prompt_number": 31
    },
    {
     "cell_type": "code",
     "collapsed": false,
     "input": [
      "extractor.test(sample_sets, folds=3,confusion=True, classifier=classifier, num_tests=1)"
     ],
     "language": "python",
     "metadata": {},
     "outputs": [
      {
       "output_type": "stream",
       "stream": "stdout",
       "text": [
        "**************************\n",
        "Run 0\n",
        "**************************\n",
        "test 0 - 63.404%"
       ]
      },
      {
       "output_type": "stream",
       "stream": "stdout",
       "text": [
        "\n",
        "  |      1      2      3      4      5      7      6 |\n",
        "--+--------------------------------------------------+\n",
        "1 | <22.7%>  2.1%   1.1%   1.3%   0.6%   0.8%   0.4% |\n",
        "2 |   4.4% <11.5%>  0.6%   0.1%   0.4%   0.2%   0.1% |\n",
        "3 |   4.0%   0.3%  <8.9%>  0.4%      .   0.1%   0.1% |\n",
        "4 |   2.7%   0.3%   0.2%  <8.6%>     .   0.1%   0.2% |\n",
        "5 |   4.8%   0.4%   0.2%      .  <3.7%>  0.8%   0.2% |\n",
        "7 |   3.9%   0.4%   0.3%      .   0.2%  <4.2%>  0.2% |\n",
        "6 |   3.3%   0.3%   0.1%   0.4%      .      .  <3.9%>|\n",
        "--+--------------------------------------------------+\n",
        "(row = reference; col = test)\n"
       ]
      },
      {
       "output_type": "stream",
       "stream": "stdout",
       "text": [
        "\n",
        "test 1 - 61.846%"
       ]
      },
      {
       "output_type": "stream",
       "stream": "stdout",
       "text": [
        "\n",
        "  |      1      2      3      4      7      6      5 |\n",
        "--+--------------------------------------------------+\n",
        "1 | <22.8%>  2.7%   0.7%   1.8%   0.6%   0.4%   0.4% |\n",
        "2 |   5.1% <11.1%>  0.9%   0.6%   0.3%   0.3%   0.1% |\n",
        "3 |   4.7%   0.4%  <9.6%>  0.6%   0.2%   0.1%   0.1% |\n",
        "4 |   3.3%   0.4%   0.6%  <7.3%>  0.1%   0.3%   0.3% |\n",
        "7 |   3.0%   0.1%   0.1%   0.2%  <4.4%>  0.2%   0.4% |\n",
        "6 |   3.1%   0.2%   0.1%   0.4%   0.1%  <3.9%>  0.2% |\n",
        "5 |   3.0%   0.1%   0.4%   0.2%   0.8%   0.1%  <2.7%>|\n",
        "--+--------------------------------------------------+\n",
        "(row = reference; col = test)\n"
       ]
      },
      {
       "output_type": "stream",
       "stream": "stdout",
       "text": [
        "\n",
        "test 2 - 63.444%"
       ]
      },
      {
       "output_type": "stream",
       "stream": "stdout",
       "text": [
        "\n",
        "  |      1      3      2      4      5      6      7 |\n",
        "--+--------------------------------------------------+\n",
        "1 | <20.9%>  1.4%   1.2%   1.0%   0.9%   1.0%   0.7% |\n",
        "3 |   4.6%  <8.2%>  0.8%   1.1%   0.6%   0.2%   0.1% |\n",
        "2 |   3.8%   0.6%  <9.9%>  0.3%   0.1%      .      . |\n",
        "4 |   3.6%   0.1%      . <10.0%>     .   0.1%   0.2% |\n",
        "5 |   3.4%   0.8%   0.2%   0.6%  <4.1%>  0.4%   0.1% |\n",
        "6 |   3.6%   0.3%      .   0.3%      .  <5.1%>  0.2% |\n",
        "7 |   2.9%   0.7%      .   0.2%   0.3%   0.1%  <5.2%>|\n",
        "--+--------------------------------------------------+\n",
        "(row = reference; col = test)\n"
       ]
      },
      {
       "output_type": "stream",
       "stream": "stdout",
       "text": [
        "\n"
       ]
      }
     ],
     "prompt_number": 32
    },
    {
     "cell_type": "code",
     "collapsed": false,
     "input": [
      "final_features = util.make_feature(extractor, final_sets)"
     ],
     "language": "python",
     "metadata": {},
     "outputs": [],
     "prompt_number": 33
    },
    {
     "cell_type": "code",
     "collapsed": false,
     "input": [
      "cl=extractor.get_classifier(sample_sets, classifier=classifier)"
     ],
     "language": "python",
     "metadata": {},
     "outputs": [],
     "prompt_number": 34
    },
    {
     "cell_type": "code",
     "collapsed": false,
     "input": [
      "submission = util.make_submission(cl, final_features, writeto=\"submission_tfidf.csv\")"
     ],
     "language": "python",
     "metadata": {},
     "outputs": [],
     "prompt_number": 36
    }
   ],
   "metadata": {}
  }
 ]
}