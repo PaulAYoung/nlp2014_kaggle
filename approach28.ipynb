{
 "metadata": {
  "name": "",
  "signature": "sha256:89c10c7da662cfcfd8ada984642be57d13acbb1467b95c8398f8ccb4a3967240"
 },
 "nbformat": 3,
 "nbformat_minor": 0,
 "worksheets": [
  {
   "cells": [
    {
     "cell_type": "code",
     "collapsed": false,
     "input": [
      "import re\n",
      "import random\n",
      "from os import path\n",
      "\n",
      "import nltk\n",
      "\n",
      "import testing_util as util\n",
      "import term_scoring\n",
      "from testing_util import sample_sets, final_sets\n",
      "\n",
      "import tfidf_class"
     ],
     "language": "python",
     "metadata": {},
     "outputs": [],
     "prompt_number": 1
    },
    {
     "cell_type": "code",
     "collapsed": false,
     "input": [
      "from nltk.classify import SklearnClassifier\n",
      "from sklearn.svm import SVC"
     ],
     "language": "python",
     "metadata": {},
     "outputs": [],
     "prompt_number": 2
    },
    {
     "cell_type": "code",
     "collapsed": false,
     "input": [
      "classifier=SklearnClassifier(SVC(), sparse=False)"
     ],
     "language": "python",
     "metadata": {},
     "outputs": [],
     "prompt_number": 3
    },
    {
     "cell_type": "code",
     "collapsed": false,
     "input": [
      "def feature_num_tokens(text):\n",
      "    return {\"num_tokens\": len(nltk.word_tokenize(text))/10}"
     ],
     "language": "python",
     "metadata": {},
     "outputs": [],
     "prompt_number": 4
    },
    {
     "cell_type": "code",
     "collapsed": false,
     "input": [
      "def feature_avg_len_word(text):\n",
      "    tokens = nltk.word_tokenize(text)\n",
      "    return {\"word_len\": sum([len(w) for w in tokens])/len(tokens)}"
     ],
     "language": "python",
     "metadata": {},
     "outputs": [],
     "prompt_number": 5
    },
    {
     "cell_type": "code",
     "collapsed": false,
     "input": [
      "stopwords = nltk.corpus.stopwords.words('english')\n",
      "stemmer = nltk.PorterStemmer()\n",
      "\n",
      "def get_terms(t):\n",
      "    \"\"\"\n",
      "    This is used to get the relevant items out of text. \n",
      "    \"\"\"\n",
      "    tokens = nltk.word_tokenize(t)\n",
      "    return [w.lower() for w in tokens if len(w)>3 and (w not in stopwords)]"
     ],
     "language": "python",
     "metadata": {},
     "outputs": [],
     "prompt_number": 6
    },
    {
     "cell_type": "code",
     "collapsed": false,
     "input": [
      "def get_bigrams(t):\n",
      "    \"\"\"\n",
      "    This is used to get the relevant items out of text. \n",
      "    \"\"\"\n",
      "    tokens = nltk.word_tokenize(t)\n",
      "    tokens = [w.lower() for w in tokens if len(w)>3 and (w not in stopwords)]\n",
      "    \n",
      "    return nltk.bigrams(tokens)"
     ],
     "language": "python",
     "metadata": {},
     "outputs": [],
     "prompt_number": 7
    },
    {
     "cell_type": "code",
     "collapsed": false,
     "input": [
      "def category_term_scorer1(sample_list):\n",
      "    \"\"\"\n",
      "    takes a list of tuples in format (category,text) and creates scores for each term\n",
      "    for its relevance to each category\n",
      "    \"\"\"\n",
      "    categories = {}\n",
      "    \n",
      "    for c,s in sample_list:\n",
      "        if c not in categories:\n",
      "            categories[c]=[]\n",
      "        for w in get_terms(s):\n",
      "            categories[c].append(w)\n",
      "    \n",
      "    fd_all = nltk.FreqDist([w for wl in categories.values() for w in wl])\n",
      "    \n",
      "    fd_categories = {c:nltk.FreqDist(v) for c,v in categories.iteritems()}\n",
      "    \n",
      "    term_scores = {}\n",
      "    for term in fd_all.iterkeys():\n",
      "        if fd_all[term] < 5:\n",
      "            continue\n",
      "        d = {}\n",
      "        for c,fd in fd_categories.iteritems():\n",
      "            d[c]= fd[term]/(1+fd_all[term]-fd[term])\n",
      "        term_scores[term]=d\n",
      "    \n",
      "    return term_scores"
     ],
     "language": "python",
     "metadata": {},
     "outputs": [],
     "prompt_number": 8
    },
    {
     "cell_type": "code",
     "collapsed": false,
     "input": [
      "def category_term_scorer2(sample_list):\n",
      "    \"\"\"\n",
      "    takes a list of tuples in format (category,text) and creates scores for each term\n",
      "    for its relevance to each category\n",
      "    \"\"\"\n",
      "    categories = {}\n",
      "    \n",
      "    for c,s in sample_list:\n",
      "        if c not in categories:\n",
      "            categories[c]=[]\n",
      "        for w in get_bigrams(s):\n",
      "            categories[c].append(w)\n",
      "    \n",
      "    fd_all = nltk.FreqDist([w for wl in categories.values() for w in wl])\n",
      "    \n",
      "    fd_categories = {c:nltk.FreqDist(v) for c,v in categories.iteritems()}\n",
      "    \n",
      "    term_scores = {}\n",
      "    for term in fd_all.iterkeys():\n",
      "        if fd_all[term] < 5:\n",
      "            continue\n",
      "        d = {}\n",
      "        for c,fd in fd_categories.iteritems():\n",
      "            d[c]= fd[term]/(1+fd_all[term]-fd[term])\n",
      "        term_scores[term]=d\n",
      "    \n",
      "    return term_scores"
     ],
     "language": "python",
     "metadata": {},
     "outputs": [],
     "prompt_number": 9
    },
    {
     "cell_type": "code",
     "collapsed": false,
     "input": [
      "termscore1 = term_scoring.TermScoreBagger(scorer=category_term_scorer1, key=\"termscore\")\n",
      "termscore2 = term_scoring.TermScoreBagger(scorer=category_term_scorer2, key=\"bigramscore\")"
     ],
     "language": "python",
     "metadata": {},
     "outputs": [],
     "prompt_number": 10
    },
    {
     "cell_type": "code",
     "collapsed": false,
     "input": [
      "extractor = util.FeatureExtractor()\n",
      "extractor.add_extractor(feature_num_tokens)\n",
      "extractor.add_extractor(feature_avg_len_word)\n",
      "extractor.add_extractor(termscore1, trained=True)\n",
      "extractor.add_extractor(termscore2, trained=True)"
     ],
     "language": "python",
     "metadata": {},
     "outputs": [],
     "prompt_number": 11
    },
    {
     "cell_type": "code",
     "collapsed": false,
     "input": [
      "extractor.test(sample_sets, folds=10, confusion=True, classifier=classifier)"
     ],
     "language": "python",
     "metadata": {},
     "outputs": [
      {
       "output_type": "stream",
       "stream": "stdout",
       "text": [
        "**************************\n",
        "Run 0\n",
        "**************************\n",
        "test 0 - 54.647%"
       ]
      },
      {
       "output_type": "stream",
       "stream": "stdout",
       "text": [
        "\n",
        "  |      1      2      3      4      6      5      7 |\n",
        "--+--------------------------------------------------+\n",
        "1 | <19.0%>  2.2%   1.9%   1.9%      .   1.5%   0.4% |\n",
        "2 |   4.8% <14.5%>  0.7%      .      .   0.7%      . |\n",
        "3 |   5.9%   0.7%  <5.2%>  0.7%   0.7%   0.7%      . |\n",
        "4 |   3.3%      .   0.4%  <8.9%>     .      .      . |\n",
        "6 |   4.8%   0.4%      .   1.1%  <3.0%>     .      . |\n",
        "5 |   5.2%   0.4%   0.4%      .      .  <2.6%>  0.4% |\n",
        "7 |   5.6%      .      .   0.4%      .      .  <1.5%>|\n",
        "--+--------------------------------------------------+\n",
        "(row = reference; col = test)\n"
       ]
      },
      {
       "output_type": "stream",
       "stream": "stdout",
       "text": [
        "\n",
        "test 1 - 58.364%"
       ]
      },
      {
       "output_type": "stream",
       "stream": "stdout",
       "text": [
        "\n",
        "  |      1      3      4      2      7      6      5 |\n",
        "--+--------------------------------------------------+\n",
        "1 | <19.7%>  1.5%   3.7%   4.1%      .   0.7%   0.7% |\n",
        "3 |   6.3% <10.4%>  1.5%   0.4%      .      .      . |\n",
        "4 |   2.6%   0.7% <11.5%>  0.4%      .      .      . |\n",
        "2 |   3.0%      .      .  <9.7%>     .      .   0.4% |\n",
        "7 |   5.6%   0.4%      .      .  <1.9%>  0.4%      . |\n",
        "6 |   3.0%      .   0.7%      .      .  <3.7%>     . |\n",
        "5 |   4.1%      .   0.4%   0.4%   0.4%   0.4%  <1.5%>|\n",
        "--+--------------------------------------------------+\n",
        "(row = reference; col = test)\n"
       ]
      },
      {
       "output_type": "stream",
       "stream": "stdout",
       "text": [
        "\n",
        "test 2 - 55.019%"
       ]
      },
      {
       "output_type": "stream",
       "stream": "stdout",
       "text": [
        "\n",
        "  |      1      4      2      3      7      5      6 |\n",
        "--+--------------------------------------------------+\n",
        "1 | <20.4%>  2.6%   2.2%   1.9%   0.4%      .   0.4% |\n",
        "4 |   3.3% <13.0%>  0.7%   0.4%      .      .      . |\n",
        "2 |   5.6%      . <10.4%>  0.4%   0.4%      .      . |\n",
        "3 |   4.8%   0.7%   0.7%  <6.3%>  0.4%      .      . |\n",
        "7 |   7.4%      .      .      .  <1.1%>     .      . |\n",
        "5 |   4.1%   0.4%   1.1%   0.4%   0.7%  <1.5%>     . |\n",
        "6 |   5.6%      .      .      .   0.4%      .  <2.2%>|\n",
        "--+--------------------------------------------------+\n",
        "(row = reference; col = test)\n"
       ]
      },
      {
       "output_type": "stream",
       "stream": "stdout",
       "text": [
        "\n",
        "test 3 - 54.275%"
       ]
      },
      {
       "output_type": "stream",
       "stream": "stdout",
       "text": [
        "\n",
        "  |      1      2      3      5      4      6      7 |\n",
        "--+--------------------------------------------------+\n",
        "1 | <23.0%>  2.6%   0.7%   1.1%   2.2%      .   0.4% |\n",
        "2 |   4.1% <13.4%>  0.4%      .      .      .      . |\n",
        "3 |   4.8%   1.1%  <5.2%>     .   1.9%      .      . |\n",
        "5 |   6.3%   1.5%   0.4%  <2.2%>  0.7%      .   1.1% |\n",
        "4 |   2.6%      .      .      .  <7.4%>  0.4%      . |\n",
        "6 |   5.6%      .      .      .   0.7%  <1.9%>     . |\n",
        "7 |   6.3%      .      .   0.4%      .   0.4%  <1.1%>|\n",
        "--+--------------------------------------------------+\n",
        "(row = reference; col = test)\n"
       ]
      },
      {
       "output_type": "stream",
       "stream": "stdout",
       "text": [
        "\n",
        "test 4 - 50.558%"
       ]
      },
      {
       "output_type": "stream",
       "stream": "stdout",
       "text": [
        "\n",
        "  |      1      3      2      4      7      6      5 |\n",
        "--+--------------------------------------------------+\n",
        "1 | <23.4%>  1.1%   2.6%   1.1%   0.7%      .   0.4% |\n",
        "3 |   8.6%  <7.1%>     .   1.9%   0.4%      .   0.4% |\n",
        "2 |   7.1%      .  <9.7%>     .      .      .      . |\n",
        "4 |   5.2%   0.7%      .  <6.3%>     .   0.4%      . |\n",
        "7 |   5.9%   0.4%      .   0.4%  <1.5%>  0.4%   0.4% |\n",
        "6 |   5.9%      .      .      .   0.4%  <1.5%>     . |\n",
        "5 |   3.0%   0.7%   0.4%      .   0.4%   0.7%  <1.1%>|\n",
        "--+--------------------------------------------------+\n",
        "(row = reference; col = test)\n"
       ]
      },
      {
       "output_type": "stream",
       "stream": "stdout",
       "text": [
        "\n",
        "test 5 - 52.788%"
       ]
      },
      {
       "output_type": "stream",
       "stream": "stdout",
       "text": [
        "\n",
        "  |      1      2      4      3      5      6      7 |\n",
        "--+--------------------------------------------------+\n",
        "1 | <22.7%>  2.2%   2.2%   1.5%   0.4%   1.1%   0.4% |\n",
        "2 |   5.6% <12.6%>     .   0.7%      .   0.4%      . |\n",
        "4 |   3.3%   0.4%  <8.2%>     .      .   0.4%   0.4% |\n",
        "3 |   4.8%   0.4%   1.1%  <3.7%>     .      .      . |\n",
        "5 |   7.8%   1.1%      .      .  <1.1%>     .      . |\n",
        "6 |   4.1%      .   0.7%      .      .  <4.1%>     . |\n",
        "7 |   5.6%   0.7%      .   0.7%   0.7%   0.4%  <0.4%>|\n",
        "--+--------------------------------------------------+\n",
        "(row = reference; col = test)\n"
       ]
      },
      {
       "output_type": "stream",
       "stream": "stdout",
       "text": [
        "\n",
        "test 6 - 52.416%"
       ]
      },
      {
       "output_type": "stream",
       "stream": "stdout",
       "text": [
        "\n",
        "  |      1      3      2      4      5      6      7 |\n",
        "--+--------------------------------------------------+\n",
        "1 | <21.2%>  0.4%   1.1%   1.5%      .      .      . |\n",
        "3 |   8.9%  <6.3%>  0.4%   1.9%      .      .      . |\n",
        "2 |   3.7%   1.1%  <9.7%>     .      .      .      . |\n",
        "4 |   2.6%   0.4%   0.4%  <7.8%>     .   0.7%      . |\n",
        "5 |   6.3%   0.7%   0.4%   0.4%  <3.3%>     .      . |\n",
        "6 |   6.3%      .      .   1.1%      .  <3.0%>     . |\n",
        "7 |   7.8%      .      .      .   0.7%   0.7%  <1.1%>|\n",
        "--+--------------------------------------------------+\n",
        "(row = reference; col = test)\n"
       ]
      },
      {
       "output_type": "stream",
       "stream": "stdout",
       "text": [
        "\n",
        "test 7 - 56.134%"
       ]
      },
      {
       "output_type": "stream",
       "stream": "stdout",
       "text": [
        "\n",
        "  |      1      2      3      4      6      7      5 |\n",
        "--+--------------------------------------------------+\n",
        "1 | <21.9%>  3.3%   1.1%   2.2%   0.4%   0.4%   1.1% |\n",
        "2 |   5.6% <11.2%>  0.4%   0.4%      .      .      . |\n",
        "3 |   7.1%   0.4%  <8.9%>  0.4%      .      .      . |\n",
        "4 |   2.2%      .      .  <7.8%>     .      .      . |\n",
        "6 |   4.1%   0.4%      .   0.7%  <3.0%>  0.4%   0.4% |\n",
        "7 |   6.7%      .   0.4%      .      .  <1.9%>     . |\n",
        "5 |   4.1%      .   0.4%   1.1%      .   0.4%  <1.5%>|\n",
        "--+--------------------------------------------------+\n",
        "(row = reference; col = test)\n"
       ]
      },
      {
       "output_type": "stream",
       "stream": "stdout",
       "text": [
        "\n",
        "test 8 - 54.275%"
       ]
      },
      {
       "output_type": "stream",
       "stream": "stdout",
       "text": [
        "\n",
        "  |      1      2      4      3      7      5      6 |\n",
        "--+--------------------------------------------------+\n",
        "1 | <20.8%>  1.1%   4.1%   0.4%      .      .      . |\n",
        "2 |   5.6%  <7.8%>     .   1.1%      .      .      . |\n",
        "4 |   4.1%      .  <9.3%>  0.7%      .      .      . |\n",
        "3 |   4.1%   0.7%   0.4%  <8.2%>     .      .      . |\n",
        "7 |   7.1%   0.4%   0.4%   0.7%  <2.6%>  0.4%   0.4% |\n",
        "5 |   5.6%   0.7%   0.7%   0.7%   0.4%  <1.9%>     . |\n",
        "6 |   4.5%   0.4%   1.1%      .      .      .  <3.7%>|\n",
        "--+--------------------------------------------------+\n",
        "(row = reference; col = test)\n"
       ]
      },
      {
       "output_type": "stream",
       "stream": "stdout",
       "text": [
        "\n",
        "test 9 - 52.347%"
       ]
      },
      {
       "output_type": "stream",
       "stream": "stdout",
       "text": [
        "\n",
        "  |      1      2      3      4      7      5      6 |\n",
        "--+--------------------------------------------------+\n",
        "1 | <20.2%>  2.5%   0.4%   4.0%   0.7%   0.7%   0.4% |\n",
        "2 |   5.8% <10.8%>     .   0.4%      .      .   0.4% |\n",
        "3 |   5.4%   1.1%  <8.3%>  0.7%      .      .   0.4% |\n",
        "4 |   3.6%      .      .  <7.9%>     .      .      . |\n",
        "7 |   6.9%      .   0.4%   0.4%  <2.2%>     .   0.4% |\n",
        "5 |   5.4%   0.4%   0.7%      .   0.4%  <1.1%>  1.1% |\n",
        "6 |   2.2%   0.7%   0.7%   1.4%   0.4%      .  <1.8%>|\n",
        "--+--------------------------------------------------+\n",
        "(row = reference; col = test)\n"
       ]
      },
      {
       "output_type": "stream",
       "stream": "stdout",
       "text": [
        "\n"
       ]
      }
     ],
     "prompt_number": 12
    },
    {
     "cell_type": "code",
     "collapsed": false,
     "input": [
      "cl = extractor.get_classifier(sample_sets, classifier=classifier)"
     ],
     "language": "python",
     "metadata": {},
     "outputs": [],
     "prompt_number": 13
    },
    {
     "cell_type": "code",
     "collapsed": false,
     "input": [
      "cl."
     ],
     "language": "python",
     "metadata": {},
     "outputs": [
      {
       "ename": "AttributeError",
       "evalue": "'SklearnClassifier' object has no attribute 'show_most_informative_features'",
       "output_type": "pyerr",
       "traceback": [
        "\u001b[1;31m---------------------------------------------------------------------------\u001b[0m\n\u001b[1;31mAttributeError\u001b[0m                            Traceback (most recent call last)",
        "\u001b[1;32m<ipython-input-14-d3549fd30211>\u001b[0m in \u001b[0;36m<module>\u001b[1;34m()\u001b[0m\n\u001b[1;32m----> 1\u001b[1;33m \u001b[0mcl\u001b[0m\u001b[1;33m.\u001b[0m\u001b[0mshow_most_informative_features\u001b[0m\u001b[1;33m(\u001b[0m\u001b[1;36m50\u001b[0m\u001b[1;33m)\u001b[0m\u001b[1;33m\u001b[0m\u001b[0m\n\u001b[0m",
        "\u001b[1;31mAttributeError\u001b[0m: 'SklearnClassifier' object has no attribute 'show_most_informative_features'"
       ]
      }
     ],
     "prompt_number": 14
    },
    {
     "cell_type": "code",
     "collapsed": false,
     "input": [
      "final_features = util.make_feature(extractor, final_sets)"
     ],
     "language": "python",
     "metadata": {},
     "outputs": []
    },
    {
     "cell_type": "code",
     "collapsed": false,
     "input": [
      "submission = util.make_submission(cl, final_features, writeto=\"submission28.csv\")"
     ],
     "language": "python",
     "metadata": {},
     "outputs": []
    }
   ],
   "metadata": {}
  }
 ]
}