{
 "metadata": {
  "name": "",
  "signature": "sha256:2c60eb4a4ffe9ec7807dc3744adb8ab8ab43bcdd539a0b0e68300b1760178079"
 },
 "nbformat": 3,
 "nbformat_minor": 0,
 "worksheets": [
  {
   "cells": [
    {
     "cell_type": "code",
     "collapsed": false,
     "input": [
      "import re\n",
      "import random\n",
      "from os import path\n",
      "\n",
      "import nltk\n",
      "\n",
      "import testing_util as util\n",
      "import term_scoring\n",
      "from testing_util import sample_sets, final_sets"
     ],
     "language": "python",
     "metadata": {},
     "outputs": [],
     "prompt_number": 1
    },
    {
     "cell_type": "code",
     "collapsed": false,
     "input": [
      "class WordSearcher(object):\n",
      "    def __init__(self, wordlist=None, key=\"\", name=\"wordsearcher\"):\n",
      "        self.wordlist = wordlist if wordlist else []\n",
      "        self.key = key\n",
      "        self.name=name\n",
      "    \n",
      "    def add(self, wordlist):\n",
      "        self.wordlist.extend(wordlist)\n",
      "    \n",
      "    def clear(self):\n",
      "        self.wordlist = []\n",
      "    \n",
      "    def __call__(self, text):\n",
      "        out = {}\n",
      "        for word in self.wordlist:\n",
      "            out[\"{}has({})\".format(self.key, word)] = 1 if re.search(word, text, re.IGNORECASE) else 0\n",
      "        return out"
     ],
     "language": "python",
     "metadata": {},
     "outputs": [],
     "prompt_number": 2
    },
    {
     "cell_type": "code",
     "collapsed": false,
     "input": [
      "worder = WordSearcher()"
     ],
     "language": "python",
     "metadata": {},
     "outputs": [],
     "prompt_number": 3
    },
    {
     "cell_type": "code",
     "collapsed": false,
     "input": [
      "worder.clear()\n",
      "#1-business\n",
      "worder.add([\"money\", \"credit\", \"business\", \"sell\"])\n",
      "#2-computers\n",
      "worder.add([\"comp\", \"linux\", \"windows\", \"internet\",\n",
      "            \"software\", \"program\", r\"\\d+(mb|kb|gb)\",\n",
      "            \"download\", \"e-?mail\", \"web\", \"(desk|lap)top\",\n",
      "            \"wireless\", \"website\", \"html\", \"smtp\"])\n",
      "#3 - entertainment\n",
      "worder.add([\"song\", \"movie\", \"music\", \"favorite\",\n",
      "            \"show\", \"first\", \"rock\", \"magazine\",\n",
      "            \"lyric\", \"series\", \"episode\", \"singer\",\n",
      "            \"act(or|ress)\", \"cartoon\", \"riddle\", \"joke\"\n",
      "            \"album\"])\n",
      "#4 - family/relationships\n",
      "worder.add([\"love\", \"girl\", \"boy\", \"relationship\",\n",
      "            \"women\", \"date\", \"(boy|girl)friend\", \"marri\",\n",
      "            \"wife\", \"husband\", \"family\", \"dating\", \"sex\",\n",
      "            \" friend\", \"roman(ce|tic)\"\n",
      "            ])\n",
      "#5 - education and reference\n",
      "worder.add([\"school\", \"college\", \"study\", \"english\", \"word\",\n",
      "            \"history\", \"educat\", \"teach\", \"book\", \"spanish\",\n",
      "            \"university\", \"grade\", \"exam\", \"learn\"])\n",
      "#6 - Health\n",
      "worder.add([\"pain\", \"cold\", \"body\", \"surgery\", \"blood\",\n",
      "            \"weight\", \"health\", \"smok(es|ing)\", \"symptoms\",\n",
      "            \"cure\", \"diet\", \"treatment\", \"medic\", \"penis\",\n",
      "            \"vomit\", \"acne\", \"\\d+mg\", \"itching\", \"teeth\",\n",
      "            \"materbat\"])\n",
      "#7 - Science&Mathematics\n",
      "worder.add([\"earth\", \"world\", \"theory\", \"universe\", \"point\",\n",
      "            \"planet\", \"moon\", \"science\", \"math\", \"atom\", \"stars\",\n",
      "            \"\\d+[/*^+-]\\d+\"])"
     ],
     "language": "python",
     "metadata": {},
     "outputs": [],
     "prompt_number": 4
    },
    {
     "cell_type": "code",
     "collapsed": false,
     "input": [
      "def notbiz(text):\n",
      "    terms = [\"break\", \"connect\", \"laptop\", \"linux\", \"sexual\",\n",
      "             \"version\", \"heart\", \"treat\", \"surgery\", \"click\",\n",
      "             \"science\", \"excel\", \"diet\", \"album\", \"computer\",\n",
      "             \"desktop\"]\n",
      "    score = 0\n",
      "    for word in terms:\n",
      "        if re.search(word, text, re.IGNORECASE):\n",
      "            score += 1\n",
      "    if score > 3:\n",
      "        score = 3\n",
      "    return {\"notbiz\":score}"
     ],
     "language": "python",
     "metadata": {},
     "outputs": [],
     "prompt_number": 17
    },
    {
     "cell_type": "code",
     "collapsed": false,
     "input": [
      "extractor = util.FeatureExtractor()\n",
      "extractor.add_extractor(worder)\n",
      "extractor.add_extractor(notbiz)"
     ],
     "language": "python",
     "metadata": {},
     "outputs": [],
     "prompt_number": 11
    },
    {
     "cell_type": "code",
     "collapsed": false,
     "input": [
      "classifier = nltk.classify.NaiveBayesClassifier"
     ],
     "language": "python",
     "metadata": {},
     "outputs": [],
     "prompt_number": 12
    },
    {
     "cell_type": "code",
     "collapsed": false,
     "input": [
      "extractor.test(sample_sets, confusion=True, folds=10, classifier=classifier)"
     ],
     "language": "python",
     "metadata": {},
     "outputs": [
      {
       "output_type": "stream",
       "stream": "stdout",
       "text": [
        "**************************\n",
        "Run 0\n",
        "**************************\n",
        "test 0 - 55.390%"
       ]
      },
      {
       "output_type": "stream",
       "stream": "stdout",
       "text": [
        "\n",
        "  |      1      2      4      3      5      6      7 |\n",
        "--+--------------------------------------------------+\n",
        "1 | <24.2%>  1.5%   1.1%   0.7%   0.7%   1.5%      . |\n",
        "2 |   6.3% <13.0%>  0.4%   0.4%   0.7%      .      . |\n",
        "4 |   3.3%   0.4%  <8.2%>  0.4%      .      .   0.4% |\n",
        "3 |   6.7%   0.4%   0.4%  <4.5%>  0.4%      .      . |\n",
        "5 |   6.3%   0.4%      .   0.4%  <2.2%>  0.4%   0.4% |\n",
        "6 |   4.1%   0.4%   1.1%      .      .  <1.9%>     . |\n",
        "7 |   5.6%      .      .      .      .      .  <1.5%>|\n",
        "--+--------------------------------------------------+\n",
        "(row = reference; col = test)\n"
       ]
      },
      {
       "output_type": "stream",
       "stream": "stdout",
       "text": [
        "\n",
        "test 1 - 47.212%"
       ]
      },
      {
       "output_type": "stream",
       "stream": "stdout",
       "text": [
        "\n",
        "  |      1      3      2      5      4      7      6 |\n",
        "--+--------------------------------------------------+\n",
        "1 | <20.8%>  1.1%   3.0%   1.1%   1.9%      .   0.4% |\n",
        "3 |  10.0%  <6.7%>  1.9%      .   1.9%      .   0.7% |\n",
        "2 |   6.7%   1.1%  <7.1%>     .      .      .      . |\n",
        "5 |   6.7%      .   1.1%  <1.9%>  0.4%      .      . |\n",
        "4 |   3.3%   0.4%      .      .  <5.9%>     .      . |\n",
        "7 |   4.8%      .   0.7%   0.4%      .  <2.2%>  0.4% |\n",
        "6 |   3.7%   0.4%   0.4%      .   0.4%      .  <2.6%>|\n",
        "--+--------------------------------------------------+\n",
        "(row = reference; col = test)\n"
       ]
      },
      {
       "output_type": "stream",
       "stream": "stdout",
       "text": [
        "\n",
        "test 2 - 54.275%"
       ]
      },
      {
       "output_type": "stream",
       "stream": "stdout",
       "text": [
        "\n",
        "  |      1      2      4      3      5      7      6 |\n",
        "--+--------------------------------------------------+\n",
        "1 | <24.5%>  2.2%   1.1%   1.9%   0.4%   0.4%   0.4% |\n",
        "2 |   5.6%  <8.6%>     .   1.1%      .      .      . |\n",
        "4 |   4.5%   1.1%  <7.8%>  0.4%      .      .      . |\n",
        "3 |   4.5%   1.1%   1.1%  <5.6%>     .      .      . |\n",
        "5 |   6.3%   1.1%      .   0.4%  <2.6%>  0.4%   0.4% |\n",
        "7 |   4.8%   0.7%      .      .      .  <2.6%>  0.4% |\n",
        "6 |   4.8%   0.7%      .      .      .      .  <2.6%>|\n",
        "--+--------------------------------------------------+\n",
        "(row = reference; col = test)\n"
       ]
      },
      {
       "output_type": "stream",
       "stream": "stdout",
       "text": [
        "\n",
        "test 3 - 48.327%"
       ]
      },
      {
       "output_type": "stream",
       "stream": "stdout",
       "text": [
        "\n",
        "  |      1      2      3      4      7      6      5 |\n",
        "--+--------------------------------------------------+\n",
        "1 | <22.3%>  1.1%   1.1%   1.9%   0.4%   1.1%   0.7% |\n",
        "2 |  11.2%  <7.4%>  1.1%      .   0.4%   0.4%      . |\n",
        "3 |   5.2%   0.7%  <7.1%>  0.4%      .      .   0.4% |\n",
        "4 |   3.7%      .      .  <6.7%>  0.4%   0.4%      . |\n",
        "7 |   7.4%      .   0.4%      .  <0.4%>  1.5%   0.4% |\n",
        "6 |   4.5%   0.4%      .   1.5%      .  <3.0%>     . |\n",
        "5 |   4.1%   1.1%      .      .      .      .  <1.5%>|\n",
        "--+--------------------------------------------------+\n",
        "(row = reference; col = test)\n"
       ]
      },
      {
       "output_type": "stream",
       "stream": "stdout",
       "text": [
        "\n",
        "test 4 - 57.249%"
       ]
      },
      {
       "output_type": "stream",
       "stream": "stdout",
       "text": [
        "\n",
        "  |      1      2      3      4      6      7      5 |\n",
        "--+--------------------------------------------------+\n",
        "1 | <24.5%>  1.9%   0.4%   1.9%      .      .      . |\n",
        "2 |   7.8%  <8.2%>  0.4%   0.4%      .      .      . |\n",
        "3 |   7.4%   0.4%  <7.4%>  0.7%      .      .      . |\n",
        "4 |   4.1%   0.4%   1.1%  <8.2%>  0.4%      .      . |\n",
        "6 |   4.5%      .   0.4%      .  <4.8%>     .      . |\n",
        "7 |   5.2%   0.7%   0.4%      .      .  <2.2%>  0.4% |\n",
        "5 |   4.1%      .      .      .      .      .  <1.9%>|\n",
        "--+--------------------------------------------------+\n",
        "(row = reference; col = test)\n"
       ]
      },
      {
       "output_type": "stream",
       "stream": "stdout",
       "text": [
        "\n",
        "test 5 - 50.558%"
       ]
      },
      {
       "output_type": "stream",
       "stream": "stdout",
       "text": [
        "\n",
        "  |      1      2      3      4      6      7      5 |\n",
        "--+--------------------------------------------------+\n",
        "1 | <22.7%>  1.9%   1.1%   2.6%      .      .   0.4% |\n",
        "2 |   8.6%  <5.2%>  0.7%      .      .      .      . |\n",
        "3 |   5.2%   1.1%  <5.6%>  2.6%      .      .      . |\n",
        "4 |   3.3%      .      .  <9.3%>     .      .      . |\n",
        "6 |   5.6%   0.7%      .   0.7%  <4.5%>     .      . |\n",
        "7 |   7.1%   0.4%   0.4%   0.4%   0.4%  <0.4%>  0.4% |\n",
        "5 |   5.6%      .      .      .   0.4%      .  <3.0%>|\n",
        "--+--------------------------------------------------+\n",
        "(row = reference; col = test)\n"
       ]
      },
      {
       "output_type": "stream",
       "stream": "stdout",
       "text": [
        "\n",
        "test 6 - 47.584%"
       ]
      },
      {
       "output_type": "stream",
       "stream": "stdout",
       "text": [
        "\n",
        "  |      1      2      3      4      5      7      6 |\n",
        "--+--------------------------------------------------+\n",
        "1 | <21.9%>  1.1%   1.5%   2.2%   0.4%   0.4%      . |\n",
        "2 |  10.8%  <7.1%>     .   0.4%   0.4%   0.4%      . |\n",
        "3 |   7.8%   1.1%  <6.3%>     .      .      .   0.4% |\n",
        "4 |   5.9%      .      .  <6.7%>     .      .      . |\n",
        "5 |   6.7%   0.4%   0.4%   0.4%  <1.1%>     .   0.4% |\n",
        "7 |   5.6%   0.4%   0.7%   0.4%      .  <1.9%>  0.4% |\n",
        "6 |   3.3%   0.4%   0.4%      .      .      .  <2.6%>|\n",
        "--+--------------------------------------------------+\n",
        "(row = reference; col = test)\n"
       ]
      },
      {
       "output_type": "stream",
       "stream": "stdout",
       "text": [
        "\n",
        "test 7 - 53.532%"
       ]
      },
      {
       "output_type": "stream",
       "stream": "stdout",
       "text": [
        "\n",
        "  |      1      3      4      5      2      7      6 |\n",
        "--+--------------------------------------------------+\n",
        "1 | <25.3%>  2.2%   1.5%   0.4%   2.6%      .   0.4% |\n",
        "3 |   5.6%  <5.6%>  1.5%   0.4%   0.7%   0.7%   0.4% |\n",
        "4 |   3.3%   0.7%  <9.7%>     .   0.4%      .      . |\n",
        "5 |   5.6%   0.7%      .  <4.8%>  0.4%      .   0.4% |\n",
        "2 |   4.8%      .   0.4%      .  <4.8%>     .      . |\n",
        "7 |   7.4%   0.7%      .   0.4%   0.4%  <0.7%>     . |\n",
        "6 |   4.5%      .      .      .      .      .  <2.6%>|\n",
        "--+--------------------------------------------------+\n",
        "(row = reference; col = test)\n"
       ]
      },
      {
       "output_type": "stream",
       "stream": "stdout",
       "text": [
        "\n",
        "test 8 - 56.877%"
       ]
      },
      {
       "output_type": "stream",
       "stream": "stdout",
       "text": [
        "\n",
        "  |      1      2      3      4      6      7      5 |\n",
        "--+--------------------------------------------------+\n",
        "1 | <21.9%>  1.1%   0.7%   1.5%      .      .      . |\n",
        "2 |   5.9%  <8.9%>  0.7%      .      .      .   0.4% |\n",
        "3 |   7.1%   0.4%  <8.2%>  0.4%      .      .      . |\n",
        "4 |   5.2%   0.7%   0.4%  <7.4%>     .      .      . |\n",
        "6 |   5.2%      .      .   0.7%  <4.8%>     .      . |\n",
        "7 |   5.9%   0.7%   0.7%      .      .  <3.0%>     . |\n",
        "5 |   3.3%   0.7%   0.4%      .      .   0.7%  <2.6%>|\n",
        "--+--------------------------------------------------+\n",
        "(row = reference; col = test)\n"
       ]
      },
      {
       "output_type": "stream",
       "stream": "stdout",
       "text": [
        "\n",
        "test 9 - 56.318%"
       ]
      },
      {
       "output_type": "stream",
       "stream": "stdout",
       "text": [
        "\n",
        "  |      1      2      3      4      7      5      6 |\n",
        "--+--------------------------------------------------+\n",
        "1 | <21.7%>  1.1%   0.4%   0.7%   0.7%   0.7%      . |\n",
        "2 |   7.2% <12.6%>  0.7%      .      .      .      . |\n",
        "3 |   4.7%   0.7%  <7.6%>  0.4%   0.4%   0.4%      . |\n",
        "4 |   6.5%      .      .  <7.6%>     .      .      . |\n",
        "7 |   6.9%   1.4%      .      .  <1.1%>     .      . |\n",
        "5 |   4.0%   0.4%   0.4%      .   0.7%  <2.9%>  0.4% |\n",
        "6 |   4.0%   0.4%      .   0.4%      .   0.4%  <2.9%>|\n",
        "--+--------------------------------------------------+\n",
        "(row = reference; col = test)\n"
       ]
      },
      {
       "output_type": "stream",
       "stream": "stdout",
       "text": [
        "\n"
       ]
      }
     ],
     "prompt_number": 13
    },
    {
     "cell_type": "code",
     "collapsed": false,
     "input": [
      "final_features = util.make_feature(extractor, final_sets)"
     ],
     "language": "python",
     "metadata": {},
     "outputs": []
    },
    {
     "cell_type": "code",
     "collapsed": false,
     "input": [
      "cl = util.make_classifier(extractor, sample_sets)"
     ],
     "language": "python",
     "metadata": {},
     "outputs": [],
     "prompt_number": 15
    },
    {
     "cell_type": "code",
     "collapsed": false,
     "input": [
      "cl.show_most_informative_features(50)"
     ],
     "language": "python",
     "metadata": {},
     "outputs": [
      {
       "output_type": "stream",
       "stream": "stdout",
       "text": [
        "Most Informative Features\n",
        "               has(love) = 1                   4 : 2      =     35.8 : 1.0\n",
        "               has(pain) = 1                   6 : 1      =     34.1 : 1.0\n",
        "                has(sex) = 1                   4 : 2      =     33.5 : 1.0\n",
        "              has(music) = 1                   3 : 1      =     30.9 : 1.0\n",
        "               has(girl) = 1                   4 : 7      =     28.6 : 1.0\n",
        "               has(song) = 1                   3 : 1      =     26.8 : 1.0\n",
        "                  notbiz = 1                   2 : 1      =     25.4 : 1.0\n",
        "       has(relationship) = 1                   4 : 1      =     25.2 : 1.0\n",
        "              has(movie) = 1                   3 : 4      =     22.5 : 1.0\n",
        "            has(college) = 1                   5 : 2      =     20.4 : 1.0\n",
        "            has( friend) = 1                   4 : 5      =     20.0 : 1.0\n",
        "                has(boy) = 1                   4 : 5      =     19.5 : 1.0\n",
        "              has(medic) = 1                   6 : 1      =     19.1 : 1.0\n",
        "   has((boy|girl)friend) = 1                   4 : 6      =     19.0 : 1.0\n",
        "           has(internet) = 1                   2 : 3      =     18.8 : 1.0\n",
        "               has(rock) = 1                   3 : 1      =     18.3 : 1.0\n",
        "              has(study) = 1                   5 : 1      =     17.8 : 1.0\n",
        "            has(program) = 1                   2 : 3      =     17.0 : 1.0\n",
        "              has(marri) = 1                   4 : 1      =     16.7 : 1.0\n",
        "           has(software) = 1                   2 : 1      =     16.6 : 1.0\n",
        "              has(blood) = 1                   6 : 1      =     16.5 : 1.0\n",
        "             has(school) = 1                   5 : 2      =     16.0 : 1.0\n",
        "                has(web) = 1                   2 : 6      =     15.9 : 1.0\n",
        "               has(cold) = 1                   6 : 3      =     15.7 : 1.0\n",
        "               has(math) = 1                   7 : 1      =     15.6 : 1.0\n",
        "       has(smok(es|ing)) = 1                   6 : 1      =     14.3 : 1.0\n",
        "              has(grade) = 1                   5 : 1      =     13.6 : 1.0\n",
        "               has(moon) = 1                   7 : 1      =     13.5 : 1.0\n",
        "            has(windows) = 1                   2 : 5      =     12.8 : 1.0\n",
        "            has(episode) = 1                   3 : 1      =     12.0 : 1.0\n",
        "           has(magazine) = 1                   3 : 1      =     12.0 : 1.0\n",
        "            has(english) = 1                   5 : 2      =     11.8 : 1.0\n",
        "              has(teach) = 1                   5 : 2      =     11.8 : 1.0\n",
        "            has(science) = 1                   7 : 1      =     11.4 : 1.0\n",
        "             has(weight) = 1                   6 : 1      =     11.2 : 1.0\n",
        "           has(wireless) = 1                   2 : 1      =     10.7 : 1.0\n",
        "              has(women) = 1                   4 : 5      =     10.6 : 1.0\n",
        "               has(wife) = 1                   4 : 1      =     10.2 : 1.0\n",
        "             has(health) = 1                   6 : 1      =      9.9 : 1.0\n",
        "              has(earth) = 1                   7 : 4      =      9.9 : 1.0\n",
        "             has(riddle) = 1                   3 : 1      =      9.5 : 1.0\n",
        "            has(spanish) = 1                   5 : 1      =      9.4 : 1.0\n",
        "               has(show) = 1                   3 : 6      =      9.4 : 1.0\n",
        "               has(date) = 1                   4 : 3      =      9.1 : 1.0\n",
        "            has(e-?mail) = 1                   2 : 3      =      8.8 : 1.0\n",
        "           has(download) = 1                   2 : 1      =      8.5 : 1.0\n",
        "               has(cure) = 1                   6 : 2      =      8.5 : 1.0\n",
        "              has(point) = 1                   7 : 3      =      8.2 : 1.0\n",
        "             has(educat) = 1                   5 : 1      =      8.2 : 1.0\n",
        "           has(favorite) = 1                   3 : 1      =      8.1 : 1.0\n"
       ]
      }
     ],
     "prompt_number": 16
    },
    {
     "cell_type": "code",
     "collapsed": false,
     "input": [
      "submission = util.make_submission(cl, final_features, writeto=\"submission16ANH.csv\")"
     ],
     "language": "python",
     "metadata": {},
     "outputs": [],
     "prompt_number": 87
    }
   ],
   "metadata": {}
  }
 ]
}