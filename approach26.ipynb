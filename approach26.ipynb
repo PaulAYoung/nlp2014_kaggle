{
 "metadata": {
  "name": "",
  "signature": "sha256:ee6a0455dbdc781f2d746801f60dac650b1f0f50d1e28d8ed5aa5850be81d35b"
 },
 "nbformat": 3,
 "nbformat_minor": 0,
 "worksheets": [
  {
   "cells": [
    {
     "cell_type": "code",
     "collapsed": false,
     "input": [
      "import re\n",
      "import random\n",
      "from os import path\n",
      "\n",
      "import nltk\n",
      "\n",
      "import testing_util as util\n",
      "import term_scoring\n",
      "from testing_util import sample_sets, final_sets"
     ],
     "language": "python",
     "metadata": {},
     "outputs": [],
     "prompt_number": 1
    },
    {
     "cell_type": "code",
     "collapsed": false,
     "input": [
      "class WordSearcher(object):\n",
      "    def __init__(self, wordlist=None, key=\"\", name=\"wordsearcher\"):\n",
      "        self.wordlist = wordlist if wordlist else []\n",
      "        self.key = key\n",
      "        self.name=name\n",
      "    \n",
      "    def add(self, wordlist):\n",
      "        self.wordlist.extend(wordlist)\n",
      "    \n",
      "    def clear(self):\n",
      "        self.wordlist = []\n",
      "    \n",
      "    def __call__(self, text):\n",
      "        out = {}\n",
      "        for word in self.wordlist:\n",
      "            out[\"{}has({})\".format(self.key, word)] = 1 if re.search(word, text, re.IGNORECASE) else 0\n",
      "        return out"
     ],
     "language": "python",
     "metadata": {},
     "outputs": [],
     "prompt_number": 2
    },
    {
     "cell_type": "code",
     "collapsed": false,
     "input": [
      "worder = WordSearcher()"
     ],
     "language": "python",
     "metadata": {},
     "outputs": [],
     "prompt_number": 3
    },
    {
     "cell_type": "code",
     "collapsed": false,
     "input": [
      "worder.clear()\n",
      "#1-business\n",
      "worder.add([\"money\", \"credit\", \"business\", \"sell\"])\n",
      "#2-computers\n",
      "worder.add([\"comp\", \"linux\", \"windows\", \"internet\",\n",
      "            \"software\", \"program\", r\"\\d+(mb|kb|gb)\",\n",
      "            \"download\", \"e-?mail\", \"web\", \"laptop\",\n",
      "            \"wireless\", \"website\", \"html\", \"smtp\"])\n",
      "#3 - entertainment\n",
      "worder.add([\"song\", \"movie\", \"music\", \"favorite\",\n",
      "            \"show\", \"first\", \"rock\", \"magazine\",\n",
      "            \"lyric\", \"series\", \"episode\", \"singer\",\n",
      "            \"act(or|ress)\", \"cartoon\", \"riddle\", \"joke\"\n",
      "            \"album\"])\n",
      "#4 - family/relationships\n",
      "worder.add([\"love\", \"girl\", \"boy\", \"relationship\",\n",
      "            \"women\", \"date\", \"(boy|girl)friend\", \"marri\",\n",
      "            \"wife\", \"husband\", \"family\", \"dating\", \"sex\",\n",
      "            \" friend\", \"roman(ce|tic)\"\n",
      "            ])\n",
      "#5 - education and reference\n",
      "worder.add([\"school\", \"college\", \"study\", \"english\", \"word\",\n",
      "            \"history\", \"educat\", \"teach\", \"book\", \"spanish\",\n",
      "            \"university\", \"grade\", \"exam\", \"learn\"])\n",
      "#6 - Health\n",
      "worder.add([\"pain\", \"cold\", \"body\", \"surgery\", \"blood\",\n",
      "            \"weight\", \"health\", \"smok(es|ing)\", \"symptoms\",\n",
      "            \"cure\", \"diet\", \"treatment\", \"medic\", \"penis\",\n",
      "            \"vomit\", \"acne\", \"\\d+mg\", \"itching\", \"teeth\",\n",
      "            \"materbat\"])\n",
      "#7 - Science&Mathematics\n",
      "worder.add([\"earth\", \"world\", \"theory\", \"universe\", \"point\",\n",
      "            \"planet\", \"moon\", \"science\", \"math\", \"atom\", \"stars\",\n",
      "            \"\\d+[/*^+-]\\d+\"])"
     ],
     "language": "python",
     "metadata": {},
     "outputs": [],
     "prompt_number": 4
    },
    {
     "cell_type": "code",
     "collapsed": false,
     "input": [
      "extractor = util.FeatureExtractor()\n",
      "extractor.add_extractor(worder)"
     ],
     "language": "python",
     "metadata": {},
     "outputs": [],
     "prompt_number": 5
    },
    {
     "cell_type": "code",
     "collapsed": false,
     "input": [
      "classifier = nltk.classify.NaiveBayesClassifier"
     ],
     "language": "python",
     "metadata": {},
     "outputs": [],
     "prompt_number": 6
    },
    {
     "cell_type": "code",
     "collapsed": false,
     "input": [
      "extractor.test(sample_sets, confusion=True, folds=10, classifier=classifier)"
     ],
     "language": "python",
     "metadata": {},
     "outputs": [
      {
       "output_type": "stream",
       "stream": "stdout",
       "text": [
        "**************************\n",
        "Run 0\n",
        "**************************\n",
        "test 0 - 55.019%"
       ]
      },
      {
       "output_type": "stream",
       "stream": "stdout",
       "text": [
        "\n",
        "  |      1      2      3      4      7      5      6 |\n",
        "--+--------------------------------------------------+\n",
        "1 | <26.4%>  3.7%   1.9%   1.5%      .   0.4%   0.4% |\n",
        "2 |   6.3%  <8.6%>  1.1%      .      .   0.4%      . |\n",
        "3 |   5.9%   1.1%  <8.6%>  0.7%      .      .      . |\n",
        "4 |   2.2%      .   1.1%  <5.9%>  0.4%      .      . |\n",
        "7 |   6.3%   0.7%      .      .  <0.7%>  0.4%   0.4% |\n",
        "5 |   5.6%   0.7%      .      .      .  <1.1%>     . |\n",
        "6 |   3.3%      .      .   0.4%      .      .  <3.7%>|\n",
        "--+--------------------------------------------------+\n",
        "(row = reference; col = test)\n"
       ]
      },
      {
       "output_type": "stream",
       "stream": "stdout",
       "text": [
        "\n",
        "test 1 - 52.045%"
       ]
      },
      {
       "output_type": "stream",
       "stream": "stdout",
       "text": [
        "\n",
        "  |      1      3      2      4      6      5      7 |\n",
        "--+--------------------------------------------------+\n",
        "1 | <19.3%>  1.9%   0.7%   0.7%   0.7%   1.1%   0.7% |\n",
        "3 |   5.6%  <8.6%>  0.4%   0.7%   1.1%   0.4%      . |\n",
        "2 |   6.7%      .  <7.8%>  0.4%      .   0.7%      . |\n",
        "4 |   5.9%   0.7%   0.4%  <6.7%>  0.7%      .      . |\n",
        "6 |   3.0%   0.4%      .   1.5%  <5.6%>     .      . |\n",
        "5 |   5.9%      .   0.7%      .      .  <2.2%>     . |\n",
        "7 |   5.6%      .   0.4%      .      .   0.7%  <1.9%>|\n",
        "--+--------------------------------------------------+\n",
        "(row = reference; col = test)\n"
       ]
      },
      {
       "output_type": "stream",
       "stream": "stdout",
       "text": [
        "\n",
        "test 2 - 50.929%"
       ]
      },
      {
       "output_type": "stream",
       "stream": "stdout",
       "text": [
        "\n",
        "  |      1      2      4      3      5      7      6 |\n",
        "--+--------------------------------------------------+\n",
        "1 | <18.2%>  2.2%   3.3%   0.4%   0.4%      .   0.4% |\n",
        "2 |   7.1%  <9.7%>     .   0.4%      .      .      . |\n",
        "4 |   3.3%      . <12.3%>     .      .      .      . |\n",
        "3 |   6.3%   0.7%   0.4%  <5.2%>     .      .      . |\n",
        "5 |   5.9%   0.4%      .   0.4%  <2.6%>  1.1%   0.7% |\n",
        "7 |   8.2%   0.4%      .   0.7%      .  <1.1%>     . |\n",
        "6 |   5.2%      .   0.7%      .   0.4%      .  <1.9%>|\n",
        "--+--------------------------------------------------+\n",
        "(row = reference; col = test)\n"
       ]
      },
      {
       "output_type": "stream",
       "stream": "stdout",
       "text": [
        "\n",
        "test 3 - 50.186%"
       ]
      },
      {
       "output_type": "stream",
       "stream": "stdout",
       "text": [
        "\n",
        "  |      1      2      3      4      5      6      7 |\n",
        "--+--------------------------------------------------+\n",
        "1 | <20.1%>  1.1%   1.1%   1.9%   1.1%   0.4%      . |\n",
        "2 |  11.2%  <8.9%>  0.7%   0.4%   0.7%   0.4%      . |\n",
        "3 |   8.2%      .  <6.3%>  1.5%   0.4%      .      . |\n",
        "4 |   3.7%      .      .  <6.7%>     .      .      . |\n",
        "5 |   4.8%   0.7%   0.4%      .  <3.3%>  0.4%      . |\n",
        "6 |   5.2%      .      .   1.1%      .  <3.0%>     . |\n",
        "7 |   3.0%   0.4%   0.7%      .      .   0.4%  <1.9%>|\n",
        "--+--------------------------------------------------+\n",
        "(row = reference; col = test)\n"
       ]
      },
      {
       "output_type": "stream",
       "stream": "stdout",
       "text": [
        "\n",
        "test 4 - 56.134%"
       ]
      },
      {
       "output_type": "stream",
       "stream": "stdout",
       "text": [
        "\n",
        "  |      1      2      3      4      7      5      6 |\n",
        "--+--------------------------------------------------+\n",
        "1 | <26.0%>  0.7%   1.9%   1.1%      .   0.7%   1.1% |\n",
        "2 |   7.8%  <8.6%>  0.4%      .   0.4%   0.4%      . |\n",
        "3 |   4.8%   1.1%  <6.3%>  1.1%      .      .      . |\n",
        "4 |   3.3%      .      .  <7.4%>  0.4%   0.4%      . |\n",
        "7 |   6.3%   0.7%   0.4%      .  <2.6%>  0.4%   0.4% |\n",
        "5 |   4.8%   0.4%   0.4%   0.4%      .  <3.0%>     . |\n",
        "6 |   3.0%   0.4%      .   0.7%      .      .  <2.2%>|\n",
        "--+--------------------------------------------------+\n",
        "(row = reference; col = test)\n"
       ]
      },
      {
       "output_type": "stream",
       "stream": "stdout",
       "text": [
        "\n",
        "test 5 - 49.442%"
       ]
      },
      {
       "output_type": "stream",
       "stream": "stdout",
       "text": [
        "\n",
        "  |      1      2      3      4      6      7      5 |\n",
        "--+--------------------------------------------------+\n",
        "1 | <23.8%>  1.1%   0.4%   2.2%      .   0.4%   0.7% |\n",
        "2 |   9.7%  <5.9%>  1.1%      .      .      .   0.4% |\n",
        "3 |   9.7%   0.7%  <4.1%>  1.9%      .      .      . |\n",
        "4 |   4.8%   0.4%   0.4%  <6.3%>     .      .      . |\n",
        "6 |   5.6%   0.4%      .      .  <4.8%>     .      . |\n",
        "7 |   4.8%   0.4%      .   0.4%   0.7%  <1.5%>     . |\n",
        "5 |   3.3%      .   0.4%      .   0.4%   0.4%  <3.0%>|\n",
        "--+--------------------------------------------------+\n",
        "(row = reference; col = test)\n"
       ]
      },
      {
       "output_type": "stream",
       "stream": "stdout",
       "text": [
        "\n",
        "test 6 - 55.762%"
       ]
      },
      {
       "output_type": "stream",
       "stream": "stdout",
       "text": [
        "\n",
        "  |      1      2      4      3      5      6      7 |\n",
        "--+--------------------------------------------------+\n",
        "1 | <24.9%>  1.9%   2.6%   0.4%   0.7%      .      . |\n",
        "2 |   8.6%  <7.1%>     .      .      .      .      . |\n",
        "4 |   4.1%   0.4%  <9.3%>  0.4%      .   0.4%      . |\n",
        "3 |   5.6%   0.7%   0.4%  <5.6%>     .      .      . |\n",
        "5 |   5.6%   1.1%      .      .  <3.7%>  0.4%      . |\n",
        "6 |   4.5%   0.4%      .      .      .  <3.3%>     . |\n",
        "7 |   5.2%      .      .   1.1%      .      .  <1.9%>|\n",
        "--+--------------------------------------------------+\n",
        "(row = reference; col = test)\n"
       ]
      },
      {
       "output_type": "stream",
       "stream": "stdout",
       "text": [
        "\n",
        "test 7 - 51.301%"
       ]
      },
      {
       "output_type": "stream",
       "stream": "stdout",
       "text": [
        "\n",
        "  |      1      2      3      4      7      6      5 |\n",
        "--+--------------------------------------------------+\n",
        "1 | <21.9%>  1.9%   1.5%   2.6%      .   0.4%   0.4% |\n",
        "2 |   8.2%  <7.1%>  1.1%   0.4%   0.4%      .   0.4% |\n",
        "3 |   8.2%   0.4%  <5.6%>  1.5%   1.1%      .   0.4% |\n",
        "4 |   3.3%      .      .  <8.2%>     .      .      . |\n",
        "7 |   6.7%      .   0.4%      .  <1.9%>     .      . |\n",
        "6 |   4.8%      .   0.4%      .      .  <3.3%>     . |\n",
        "5 |   4.1%      .   0.4%      .      .      .  <3.3%>|\n",
        "--+--------------------------------------------------+\n",
        "(row = reference; col = test)\n"
       ]
      },
      {
       "output_type": "stream",
       "stream": "stdout",
       "text": [
        "\n",
        "test 8 - 54.275%"
       ]
      },
      {
       "output_type": "stream",
       "stream": "stdout",
       "text": [
        "\n",
        "  |      1      4      3      7      2      6      5 |\n",
        "--+--------------------------------------------------+\n",
        "1 | <21.6%>  1.5%   0.7%   0.4%   3.7%      .   0.7% |\n",
        "4 |   4.1% <11.9%>  0.7%      .      .      .      . |\n",
        "3 |   5.9%   1.9%  <5.6%>     .   0.7%      .   0.4% |\n",
        "7 |   8.6%      .      .  <1.5%>  0.7%   0.7%   0.4% |\n",
        "2 |   2.2%      .   1.1%      .  <8.2%>     .      . |\n",
        "6 |   4.1%   1.5%      .      .   0.4%  <2.6%>  0.4% |\n",
        "5 |   4.8%      .      .      .      .      .  <3.0%>|\n",
        "--+--------------------------------------------------+\n",
        "(row = reference; col = test)\n"
       ]
      },
      {
       "output_type": "stream",
       "stream": "stdout",
       "text": [
        "\n",
        "test 9 - 53.069%"
       ]
      },
      {
       "output_type": "stream",
       "stream": "stdout",
       "text": [
        "\n",
        "  |      1      2      3      4      5      7      6 |\n",
        "--+--------------------------------------------------+\n",
        "1 | <22.0%>  1.1%   0.7%   2.2%   0.4%   0.4%   0.4% |\n",
        "2 |   7.2%  <9.0%>  0.7%      .   0.4%   0.4%      . |\n",
        "3 |   5.1%   0.4%  <8.7%>  0.7%      .      .      . |\n",
        "4 |   4.0%      .      .  <8.3%>     .      .      . |\n",
        "5 |   5.1%   1.1%   0.7%   0.7%  <2.2%>  0.4%   0.4% |\n",
        "7 |   7.2%   0.7%      .      .      .  <1.4%>  0.4% |\n",
        "6 |   5.4%      .   0.4%   0.7%      .      .  <1.4%>|\n",
        "--+--------------------------------------------------+\n",
        "(row = reference; col = test)\n"
       ]
      },
      {
       "output_type": "stream",
       "stream": "stdout",
       "text": [
        "\n"
       ]
      }
     ],
     "prompt_number": 7
    },
    {
     "cell_type": "code",
     "collapsed": false,
     "input": [
      "errors = extractor.show_errors(sample_sets, classifier=classifier)"
     ],
     "language": "python",
     "metadata": {},
     "outputs": [],
     "prompt_number": 88
    },
    {
     "cell_type": "code",
     "collapsed": false,
     "input": [
      "for e in errors:\n",
      "    if e[1]==\"2\":\n",
      "        print e"
     ],
     "language": "python",
     "metadata": {},
     "outputs": [
      {
       "output_type": "stream",
       "stream": "stdout",
       "text": [
        "('1', '2', 'turn off dsl modem at end of day? ')\n",
        "('1', '2', 'i want to make my pc email server how?? i have a dns name and i want to send and recieve email from my pc?how in details')\n",
        "('1', '2', 'how can i use finger sirvice with port 29? ')\n",
        "('1', '2', \"what is the best lcd monitor 19-25? don't want to go overboard on budget or features. just want something better than a 17 monitor to work and play with.&#xa;&#xa;more interested in quality, performance, ease of use.\")\n",
        "('1', '2', 'what is the difference between memory and hard disk space? ')\n",
        "('1', '2', 'what is a transistor laser? ')\n",
        "('1', '2', 'is it easy to use refil kit for prointer toner? any pros and cons? i have a laser printer at home, i think it may be cheaper to use refill kit instead of buying another toner.')\n",
        "('1', '2', 'how to fool an ip address tracer into believeing another ip? how to change ip address from original to another, but our own choice.&#xa;&#xa;http://cs.dal.ca/~koul/')\n",
        "('1', '2', 'why does yahoo limit the number of answers you can give on yahoo! answers? ')\n",
        "('1', '2', 'is there a digital photo face recognition service similar to riya.com? ryia.com is currently closed no new signups.  they do face recognition on your personal photos.')\n",
        "('1', '2', 'are engineering working on 4g for mobile after shipping 3g? ')\n",
        "('1', '2', \"where's the best place to get online discount coupon codes? \")\n",
        "('1', '2', 'where can i buy a copy of hypercard 2.4 for mac? ')\n",
        "('1', '2', 'what is rss? ')\n",
        "('1', '2', 'what is the best tutorial for adobe after effects? ')\n",
        "('1', '2', 'is adware the same thing as spyware if not please tell me the reason why.? ')\n",
        "('1', '2', 'how do i delete my recent search list in the yahoo browser? ')\n",
        "('1', '2', 'why dont my offline messages from the new yahoo work? ')\n",
        "('1', '2', 'how does website like youtube make money or at least maintain itself financially? there seems to be no advertisement or payment made by user.')\n",
        "('1', '2', \"what is the difference between qa.yahoo.com and ask.yahoo.com? i think i know part of the answer already, but i'll let the expert answer the question.  as i am using qa.yahoo.com, i found many answers to the questions on ask.yahoo.com already.  so what is the plan to combine the two products to not confuse yahoo! users?\")\n",
        "('1', '2', 'hi.i am need  java script code.tnx? ')\n",
        "('1', '2', 'what is the best podcast to subscribe to? ')\n",
        "('3', '2', 'why i fail every time i try to copy dvd movie although i have a good dvd writer and regesterd software? why i fail every time i try to copy dvd movie although i have a good dvd writer and regesterd software')\n",
        "('1', '2', \"is paid inclusion a good way to monetize a search engine? i'm thinking about starting my own search engine and wondering how to make money off of it. would a paid inclusion program be a good idea?\")\n",
        "('4', '2', 'how do cows have sex? ')\n"
       ]
      }
     ],
     "prompt_number": 89
    },
    {
     "cell_type": "code",
     "collapsed": false,
     "input": [
      "final_features = util.make_feature(extractor, final_sets)"
     ],
     "language": "python",
     "metadata": {},
     "outputs": []
    },
    {
     "cell_type": "code",
     "collapsed": false,
     "input": [
      "cl = util.make_classifier(extractor, sample_sets)"
     ],
     "language": "python",
     "metadata": {},
     "outputs": [],
     "prompt_number": 86
    },
    {
     "cell_type": "code",
     "collapsed": false,
     "input": [
      "cl.show_most_informative_features(50)"
     ],
     "language": "python",
     "metadata": {},
     "outputs": [
      {
       "output_type": "stream",
       "stream": "stdout",
       "text": [
        "Most Informative Features\n",
        "               has(love) = 1                   4 : 2      =     35.8 : 1.0\n",
        "               has(pain) = 1                   6 : 1      =     34.1 : 1.0\n",
        "                has(sex) = 1                   4 : 2      =     33.5 : 1.0\n",
        "              has(music) = 1                   3 : 1      =     30.9 : 1.0\n",
        "               has(girl) = 1                   4 : 7      =     28.6 : 1.0\n",
        "               has(song) = 1                   3 : 1      =     26.8 : 1.0\n",
        "       has(relationship) = 1                   4 : 1      =     25.2 : 1.0\n",
        "              has(movie) = 1                   3 : 4      =     22.5 : 1.0\n",
        "            has(college) = 1                   5 : 2      =     20.4 : 1.0\n",
        "            has( friend) = 1                   4 : 5      =     20.0 : 1.0\n",
        "                has(boy) = 1                   4 : 5      =     19.5 : 1.0\n",
        "              has(medic) = 1                   6 : 1      =     19.1 : 1.0\n",
        "   has((boy|girl)friend) = 1                   4 : 6      =     19.0 : 1.0\n",
        "           has(internet) = 1                   2 : 3      =     18.8 : 1.0\n",
        "               has(rock) = 1                   3 : 1      =     18.3 : 1.0\n",
        "              has(study) = 1                   5 : 1      =     17.8 : 1.0\n",
        "            has(program) = 1                   2 : 3      =     17.0 : 1.0\n",
        "              has(marri) = 1                   4 : 1      =     16.7 : 1.0\n",
        "           has(software) = 1                   2 : 1      =     16.6 : 1.0\n",
        "              has(blood) = 1                   6 : 1      =     16.5 : 1.0\n",
        "             has(school) = 1                   5 : 2      =     16.0 : 1.0\n",
        "                has(web) = 1                   2 : 6      =     15.9 : 1.0\n",
        "               has(cold) = 1                   6 : 3      =     15.7 : 1.0\n",
        "               has(math) = 1                   7 : 1      =     15.6 : 1.0\n",
        "       has(smok(es|ing)) = 1                   6 : 1      =     14.3 : 1.0\n",
        "              has(grade) = 1                   5 : 1      =     13.6 : 1.0\n",
        "               has(moon) = 1                   7 : 1      =     13.5 : 1.0\n",
        "            has(windows) = 1                   2 : 5      =     12.8 : 1.0\n",
        "            has(episode) = 1                   3 : 1      =     12.0 : 1.0\n",
        "           has(magazine) = 1                   3 : 1      =     12.0 : 1.0\n",
        "            has(english) = 1                   5 : 2      =     11.8 : 1.0\n",
        "              has(teach) = 1                   5 : 2      =     11.8 : 1.0\n",
        "            has(science) = 1                   7 : 1      =     11.4 : 1.0\n",
        "             has(weight) = 1                   6 : 1      =     11.2 : 1.0\n",
        "           has(wireless) = 1                   2 : 1      =     10.7 : 1.0\n",
        "              has(women) = 1                   4 : 5      =     10.6 : 1.0\n",
        "               has(wife) = 1                   4 : 1      =     10.2 : 1.0\n",
        "             has(health) = 1                   6 : 1      =      9.9 : 1.0\n",
        "              has(earth) = 1                   7 : 4      =      9.9 : 1.0\n",
        "             has(riddle) = 1                   3 : 1      =      9.5 : 1.0\n",
        "            has(spanish) = 1                   5 : 1      =      9.4 : 1.0\n",
        "               has(show) = 1                   3 : 6      =      9.4 : 1.0\n",
        "               has(date) = 1                   4 : 3      =      9.1 : 1.0\n",
        "            has(e-?mail) = 1                   2 : 3      =      8.8 : 1.0\n",
        "           has(download) = 1                   2 : 1      =      8.5 : 1.0\n",
        "               has(cure) = 1                   6 : 2      =      8.5 : 1.0\n",
        "              has(point) = 1                   7 : 3      =      8.2 : 1.0\n",
        "             has(educat) = 1                   5 : 1      =      8.2 : 1.0\n",
        "           has(favorite) = 1                   3 : 1      =      8.1 : 1.0\n",
        "               has(comp) = 1                   2 : 4      =      7.6 : 1.0\n"
       ]
      }
     ],
     "prompt_number": 90
    },
    {
     "cell_type": "code",
     "collapsed": false,
     "input": [
      "submission = util.make_submission(cl, final_features, writeto=\"submission16ANH.csv\")"
     ],
     "language": "python",
     "metadata": {},
     "outputs": [],
     "prompt_number": 87
    }
   ],
   "metadata": {}
  }
 ]
}