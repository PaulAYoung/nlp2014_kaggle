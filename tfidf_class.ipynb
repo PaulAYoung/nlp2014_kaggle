{
 "metadata": {
  "name": "",
  "signature": "sha256:08df3029abfa1da126334b580696051db5829c5fb003b5a175bb1bdaad732f53"
 },
 "nbformat": 3,
 "nbformat_minor": 0,
 "worksheets": [
  {
   "cells": [
    {
     "cell_type": "code",
     "collapsed": false,
     "input": [
      "import math\n",
      "import cPickle as pickle\n",
      "import nltk\n",
      "\n",
      "from testing_util import sample_sets"
     ],
     "language": "python",
     "metadata": {},
     "outputs": [],
     "prompt_number": 8
    },
    {
     "cell_type": "code",
     "collapsed": false,
     "input": [
      "def get_idfs(samples, termer):\n",
      "    sample_terms = [list(set(termer(s[1]))) for s in samples]\n",
      "    tdf = nltk.FreqDist(t for l in sample_terms for t in l)\n",
      "    return tdf"
     ],
     "language": "python",
     "metadata": {},
     "outputs": [],
     "prompt_number": 9
    },
    {
     "cell_type": "code",
     "collapsed": false,
     "input": [
      "def get_tfidfs(samples, termer, categories):\n",
      "    idf = get_idfs(samples, termer)\n",
      "    \n",
      "    cat_tfidfs={}\n",
      "    for i in categories:\n",
      "        tfidfs={}\n",
      "        fd = nltk.FreqDist([t for s in sample_sets for t in termer(s[1]) if s[0]==str(i)])\n",
      "\n",
      "        for t in fd.keys():\n",
      "            tfidfs[t]=fd.freq(t)/(idf[t] +1)\n",
      "\n",
      "        cat_tfidfs[i]=tfidfs\n",
      "    \n",
      "    return cat_tfidfs"
     ],
     "language": "python",
     "metadata": {},
     "outputs": [],
     "prompt_number": 10
    },
    {
     "cell_type": "code",
     "collapsed": false,
     "input": [
      "def get_cat_idfs(samples, termer, categories):\n",
      "    out = {}\n",
      "    \n",
      "    for c in categories:\n",
      "        cat = []\n",
      "        \n",
      "        cat_idf = tfidf_class.get_idfs([s for s in samples if s[0]==c], termer)\n",
      "        other_idf = tfidf_class.get_idfs([s for s in samples if s[0]!=c], termer)\n",
      "        \n",
      "        for t in cat_idf.keys():\n",
      "            score = cat_idf.freq(t)-other_idf.freq(t)\n",
      "            cat.append((t, score, cat_idf.freq(t), other_idf.freq(t)))\n",
      "            cat.sort(key= lambda e: e[1], reverse=True)\n",
      "            \n",
      "        out[c]=cat\n",
      "            \n",
      "    return out"
     ],
     "language": "python",
     "metadata": {},
     "outputs": []
    },
    {
     "cell_type": "code",
     "collapsed": false,
     "input": [
      "default_categories = [str(x) for x in range(1,8)]\n",
      "\n",
      "class TfidfRater(object):\n",
      "    \n",
      "    def __init__(self, termer, categories=default_categories, nterms=200):\n",
      "        self.termer = termer\n",
      "        self.categories = categories\n",
      "        self.nterms=nterms\n",
      "        \n",
      "    def train(self, samples):\n",
      "        cat_tfidfs = get_tfidfs(samples, self.termer, self.categories)\n",
      "        self.helpful = set()\n",
      "        for i in self.categories:\n",
      "            cterms = cat_tfidfs[i].items()\n",
      "            cterms.sort(key = lambda v: v[1], reverse=True)\n",
      "            self.helpful.update([w[0] for w in cterms[0:self.nterms]])\n",
      "    \n",
      "    def __call__(self, text):\n",
      "        terms = self.termer(text)\n",
      "        results = {}\n",
      "        for t in self.helpful:\n",
      "            results[\"has({})\".format(t)] = 1 if t in terms else 0\n",
      "\n",
      "        return results"
     ],
     "language": "python",
     "metadata": {},
     "outputs": [],
     "prompt_number": 11
    }
   ],
   "metadata": {}
  }
 ]
}