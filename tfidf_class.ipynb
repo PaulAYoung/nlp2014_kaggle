{
 "metadata": {
  "name": "",
  "signature": "sha256:e552a860bf306c5e1ebb0f7c9c276b2ce4e20173b32c281b1811406811c1ac03"
 },
 "nbformat": 3,
 "nbformat_minor": 0,
 "worksheets": [
  {
   "cells": [
    {
     "cell_type": "code",
     "collapsed": false,
     "input": [
      "import math\n",
      "import cPickle as pickle\n",
      "import nltk\n",
      "\n",
      "from testing_util import sample_sets"
     ],
     "language": "python",
     "metadata": {},
     "outputs": [],
     "prompt_number": 7
    },
    {
     "cell_type": "code",
     "collapsed": false,
     "input": [
      "def get_idfs(samples, termer):\n",
      "    sample_terms = [list(set(termer(s[1]))) for s in samples]\n",
      "    nsamps = len(samples)\n",
      "    idf = {}\n",
      "    for term in [t for s in sample_terms for t in s]:\n",
      "        if term in idf:\n",
      "            idf[term] += 1\n",
      "        else:\n",
      "            idf[term] = 1\n",
      "    \n",
      "    for k,v in idf.iteritems():\n",
      "        idf[k]=float(v)/nsamps\n",
      "        \n",
      "    return idf"
     ],
     "language": "python",
     "metadata": {},
     "outputs": [],
     "prompt_number": 2
    },
    {
     "cell_type": "code",
     "collapsed": false,
     "input": [
      "def get_tfidfs(samples, termer, categories):\n",
      "    idf = get_idfs(samples, termer)\n",
      "    \n",
      "    cat_tfidfs={}\n",
      "    for i in categories:\n",
      "        tfidfs={}\n",
      "        fd = nltk.FreqDist([t for s in sample_sets for t in termer(s[1]) if s[0]==str(i)])\n",
      "\n",
      "        for t in fd.keys():\n",
      "            tfidfs[t]=fd.freq(t)/(idf[t] +1)\n",
      "\n",
      "        cat_tfidfs[i]=tfidfs\n",
      "    \n",
      "    return cat_tfidfs"
     ],
     "language": "python",
     "metadata": {},
     "outputs": [],
     "prompt_number": 3
    },
    {
     "cell_type": "code",
     "collapsed": false,
     "input": [
      "def get_cat_idfs(samples, termer, categories):\n",
      "    out = {}\n",
      "    \n",
      "    for c in categories:\n",
      "        cat = []\n",
      "        \n",
      "        cat_idf = get_idfs([s for s in samples if s[0]==c], termer)\n",
      "        other_idf = get_idfs([s for s in samples if s[0]!=c], termer)\n",
      "        \n",
      "        for t in cat_idf.keys():\n",
      "            other = other_idf[t] if t in other_idf else 0\n",
      "            score = cat_idf[t]-other\n",
      "            cat.append((t, score, cat_idf[t], other))\n",
      "            cat.sort(key= lambda e: e[1], reverse=True)\n",
      "            \n",
      "        out[c]=cat\n",
      "            \n",
      "    return out"
     ],
     "language": "python",
     "metadata": {},
     "outputs": [],
     "prompt_number": 1
    },
    {
     "cell_type": "code",
     "collapsed": false,
     "input": [
      "default_categories = [str(x) for x in range(1,8)]\n",
      "\n",
      "class TfidfRater(object):\n",
      "    \n",
      "    def __init__(self, termer, categories=default_categories, nterms=200):\n",
      "        self.termer = termer\n",
      "        self.categories = categories\n",
      "        self.nterms=nterms\n",
      "        \n",
      "    def train(self, samples):\n",
      "        cat_tfidfs = get_tfidfs(samples, self.termer, self.categories)\n",
      "        self.helpful = set()\n",
      "        for i in self.categories:\n",
      "            cterms = cat_tfidfs[i].items()\n",
      "            cterms.sort(key = lambda v: v[1], reverse=True)\n",
      "            self.helpful.update([w[0] for w in cterms[0:self.nterms]])\n",
      "    \n",
      "    def __call__(self, text):\n",
      "        terms = self.termer(text)\n",
      "        results = {}\n",
      "        for t in self.helpful:\n",
      "            results[\"has({})\".format(t)] = 1 if t in terms else 0\n",
      "\n",
      "        return results"
     ],
     "language": "python",
     "metadata": {},
     "outputs": [],
     "prompt_number": 6
    },
    {
     "cell_type": "code",
     "collapsed": false,
     "input": [
      "class CatIDFRater(TfidfRater):\n",
      "    \n",
      "    def train(self, samples):\n",
      "        cat_idfs = get_cat_idfs(samples, self.termer, self.categories)\n",
      "        self.helpful = set()\n",
      "        for i in self.categories:\n",
      "            cterms = cat_idfs[i].items()\n",
      "            cterms.sort(key = lambda v: v[1], reverse=True)\n",
      "            self.helpful.update([w[0] for w in cterms[0:self.nterms]])"
     ],
     "language": "python",
     "metadata": {},
     "outputs": []
    },
    {
     "cell_type": "code",
     "collapsed": false,
     "input": [
      "class CatIDFScorer(TfidfRater):\n",
      "    \n",
      "    def train(self, samples):\n",
      "        self.cat_idfs = get_cat_idfs(samples, self.termer, self.categories)\n",
      "    \n",
      "    def __call__(self, text):\n",
      "        terms = self.termer(text)\n",
      "        results = {\"score({})\".format(c):0 for c in self.categories}\n",
      "        for t in terms:\n",
      "            for c in self.categories:\n",
      "                if t in self.cat_idfs[c]:\n",
      "                    results[\"score({})\".format(c)] += self.cat_idfs[c][t][1]\n",
      "                else:\n",
      "                    others = [cat[t][1] for cat in self.cat_idfs if t in cat]\n",
      "                    results[\"score({})\".format(c)] += -(sum(others)/(len(others)+1))\n",
      "\n",
      "        return results"
     ],
     "language": "python",
     "metadata": {},
     "outputs": [],
     "prompt_number": 8
    }
   ],
   "metadata": {}
  }
 ]
}