{
 "metadata": {
  "name": "",
  "signature": "sha256:db55bfaeaa0cbd0c287a25df4ccfffb999643bfdde4842f420f9597b3319492a"
 },
 "nbformat": 3,
 "nbformat_minor": 0,
 "worksheets": [
  {
   "cells": [
    {
     "cell_type": "code",
     "collapsed": false,
     "input": [
      "import re\n",
      "import random\n",
      "from os import path\n",
      "\n",
      "import nltk\n",
      "\n",
      "import testing_util as util\n",
      "import term_scoring\n",
      "from testing_util import sample_sets, final_sets"
     ],
     "language": "python",
     "metadata": {},
     "outputs": [],
     "prompt_number": 1
    },
    {
     "cell_type": "code",
     "collapsed": false,
     "input": [
      "def feature_num_tokens(text):\n",
      "    return {\"num_tokens\": len(nltk.word_tokenize(text))/10}"
     ],
     "language": "python",
     "metadata": {},
     "outputs": [],
     "prompt_number": 2
    },
    {
     "cell_type": "code",
     "collapsed": false,
     "input": [
      "def feature_avg_len_word(text):\n",
      "    tokens = nltk.word_tokenize(text)\n",
      "    return {\"word_len\": sum([len(w) for w in tokens])/len(tokens)}"
     ],
     "language": "python",
     "metadata": {},
     "outputs": [],
     "prompt_number": 3
    },
    {
     "cell_type": "code",
     "collapsed": false,
     "input": [
      "stopwords = nltk.corpus.stopwords.words('english')\n",
      "\n",
      "def get_terms(t):\n",
      "    \"\"\"\n",
      "    This is used to get the relevant items out of text. \n",
      "    \"\"\"\n",
      "    tokens = nltk.word_tokenize(t)\n",
      "    return [w.lower() for w in tokens if len(w)>3 and (w not in stopwords)]"
     ],
     "language": "python",
     "metadata": {},
     "outputs": [],
     "prompt_number": 4
    },
    {
     "cell_type": "code",
     "collapsed": false,
     "input": [
      "def category_term_scorer(sample_list):\n",
      "    \"\"\"\n",
      "    takes a list of tuples in format (category,text) and creates scores for each term\n",
      "    for its relevance to each category\n",
      "    \"\"\"\n",
      "    categories = {}\n",
      "    \n",
      "    for c,s in sample_list:\n",
      "        if c not in categories:\n",
      "            categories[c]=[]\n",
      "        for w in get_terms(s):\n",
      "            categories[c].append(w)\n",
      "    \n",
      "    fd_all = nltk.FreqDist([w for wl in categories.values() for w in wl])\n",
      "    \n",
      "    fd_categories = {c:nltk.FreqDist(v) for c,v in categories.iteritems()}\n",
      "    \n",
      "    term_scores = {}\n",
      "    for term in fd_all.iterkeys():\n",
      "        if fd_all[term] < 5:\n",
      "            continue\n",
      "        d = {}\n",
      "        for c,fd in fd_categories.iteritems():\n",
      "            d[c]= fd[term]/(1+fd_all[term]-fd[term])\n",
      "        term_scores[term]=d\n",
      "    \n",
      "    return term_scores"
     ],
     "language": "python",
     "metadata": {},
     "outputs": [],
     "prompt_number": 5
    },
    {
     "cell_type": "code",
     "collapsed": false,
     "input": [
      "feature_term_score = term_scoring.TermScoreClassiffier(sample_sets, category_term_scorer)"
     ],
     "language": "python",
     "metadata": {},
     "outputs": [],
     "prompt_number": 6
    },
    {
     "cell_type": "code",
     "collapsed": false,
     "input": [
      "extractor = util.FeatureExtractor()\n",
      "extractor.add_extractor(feature_num_tokens)\n",
      "extractor.add_extractor(feature_avg_len_word)\n",
      "extractor.add_extractor(feature_term_score)"
     ],
     "language": "python",
     "metadata": {},
     "outputs": [],
     "prompt_number": 7
    },
    {
     "cell_type": "code",
     "collapsed": false,
     "input": [
      "extractor.test(sample_sets, folds=10, confusion=True, classifier=nltk.classify.NaiveBayesClassifier)"
     ],
     "language": "python",
     "metadata": {},
     "outputs": [
      {
       "output_type": "stream",
       "stream": "stdout",
       "text": [
        "**************************\n",
        "Run 0\n",
        "**************************\n",
        "test 0 - 59.108%"
       ]
      },
      {
       "output_type": "stream",
       "stream": "stdout",
       "text": [
        "\n",
        "  |      1      2      3      4      6      7      5 |\n",
        "--+--------------------------------------------------+\n",
        "1 | <19.3%>  3.7%   2.2%   1.9%      .   0.4%      . |\n",
        "2 |   5.2% <11.5%>     .      .      .      .      . |\n",
        "3 |   4.5%   0.7%  <9.7%>  0.7%      .   0.4%      . |\n",
        "4 |   3.7%   0.7%      .  <9.7%>     .      .      . |\n",
        "6 |   3.7%   0.4%   0.4%      .  <4.1%>  0.4%   0.4% |\n",
        "7 |   4.8%   0.4%   1.1%      .      .  <2.6%>     . |\n",
        "5 |   3.7%      .      .   1.1%   0.4%      .  <2.2%>|\n",
        "--+--------------------------------------------------+\n",
        "(row = reference; col = test)\n",
        "\n",
        "test 1 - 58.364%"
       ]
      },
      {
       "output_type": "stream",
       "stream": "stdout",
       "text": [
        "\n",
        "  |      1      2      3      4      5      7      6 |\n",
        "--+--------------------------------------------------+\n",
        "1 | <16.0%>  2.2%   0.4%   1.9%   0.4%   0.7%      . |\n",
        "2 |   2.6% <14.5%>     .      .      .      .   0.4% |\n",
        "3 |   5.9%   0.4%  <8.6%>  1.9%      .      .      . |\n",
        "4 |   2.6%   0.4%      . <11.5%>     .      .      . |\n",
        "5 |   4.8%   1.5%   0.7%   0.4%  <1.9%>  1.1%   0.4% |\n",
        "7 |   6.7%      .   0.4%      .      .  <2.6%>  0.4% |\n",
        "6 |   4.5%   0.4%      .   0.4%   0.4%      .  <3.3%>|\n",
        "--+--------------------------------------------------+\n",
        "(row = reference; col = test)\n",
        "\n",
        "test 2 - 60.967%"
       ]
      },
      {
       "output_type": "stream",
       "stream": "stdout",
       "text": [
        "\n",
        "  |      1      2      4      3      7      5      6 |\n",
        "--+--------------------------------------------------+\n",
        "1 | <22.3%>  3.7%   3.3%   0.4%      .   0.7%      . |\n",
        "2 |   3.0% <12.3%>     .      .      .      .      . |\n",
        "4 |   4.5%   0.4%  <8.9%>  0.4%      .      .      . |\n",
        "3 |   3.3%   0.4%   0.4%  <9.3%>     .      .      . |\n",
        "7 |   5.2%   1.1%   0.4%   0.7%  <3.7%>  0.4%      . |\n",
        "5 |   4.5%   2.2%      .      .   0.4%  <1.5%>  0.4% |\n",
        "6 |   1.9%   0.7%   0.4%      .   0.4%      .  <3.0%>|\n",
        "--+--------------------------------------------------+\n",
        "(row = reference; col = test)\n",
        "\n",
        "test 3 - 63.197%"
       ]
      },
      {
       "output_type": "stream",
       "stream": "stdout",
       "text": [
        "\n",
        "  |      1      2      3      4      5      6      7 |\n",
        "--+--------------------------------------------------+\n",
        "1 | <21.2%>  1.5%   1.5%   2.2%   0.4%      .   0.4% |\n",
        "2 |   1.5% <16.7%>  0.7%      .      .      .      . |\n",
        "3 |   7.1%   0.4%  <8.9%>  1.5%      .      .      . |\n",
        "4 |   4.1%   0.4%   0.7%  <7.8%>     .   0.4%      . |\n",
        "5 |   4.8%   0.7%      .   0.4%  <2.6%>  0.4%   0.4% |\n",
        "6 |   3.0%      .      .   0.4%      .  <3.7%>     . |\n",
        "7 |   3.7%      .      .      .      .   0.4%  <2.2%>|\n",
        "--+--------------------------------------------------+\n",
        "(row = reference; col = test)\n",
        "\n",
        "test 4 - 60.967%"
       ]
      },
      {
       "output_type": "stream",
       "stream": "stdout",
       "text": [
        "\n",
        "  |      1      2      3      6      4      5      7 |\n",
        "--+--------------------------------------------------+\n",
        "1 | <24.2%>  3.3%   0.4%   1.1%   1.1%      .      . |\n",
        "2 |   3.3% <13.4%>  0.4%      .      .      .      . |\n",
        "3 |   5.2%   1.1%  <9.7%>     .   0.7%      .      . |\n",
        "6 |   5.6%      .      .  <3.7%>  1.1%      .   0.4% |\n",
        "4 |   0.7%   0.7%      .      .  <6.7%>     .   0.4% |\n",
        "5 |   5.9%   0.4%   0.4%      .   0.4%  <1.5%>     . |\n",
        "7 |   5.6%      .   0.4%      .      .   0.4%  <1.9%>|\n",
        "--+--------------------------------------------------+\n",
        "(row = reference; col = test)\n",
        "\n",
        "test 5 - 59.480%"
       ]
      },
      {
       "output_type": "stream",
       "stream": "stdout",
       "text": [
        "\n",
        "  |      1      3      4      2      7      5      6 |\n",
        "--+--------------------------------------------------+\n",
        "1 | <26.4%>  3.3%   4.5%   2.2%      .      .   0.7% |\n",
        "3 |   5.2%  <7.8%>  0.7%   0.7%      .      .      . |\n",
        "4 |   1.9%      . <10.8%>  0.4%      .      .      . |\n",
        "2 |   1.5%      .   0.7%  <8.6%>     .   0.4%      . |\n",
        "7 |   4.8%      .      .      .  <3.3%>  0.4%   1.5% |\n",
        "5 |   4.8%   0.4%      .   0.4%      .  <1.9%>     . |\n",
        "6 |   4.8%      .   1.1%      .      .      .  <0.7%>|\n",
        "--+--------------------------------------------------+\n",
        "(row = reference; col = test)\n",
        "\n",
        "test 6 - 59.480%"
       ]
      },
      {
       "output_type": "stream",
       "stream": "stdout",
       "text": [
        "\n",
        "  |      1      2      3      6      7      4      5 |\n",
        "--+--------------------------------------------------+\n",
        "1 | <20.4%>  3.0%   1.1%      .      .   1.9%      . |\n",
        "2 |   4.1% <11.2%>     .   0.4%      .      .      . |\n",
        "3 |   4.8%   0.4%  <7.4%>     .      .   1.1%      . |\n",
        "6 |   4.8%   0.4%      .  <7.4%>     .   0.4%      . |\n",
        "7 |   7.4%   2.6%      .   0.4%  <2.2%>     .      . |\n",
        "4 |   1.1%   0.4%   0.4%   0.4%      .  <9.3%>     . |\n",
        "5 |   3.7%   0.4%   0.4%   0.4%   0.4%   0.4%  <1.5%>|\n",
        "--+--------------------------------------------------+\n",
        "(row = reference; col = test)\n",
        "\n",
        "test 7 - 60.967%"
       ]
      },
      {
       "output_type": "stream",
       "stream": "stdout",
       "text": [
        "\n",
        "  |      1      2      3      4      5      6      7 |\n",
        "--+--------------------------------------------------+\n",
        "1 | <23.0%>  2.6%   1.1%   0.7%      .   0.4%      . |\n",
        "2 |   4.8% <16.4%>  1.1%      .   0.4%      .      . |\n",
        "3 |   5.2%   0.4%  <7.1%>  1.1%   0.4%      .      . |\n",
        "4 |   2.2%   0.4%      .  <8.6%>     .   0.4%   0.4% |\n",
        "5 |   5.6%   0.4%   0.4%      .  <1.5%>     .   0.4% |\n",
        "6 |   3.7%      .      .   1.5%      .  <2.6%>     . |\n",
        "7 |   5.6%      .      .      .      .      .  <1.9%>|\n",
        "--+--------------------------------------------------+\n",
        "(row = reference; col = test)\n",
        "\n",
        "test 8 - 61.710%"
       ]
      },
      {
       "output_type": "stream",
       "stream": "stdout",
       "text": [
        "\n",
        "  |      1      2      4      5      3      6      7 |\n",
        "--+--------------------------------------------------+\n",
        "1 | <21.6%>  3.0%   1.5%   0.4%   0.4%   1.1%      . |\n",
        "2 |   3.7% <14.5%>     .      .   0.4%      .      . |\n",
        "4 |   3.0%   0.4% <11.2%>     .      .      .      . |\n",
        "5 |   7.1%   2.2%   0.7%  <1.9%>  0.4%      .   0.7% |\n",
        "3 |   3.7%   0.4%      .   0.4%  <5.6%>     .      . |\n",
        "6 |   2.6%   0.7%   0.4%      .      .  <5.2%>  0.4% |\n",
        "7 |   4.5%      .      .      .      .   0.4%  <1.9%>|\n",
        "--+--------------------------------------------------+\n",
        "(row = reference; col = test)\n",
        "\n",
        "test 9 - 58.123%"
       ]
      },
      {
       "output_type": "stream",
       "stream": "stdout",
       "text": [
        "\n",
        "  |      1      3      2      4      5      7      6 |\n",
        "--+--------------------------------------------------+\n",
        "1 | <19.5%>  1.1%   4.7%   2.9%   0.4%   0.4%      . |\n",
        "3 |   5.1%  <8.7%>  1.4%   1.1%      .   0.4%   0.7% |\n",
        "2 |   1.4%   0.7% <12.6%>     .      .      .      . |\n",
        "4 |   2.5%   1.1%      .  <9.4%>     .      .      . |\n",
        "5 |   3.6%   1.1%   1.8%   0.4%  <2.5%>     .   0.4% |\n",
        "7 |   6.1%   0.4%      .      .      .  <1.8%>  1.1% |\n",
        "6 |   2.2%      .   0.4%   0.7%      .      .  <3.6%>|\n",
        "--+--------------------------------------------------+\n",
        "(row = reference; col = test)\n",
        "\n"
       ]
      }
     ],
     "prompt_number": 8
    },
    {
     "cell_type": "code",
     "collapsed": false,
     "input": [
      "util.fold_test_extractor(extractor, sample_sets, folds=3)"
     ],
     "language": "python",
     "metadata": {},
     "outputs": [
      {
       "output_type": "stream",
       "stream": "stdout",
       "text": [
        "test 0 - 60.400%\n",
        "test 1 - 59.622%"
       ]
      },
      {
       "output_type": "stream",
       "stream": "stdout",
       "text": [
        "\n",
        "test 2 - 59.222%"
       ]
      },
      {
       "output_type": "stream",
       "stream": "stdout",
       "text": [
        "\n"
       ]
      }
     ],
     "prompt_number": 9
    },
    {
     "cell_type": "code",
     "collapsed": false,
     "input": [
      "extractor.test_extractors(sample_sets)"
     ],
     "language": "python",
     "metadata": {},
     "outputs": [
      {
       "output_type": "stream",
       "stream": "stdout",
       "text": [
        "Extractor: feature_num_tokens\n",
        "test 0 - 28.587%"
       ]
      },
      {
       "output_type": "stream",
       "stream": "stdout",
       "text": [
        "\n",
        "test 1 - 26.696%"
       ]
      },
      {
       "output_type": "stream",
       "stream": "stdout",
       "text": [
        "\n",
        "test 2 - 29.444%"
       ]
      },
      {
       "output_type": "stream",
       "stream": "stdout",
       "text": [
        "\n",
        "Extractor: feature_avg_len_word\n",
        "test 0 - 28.476%"
       ]
      },
      {
       "output_type": "stream",
       "stream": "stdout",
       "text": [
        "\n",
        "test 1 - 29.366%"
       ]
      },
      {
       "output_type": "stream",
       "stream": "stdout",
       "text": [
        "\n",
        "test 2 - 27.889%"
       ]
      },
      {
       "output_type": "stream",
       "stream": "stdout",
       "text": [
        "\n",
        "Extractor: TermScoreClassifier\n",
        "test 0 - 59.288%"
       ]
      },
      {
       "output_type": "stream",
       "stream": "stdout",
       "text": [
        "\n",
        "test 1 - 60.734%"
       ]
      },
      {
       "output_type": "stream",
       "stream": "stdout",
       "text": [
        "\n",
        "test 2 - 59.889%"
       ]
      },
      {
       "output_type": "stream",
       "stream": "stdout",
       "text": [
        "\n"
       ]
      }
     ],
     "prompt_number": 10
    },
    {
     "cell_type": "code",
     "collapsed": false,
     "input": [
      "final_features = util.make_feature(extractor, final_sets)"
     ],
     "language": "python",
     "metadata": {},
     "outputs": [],
     "prompt_number": 11
    },
    {
     "cell_type": "code",
     "collapsed": false,
     "input": [
      "cl = extractor.get_classifier(sample_sets)"
     ],
     "language": "python",
     "metadata": {},
     "outputs": [],
     "prompt_number": 12
    },
    {
     "cell_type": "code",
     "collapsed": false,
     "input": [
      "cl.show_most_informative_features()"
     ],
     "language": "python",
     "metadata": {},
     "outputs": [
      {
       "output_type": "stream",
       "stream": "stdout",
       "text": [
        "Most Informative Features\n",
        "               TermScore = '4'                 4 : 2      =    131.8 : 1.0\n",
        "               TermScore = '3'                 3 : 6      =     85.8 : 1.0\n",
        "               TermScore = '6'                 6 : 2      =     78.8 : 1.0\n",
        "               TermScore = '7'                 7 : 3      =     65.1 : 1.0\n",
        "               TermScore = '5'                 5 : 2      =     37.3 : 1.0\n",
        "               TermScore = '2'                 2 : 4      =     23.7 : 1.0\n",
        "              num_tokens = 12                  4 : 1      =      6.5 : 1.0\n",
        "              num_tokens = 10                  2 : 1      =      6.1 : 1.0\n",
        "              num_tokens = 4                   2 : 7      =      5.4 : 1.0\n",
        "              num_tokens = 14                  6 : 1      =      5.3 : 1.0\n"
       ]
      }
     ],
     "prompt_number": 13
    },
    {
     "cell_type": "code",
     "collapsed": false,
     "input": [
      "submission = util.make_submission(cl, final_features, writeto=\"submission2.csv\")"
     ],
     "language": "python",
     "metadata": {},
     "outputs": [],
     "prompt_number": 14
    }
   ],
   "metadata": {}
  }
 ]
}