{
 "metadata": {
  "name": "",
  "signature": "sha256:c043d22b1f77f19e77df7eb4ee8a8775082af7ba2d4cecb31dc603781043e903"
 },
 "nbformat": 3,
 "nbformat_minor": 0,
 "worksheets": [
  {
   "cells": [
    {
     "cell_type": "code",
     "collapsed": false,
     "input": [
      "import cPickle as pickle\n",
      "import re\n",
      "import random\n",
      "from os import path\n",
      "\n",
      "import nltk\n",
      "\n",
      "import testing_util as util\n",
      "import term_scoring\n",
      "from testing_util import sample_sets, final_sets\n",
      "import tfidf_class"
     ],
     "language": "python",
     "metadata": {},
     "outputs": [],
     "prompt_number": 1
    },
    {
     "cell_type": "code",
     "collapsed": false,
     "input": [
      "from nltk.classify import SklearnClassifier\n",
      "from sklearn.svm import SVC"
     ],
     "language": "python",
     "metadata": {},
     "outputs": [],
     "prompt_number": 2
    },
    {
     "cell_type": "code",
     "collapsed": false,
     "input": [
      "stopwords = nltk.corpus.stopwords.words('english')\n",
      "stemmer = nltk.PorterStemmer()\n",
      "\n",
      "def get_terms(t):\n",
      "    \"\"\"\n",
      "    This is used to get the relevant items out of text. \n",
      "    \"\"\"\n",
      "    tokens = nltk.word_tokenize(t)\n",
      "    return [stemmer.stem(w.lower()) for w in tokens if len(w)>3 and (w not in stopwords)]"
     ],
     "language": "python",
     "metadata": {},
     "outputs": [],
     "prompt_number": 3
    },
    {
     "cell_type": "code",
     "collapsed": false,
     "input": [
      "tfidf_checker = tfidf_class.tfidf_rater(get_terms, nterms=100)"
     ],
     "language": "python",
     "metadata": {},
     "outputs": [],
     "prompt_number": 10
    },
    {
     "cell_type": "code",
     "collapsed": false,
     "input": [
      "classifier = nltk.classify.NaiveBayesClassifier\n",
      "#classifier = SklearnClassifier(SVC(), sparse=False)"
     ],
     "language": "python",
     "metadata": {},
     "outputs": [],
     "prompt_number": 5
    },
    {
     "cell_type": "code",
     "collapsed": false,
     "input": [
      "extractor = util.FeatureExtractor()\n",
      "extractor.add_extractor(tfidf_checker, trained=True)"
     ],
     "language": "python",
     "metadata": {},
     "outputs": [],
     "prompt_number": 11
    },
    {
     "cell_type": "code",
     "collapsed": false,
     "input": [
      "extractor.test(sample_sets, folds=3, classifier=classifier, num_tests=1)"
     ],
     "language": "python",
     "metadata": {},
     "outputs": [
      {
       "output_type": "stream",
       "stream": "stdout",
       "text": [
        "**************************\n",
        "Run 0\n",
        "**************************\n",
        "test 0 - 42.714%"
       ]
      },
      {
       "output_type": "stream",
       "stream": "stdout",
       "text": [
        "\n",
        "  |      1      2      3      4      5      7      6 |\n",
        "--+--------------------------------------------------+\n",
        "1 | <28.7%>     .   0.3%   0.1%      .      .      . |\n",
        "2 |  12.7%  <4.1%>  0.1%      .      .      .      . |\n",
        "3 |  11.7%   0.1%  <4.4%>     .      .      .      . |\n",
        "4 |   9.5%      .   0.1%  <3.1%>     .      .      . |\n",
        "5 |   8.0%      .   0.1%   0.2%  <0.4%>     .      . |\n",
        "7 |   7.7%   0.1%      .      .      .  <1.0%>     . |\n",
        "6 |   6.6%      .      .      .      .      .  <0.9%>|\n",
        "--+--------------------------------------------------+\n",
        "(row = reference; col = test)\n"
       ]
      },
      {
       "output_type": "stream",
       "stream": "stdout",
       "text": [
        "\n",
        "test 1 - 42.714%"
       ]
      },
      {
       "output_type": "stream",
       "stream": "stdout",
       "text": [
        "\n",
        "  |      1      2      3      4      5      6      7 |\n",
        "--+--------------------------------------------------+\n",
        "1 | <28.1%>  0.2%      .   0.2%      .      .      . |\n",
        "2 |  13.2%  <3.6%>  0.1%      .      .      .      . |\n",
        "3 |   9.1%      .  <4.8%>     .      .      .      . |\n",
        "4 |  10.6%      .      .  <3.2%>     .      .      . |\n",
        "5 |   8.7%      .      .      .  <0.6%>     .      . |\n",
        "6 |   7.3%      .      .      .      .  <1.7%>     . |\n",
        "7 |   7.8%      .      .      .      .      .  <0.8%>|\n",
        "--+--------------------------------------------------+\n",
        "(row = reference; col = test)\n"
       ]
      },
      {
       "output_type": "stream",
       "stream": "stdout",
       "text": [
        "\n",
        "test 2 - 41.778%"
       ]
      },
      {
       "output_type": "stream",
       "stream": "stdout",
       "text": [
        "\n",
        "  |      1      2      3      4      7      6      5 |\n",
        "--+--------------------------------------------------+\n",
        "1 | <27.3%>     .   0.1%   0.1%      .      .   0.2% |\n",
        "2 |  12.7%  <3.9%>     .   0.1%      .      .      . |\n",
        "3 |  10.4%      .  <4.4%>  0.1%      .      .      . |\n",
        "4 |   9.3%      .      .  <2.8%>     .      .      . |\n",
        "7 |   9.3%      .   0.1%      .  <0.6%>     .      . |\n",
        "6 |   7.3%      .      .      .      .  <2.0%>     . |\n",
        "5 |   8.1%      .      .   0.1%   0.1%      .  <0.8%>|\n",
        "--+--------------------------------------------------+\n",
        "(row = reference; col = test)\n"
       ]
      },
      {
       "output_type": "stream",
       "stream": "stdout",
       "text": [
        "\n"
       ]
      }
     ],
     "prompt_number": 12
    },
    {
     "cell_type": "code",
     "collapsed": false,
     "input": [
      "cl=extractor.get_classifier(sample_sets, classifier=classifier)"
     ],
     "language": "python",
     "metadata": {},
     "outputs": [],
     "prompt_number": 13
    },
    {
     "cell_type": "code",
     "collapsed": false,
     "input": [
      "cl.show_most_informative_features()"
     ],
     "language": "python",
     "metadata": {},
     "outputs": [
      {
       "output_type": "stream",
       "stream": "stdout",
       "text": [
        "Most Informative Features\n",
        "               has(pain) = 1                   6 : 1      =     31.9 : 1.0"
       ]
      },
      {
       "output_type": "stream",
       "stream": "stdout",
       "text": [
        "\n",
        "               has(song) = 1                   3 : 1      =     25.3 : 1.0\n",
        "       has(relationship) = 1                   4 : 1      =     24.3 : 1.0\n",
        "            has(marriag) = 1                   4 : 1      =     19.9 : 1.0\n",
        "              has(cheat) = 1                   4 : 1      =     18.4 : 1.0\n",
        "              has(smoke) = 1                   6 : 1      =     16.5 : 1.0\n",
        "             has(episod) = 1                   3 : 1      =     12.0 : 1.0\n",
        "             has(router) = 1                   2 : 1      =      9.6 : 1.0\n",
        "            has(spanish) = 1                   5 : 1      =      9.4 : 1.0\n",
        "            has(teacher) = 1                   5 : 1      =      9.4 : 1.0\n"
       ]
      }
     ],
     "prompt_number": 14
    },
    {
     "cell_type": "code",
     "collapsed": false,
     "input": [
      "final_features = util.make_feature(extractor, final_sets)"
     ],
     "language": "python",
     "metadata": {},
     "outputs": []
    },
    {
     "cell_type": "code",
     "collapsed": false,
     "input": [
      "submission = util.make_submission(cl, final_features, writeto=\"submission_tfidf.csv\")"
     ],
     "language": "python",
     "metadata": {},
     "outputs": []
    }
   ],
   "metadata": {}
  }
 ]
}