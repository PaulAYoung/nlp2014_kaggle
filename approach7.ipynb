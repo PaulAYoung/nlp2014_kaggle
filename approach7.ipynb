{
 "metadata": {
  "name": "",
  "signature": "sha256:48b1e120d2c8eb4953c90001d8eeb7f1221e174c5b73994683dcdfb8260e8558"
 },
 "nbformat": 3,
 "nbformat_minor": 0,
 "worksheets": [
  {
   "cells": [
    {
     "cell_type": "code",
     "collapsed": false,
     "input": [
      "import re\n",
      "import random\n",
      "from os import path\n",
      "\n",
      "import nltk\n",
      "\n",
      "import testing_util as util\n",
      "import term_scoring\n",
      "from testing_util import sample_sets, final_sets"
     ],
     "language": "python",
     "metadata": {},
     "outputs": [],
     "prompt_number": 1
    },
    {
     "cell_type": "code",
     "collapsed": false,
     "input": [
      "from nltk.classify import SklearnClassifier\n",
      "from sklearn.svm import SVC"
     ],
     "language": "python",
     "metadata": {},
     "outputs": [],
     "prompt_number": 2
    },
    {
     "cell_type": "code",
     "collapsed": false,
     "input": [
      "def feature_num_tokens(text):\n",
      "    return {\"num_tokens\": len(nltk.word_tokenize(text))/10}"
     ],
     "language": "python",
     "metadata": {},
     "outputs": [],
     "prompt_number": 3
    },
    {
     "cell_type": "code",
     "collapsed": false,
     "input": [
      "def feature_avg_len_word(text):\n",
      "    tokens = nltk.word_tokenize(text)\n",
      "    return {\"word_len\": sum([len(w) for w in tokens])/len(tokens)}"
     ],
     "language": "python",
     "metadata": {},
     "outputs": [],
     "prompt_number": 4
    },
    {
     "cell_type": "code",
     "collapsed": false,
     "input": [
      "stopwords = nltk.corpus.stopwords.words('english')\n",
      "\n",
      "def get_terms(t):\n",
      "    \"\"\"\n",
      "    This is used to get the relevant items out of text. \n",
      "    \"\"\"\n",
      "    tokens = nltk.word_tokenize(t)\n",
      "    stemmer = nltk.PorterStemmer()\n",
      "    return [stemmer.stem(w.lower()) for w in tokens if len(w)>3 and (w not in stopwords)]"
     ],
     "language": "python",
     "metadata": {},
     "outputs": [],
     "prompt_number": 23
    },
    {
     "cell_type": "code",
     "collapsed": false,
     "input": [
      "def category_term_scorer(sample_list):\n",
      "    \"\"\"\n",
      "    takes a list of tuples in format (category,text) and creates scores for each term\n",
      "    for its relevance to each category\n",
      "    \"\"\"\n",
      "    categories = {}\n",
      "    \n",
      "    for c,s in sample_list:\n",
      "        if c not in categories:\n",
      "            categories[c]=[]\n",
      "        for w in get_terms(s):\n",
      "            categories[c].append(w)\n",
      "    \n",
      "    fd_all = nltk.FreqDist([w for wl in categories.values() for w in wl])\n",
      "    \n",
      "    fd_categories = {c:nltk.FreqDist(v) for c,v in categories.iteritems()}\n",
      "    \n",
      "    term_scores = {}\n",
      "    for term in fd_all.iterkeys():\n",
      "        if fd_all[term] <= 4:\n",
      "            continue\n",
      "        d = {}\n",
      "        for c,fd in fd_categories.iteritems():\n",
      "            d[c]= (fd.freq(term)/fd_all.freq(term))*(1/(1+fd_all[term]-fd[term]))\n",
      "        term_scores[term]=d\n",
      "    \n",
      "    return term_scores"
     ],
     "language": "python",
     "metadata": {},
     "outputs": [],
     "prompt_number": 62
    },
    {
     "cell_type": "code",
     "collapsed": false,
     "input": [
      "#classifier = nltk.classify.NaiveBayesClassifier\n",
      "classifier = SklearnClassifier(SVC(), sparse=False)"
     ],
     "language": "python",
     "metadata": {},
     "outputs": [],
     "prompt_number": 63
    },
    {
     "cell_type": "code",
     "collapsed": false,
     "input": [
      "feature_term_score = term_scoring.TermScoreBagger(scorer=category_term_scorer)"
     ],
     "language": "python",
     "metadata": {},
     "outputs": [],
     "prompt_number": 64
    },
    {
     "cell_type": "code",
     "collapsed": false,
     "input": [
      "extractor = util.FeatureExtractor()\n",
      "extractor.add_extractor(feature_num_tokens)\n",
      "extractor.add_extractor(feature_avg_len_word)\n",
      "extractor.add_extractor(feature_term_score, trained=True)"
     ],
     "language": "python",
     "metadata": {},
     "outputs": [],
     "prompt_number": 65
    },
    {
     "cell_type": "code",
     "collapsed": false,
     "input": [
      "extractor.test(sample_sets, folds=3,confusion=True, classifier=classifier, num_tests=1)"
     ],
     "language": "python",
     "metadata": {},
     "outputs": [
      {
       "output_type": "stream",
       "stream": "stdout",
       "text": [
        "**************************\n",
        "Run 0\n",
        "**************************\n",
        "test 0 - 31.702%"
       ]
      },
      {
       "output_type": "stream",
       "stream": "stdout",
       "text": [
        "\n",
        "  |      1      2      3      4      5      7      6 |\n",
        "--+--------------------------------------------------+\n",
        "1 | <28.1%>  0.7%      .   0.8%      .      .      . |\n",
        "2 |  13.3%  <2.6%>     .   0.1%      .      .      . |\n",
        "3 |  14.9%   0.1%     <.>  0.6%      .      .      . |\n",
        "4 |  11.9%   0.2%      .  <0.6%>     .      .      . |\n",
        "5 |   8.6%   0.1%   0.1%   0.2%  <0.1%>     .      . |\n",
        "7 |   8.2%   0.2%      .   0.2%      .     <.>     . |\n",
        "6 |   7.8%   0.2%      .      .      .      .  <0.3%>|\n",
        "--+--------------------------------------------------+\n",
        "(row = reference; col = test)\n"
       ]
      },
      {
       "output_type": "stream",
       "stream": "stdout",
       "text": [
        "\n",
        "test 1 - 30.590%"
       ]
      },
      {
       "output_type": "stream",
       "stream": "stdout",
       "text": [
        "\n",
        "  |      1      2      3      4      7      5      6 |\n",
        "--+--------------------------------------------------+\n",
        "1 | <26.8%>  0.7%      .   0.2%      .      .      . |\n",
        "2 |  13.7%  <2.8%>  0.1%   0.4%      .      .      . |\n",
        "3 |  13.9%   0.3%  <0.1%>  0.1%      .      .      . |\n",
        "4 |  12.6%   0.2%      .  <0.8%>     .      .      . |\n",
        "7 |   9.5%      .      .      .     <.>     .      . |\n",
        "5 |   9.0%   0.2%      .   0.1%      .     <.>     . |\n",
        "6 |   8.1%      .      .   0.2%      .      .  <0.1%>|\n",
        "--+--------------------------------------------------+\n",
        "(row = reference; col = test)\n"
       ]
      },
      {
       "output_type": "stream",
       "stream": "stdout",
       "text": [
        "\n",
        "test 2 - 30.889%"
       ]
      },
      {
       "output_type": "stream",
       "stream": "stdout",
       "text": [
        "\n",
        "  |      1      2      3      4      7      6      5 |\n",
        "--+--------------------------------------------------+\n",
        "1 | <27.7%>  0.1%   0.1%   0.3%      .      .      . |\n",
        "2 |  15.1%  <2.0%>  0.2%   0.1%      .      .      . |\n",
        "3 |  14.3%   0.2%  <0.2%>  0.3%      .      .      . |\n",
        "4 |  11.3%   0.1%      .  <0.9%>     .      .      . |\n",
        "7 |   8.9%      .      .   0.2%     <.>     .   0.1% |\n",
        "6 |   8.8%      .      .   0.1%      .  <0.1%>     . |\n",
        "5 |   8.6%      .   0.1%      .      .      .     <.>|\n",
        "--+--------------------------------------------------+\n",
        "(row = reference; col = test)\n"
       ]
      },
      {
       "output_type": "stream",
       "stream": "stdout",
       "text": [
        "\n"
       ]
      }
     ],
     "prompt_number": 66
    },
    {
     "cell_type": "code",
     "collapsed": false,
     "input": [
      "final_features = util.make_feature(extractor, final_sets)"
     ],
     "language": "python",
     "metadata": {},
     "outputs": [],
     "prompt_number": 11
    },
    {
     "cell_type": "code",
     "collapsed": false,
     "input": [
      "cl=extractor.get_classifier(sample_sets, classifier=classifier)"
     ],
     "language": "python",
     "metadata": {},
     "outputs": [],
     "prompt_number": 12
    },
    {
     "cell_type": "code",
     "collapsed": false,
     "input": [
      "cl.show_most_informative_features()"
     ],
     "language": "python",
     "metadata": {},
     "outputs": [
      {
       "output_type": "stream",
       "stream": "stdout",
       "text": [
        "Most Informative Features\n",
        "               TermScore = '4'                 4 : 2      =    131.8 : 1.0\n",
        "               TermScore = '3'                 3 : 6      =     85.8 : 1.0\n",
        "               TermScore = '6'                 6 : 2      =     78.8 : 1.0\n",
        "               TermScore = '7'                 7 : 3      =     65.1 : 1.0\n",
        "               TermScore = '5'                 5 : 2      =     37.3 : 1.0\n",
        "               TermScore = '2'                 2 : 4      =     23.7 : 1.0\n",
        "              num_tokens = 12                  4 : 1      =      6.5 : 1.0\n",
        "              num_tokens = 10                  2 : 1      =      6.1 : 1.0\n",
        "              num_tokens = 4                   2 : 7      =      5.4 : 1.0\n",
        "              num_tokens = 14                  6 : 1      =      5.3 : 1.0\n"
       ]
      }
     ],
     "prompt_number": 13
    },
    {
     "cell_type": "code",
     "collapsed": false,
     "input": [
      "submission = util.make_submission(cl, final_features, writeto=\"submission6.csv\")"
     ],
     "language": "python",
     "metadata": {},
     "outputs": [],
     "prompt_number": 14
    }
   ],
   "metadata": {}
  }
 ]
}