{
 "metadata": {
  "name": "",
  "signature": "sha256:cfcd732cb90a3d8cd51cfa7e494d3cfb6764a0f3aa283243e0086d28d8f4a418"
 },
 "nbformat": 3,
 "nbformat_minor": 0,
 "worksheets": [
  {
   "cells": [
    {
     "cell_type": "code",
     "collapsed": false,
     "input": [
      "from sklearn.svm import SVC"
     ],
     "language": "python",
     "metadata": {},
     "outputs": [],
     "prompt_number": 5
    },
    {
     "cell_type": "code",
     "collapsed": false,
     "input": [
      "def create_svm(extractor, samples):\n",
      "    \"\"\"\n",
      "    Creates an svm model using the extractor to extract features from the given samples\n",
      "    \n",
      "    params:\n",
      "    extractor -- A function that returns features for a given test set. \n",
      "    samples -- a list of tuples in format (category,sample_text)\n",
      "    \"\"\"\n",
      "    \n",
      "    features = []\n",
      "    categories = []\n",
      "    \n",
      "    for s in samples:\n",
      "        categories.append(s[0])\n",
      "        f = extractor(features).items() #get features as list\n",
      "        f.sort(key= lambda f: f[0]) #sort features by label\n",
      "        features.append(f)\n",
      "    \n",
      "    sv = SVC()\n",
      "    sv.fit(features, categories)\n",
      "    return sv"
     ],
     "language": "python",
     "metadata": {},
     "outputs": [],
     "prompt_number": 6
    }
   ],
   "metadata": {}
  }
 ]
}