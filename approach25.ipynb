{
 "metadata": {
  "name": "",
  "signature": "sha256:833749d358f047b86ec64a52f2bc6f2998137cd0d5959eab3cdd75d292eeaab2"
 },
 "nbformat": 3,
 "nbformat_minor": 0,
 "worksheets": [
  {
   "cells": [
    {
     "cell_type": "code",
     "collapsed": false,
     "input": [
      "import re\n",
      "import random\n",
      "from os import path\n",
      "\n",
      "import nltk\n",
      "\n",
      "import testing_util as util\n",
      "import term_scoring\n",
      "from testing_util import sample_sets, final_sets\n",
      "\n",
      "import tfidf_class"
     ],
     "language": "python",
     "metadata": {},
     "outputs": [],
     "prompt_number": 1
    },
    {
     "cell_type": "code",
     "collapsed": false,
     "input": [
      "def feature_num_tokens(text):\n",
      "    return {\"num_tokens\": len(nltk.word_tokenize(text))/10}"
     ],
     "language": "python",
     "metadata": {},
     "outputs": [],
     "prompt_number": 2
    },
    {
     "cell_type": "code",
     "collapsed": false,
     "input": [
      "def feature_avg_len_word(text):\n",
      "    tokens = nltk.word_tokenize(text)\n",
      "    return {\"word_len\": sum([len(w) for w in tokens])/len(tokens)}"
     ],
     "language": "python",
     "metadata": {},
     "outputs": [],
     "prompt_number": 3
    },
    {
     "cell_type": "code",
     "collapsed": false,
     "input": [
      "stopwords = nltk.corpus.stopwords.words('english')\n",
      "stemmer = nltk.PorterStemmer()\n",
      "\n",
      "def get_terms(t):\n",
      "    \"\"\"\n",
      "    This is used to get the relevant items out of text. \n",
      "    \"\"\"\n",
      "    tokens = nltk.word_tokenize(t)\n",
      "    return [w.lower() for w in tokens if len(w)>3 and (w not in stopwords)]"
     ],
     "language": "python",
     "metadata": {},
     "outputs": [],
     "prompt_number": 4
    },
    {
     "cell_type": "code",
     "collapsed": false,
     "input": [
      "def category_term_scorer1(sample_list):\n",
      "    \"\"\"\n",
      "    takes a list of tuples in format (category,text) and creates scores for each term\n",
      "    for its relevance to each category\n",
      "    \"\"\"\n",
      "    \n",
      "    categories = [str(x) for x in range(1,8)]\n",
      "    idfs = tfidf_class.get_cat_idfs(sample_list, get_terms, categories)\n",
      "    terms = set([t for s in sample_list for t in get_terms(s[1])])\n",
      "    \n",
      "    scores={}\n",
      "    for t in terms:\n",
      "        t_score = {}\n",
      "        for c in categories:\n",
      "            if t in idfs[c]:\n",
      "                t_score[c] = idfs[c][t][1]\n",
      "            else:\n",
      "                others = [cat[t][1] for cat in idfs if t in cat]\n",
      "                t_score[c] = -(sum(others)/(len(others)+1))\n",
      "        scores[t]=t_score\n",
      "    \n",
      "    return scores"
     ],
     "language": "python",
     "metadata": {},
     "outputs": [],
     "prompt_number": 5
    },
    {
     "cell_type": "code",
     "collapsed": false,
     "input": [
      "def category_term_scorer2(sample_list):\n",
      "    \"\"\"\n",
      "    takes a list of tuples in format (category,text) and creates scores for each term\n",
      "    for its relevance to each category\n",
      "    \"\"\"\n",
      "    categories = {}\n",
      "    \n",
      "    for c,s in sample_list:\n",
      "        if c not in categories:\n",
      "            categories[c]=[]\n",
      "        for w in get_terms(s):\n",
      "            categories[c].append(w)\n",
      "    \n",
      "    fd_all = nltk.FreqDist([w for wl in categories.values() for w in wl])\n",
      "    \n",
      "    fd_categories = {c:nltk.FreqDist(v) for c,v in categories.iteritems()}\n",
      "    \n",
      "    term_scores = {}\n",
      "    for term in fd_all.iterkeys():\n",
      "        if fd_all[term] < 5:\n",
      "            continue\n",
      "        d = {}\n",
      "        for c,fd in fd_categories.iteritems():\n",
      "            d[c]= fd[term]/(1+fd_all[term]-fd[term])\n",
      "        term_scores[term]=d\n",
      "    \n",
      "    return term_scores"
     ],
     "language": "python",
     "metadata": {},
     "outputs": [],
     "prompt_number": 6
    },
    {
     "cell_type": "code",
     "collapsed": false,
     "input": [
      "termscore1 = term_scoring.TermScoreClassiffier(scorer=category_term_scorer1, key=\"termscore1\")\n",
      "termscore2 = term_scoring.TermScoreClassiffier(scorer=category_term_scorer2, key=\"termscore2\")"
     ],
     "language": "python",
     "metadata": {},
     "outputs": [],
     "prompt_number": 7
    },
    {
     "cell_type": "code",
     "collapsed": false,
     "input": [
      "tfidf_checker = tfidf_class.TfidfRater(get_terms, nterms=50)"
     ],
     "language": "python",
     "metadata": {},
     "outputs": [],
     "prompt_number": 8
    },
    {
     "cell_type": "code",
     "collapsed": false,
     "input": [
      "extractor = util.FeatureExtractor()\n",
      "extractor.add_extractor(feature_num_tokens)\n",
      "extractor.add_extractor(feature_avg_len_word)\n",
      "extractor.add_extractor(termscore1, trained=True)\n",
      "extractor.add_extractor(termscore2, trained=True)\n",
      "extractor.add_extractor(tfidf_checker, trained=True)"
     ],
     "language": "python",
     "metadata": {},
     "outputs": [],
     "prompt_number": 9
    },
    {
     "cell_type": "code",
     "collapsed": false,
     "input": [
      "extractor.test(sample_sets, folds=10, confusion=True, classifier=nltk.classify.NaiveBayesClassifier)"
     ],
     "language": "python",
     "metadata": {},
     "outputs": [
      {
       "output_type": "stream",
       "stream": "stdout",
       "text": [
        "**************************\n",
        "Run 0\n",
        "**************************\n",
        "test 0 - 57.621%"
       ]
      },
      {
       "output_type": "stream",
       "stream": "stdout",
       "text": [
        "\n",
        "  |      1      3      2      4      5      7      6 |\n",
        "--+--------------------------------------------------+\n",
        "1 | <17.1%>  2.2%   1.5%   3.3%   0.4%   0.4%      . |\n",
        "3 |   3.3%  <9.7%>  0.4%   1.9%   0.7%   0.4%      . |\n",
        "2 |   3.7%   1.1%  <9.3%>  0.4%      .      .      . |\n",
        "4 |   1.5%      .      . <11.5%>     .      .   0.4% |\n",
        "5 |   5.6%   1.1%   1.9%      .  <3.3%>  0.4%      . |\n",
        "7 |   5.6%   0.7%      .      .   0.7%  <3.0%>     . |\n",
        "6 |   2.2%   0.4%   0.7%   0.4%      .   1.1%  <3.7%>|\n",
        "--+--------------------------------------------------+\n",
        "(row = reference; col = test)\n"
       ]
      },
      {
       "output_type": "stream",
       "stream": "stdout",
       "text": [
        "\n",
        "test 1 - 62.082%"
       ]
      },
      {
       "output_type": "stream",
       "stream": "stdout",
       "text": [
        "\n",
        "  |      1      2      3      4      5      7      6 |\n",
        "--+--------------------------------------------------+\n",
        "1 | <21.6%>  3.3%   1.1%   2.2%      .   0.7%      . |\n",
        "2 |   5.2% <13.0%>  1.5%   0.4%      .      .   0.4% |\n",
        "3 |   2.2%      .  <8.9%>  0.7%   0.7%   0.7%   0.4% |\n",
        "4 |   3.7%      .   0.4%  <9.7%>     .      .      . |\n",
        "5 |   3.3%   0.7%   0.4%   0.4%  <3.7%>  0.7%      . |\n",
        "7 |   3.7%      .   0.4%   0.7%   0.4%  <1.9%>  0.4% |\n",
        "6 |   1.9%      .   0.4%   0.4%   0.4%      .  <3.3%>|\n",
        "--+--------------------------------------------------+\n",
        "(row = reference; col = test)\n"
       ]
      },
      {
       "output_type": "stream",
       "stream": "stdout",
       "text": [
        "\n",
        "test 2 - 65.056%"
       ]
      },
      {
       "output_type": "stream",
       "stream": "stdout",
       "text": [
        "\n",
        "  |      1      3      2      4      6      5      7 |\n",
        "--+--------------------------------------------------+\n",
        "1 | <21.9%>  1.9%   3.3%   1.5%   1.1%   0.7%   0.4% |\n",
        "3 |   3.7% <11.2%>  1.1%      .      .   1.1%   0.4% |\n",
        "2 |   2.6%   0.4%  <9.3%>  0.4%      .      .   0.4% |\n",
        "4 |   1.9%   0.4%      . <10.4%>     .      .      . |\n",
        "6 |   3.3%   0.7%      .   0.4%  <6.3%>  0.4%      . |\n",
        "5 |   3.3%   1.1%   0.4%      .      .  <3.3%>     . |\n",
        "7 |   2.2%   0.4%   0.7%   0.4%      .   0.4%  <2.6%>|\n",
        "--+--------------------------------------------------+\n",
        "(row = reference; col = test)\n"
       ]
      },
      {
       "output_type": "stream",
       "stream": "stdout",
       "text": [
        "\n",
        "test 3 - 62.082%"
       ]
      },
      {
       "output_type": "stream",
       "stream": "stdout",
       "text": [
        "\n",
        "  |      1      2      3      6      4      5      7 |\n",
        "--+--------------------------------------------------+\n",
        "1 | <21.2%>  1.9%   2.2%      .   1.9%   0.7%   1.1% |\n",
        "2 |   3.0% <13.0%>  0.7%      .      .      .   0.4% |\n",
        "3 |   4.1%   0.4%  <4.8%>  0.7%   1.9%   0.7%      . |\n",
        "6 |   2.2%   0.7%   0.4%  <7.1%>  1.9%   0.4%      . |\n",
        "4 |   1.9%      .   0.4%      .  <8.6%>     .      . |\n",
        "5 |   4.1%      .   0.7%      .   0.4%  <3.3%>  1.5% |\n",
        "7 |   2.6%   0.4%   0.4%      .      .   0.4%  <4.1%>|\n",
        "--+--------------------------------------------------+\n",
        "(row = reference; col = test)\n"
       ]
      },
      {
       "output_type": "stream",
       "stream": "stdout",
       "text": [
        "\n",
        "test 4 - 54.647%"
       ]
      },
      {
       "output_type": "stream",
       "stream": "stdout",
       "text": [
        "\n",
        "  |      1      7      2      4      3      5      6 |\n",
        "--+--------------------------------------------------+\n",
        "1 | <15.6%>     .   3.0%   2.6%   1.9%   1.1%   0.7% |\n",
        "7 |   8.9%  <5.9%>  0.4%      .      .   0.4%      . |\n",
        "2 |   4.1%   0.4% <10.0%>  0.4%   0.4%      .      . |\n",
        "4 |   2.6%   0.7%      .  <9.7%>  0.7%      .      . |\n",
        "3 |   1.5%   0.4%   0.7%   1.1%  <7.8%>  1.1%   0.4% |\n",
        "5 |   4.5%   1.1%      .      .   0.4%  <2.2%>  0.7% |\n",
        "6 |   3.0%   0.7%   0.4%   0.7%      .   0.4%  <3.3%>|\n",
        "--+--------------------------------------------------+\n",
        "(row = reference; col = test)\n"
       ]
      },
      {
       "output_type": "stream",
       "stream": "stdout",
       "text": [
        "\n",
        "test 5 - 60.595%"
       ]
      },
      {
       "output_type": "stream",
       "stream": "stdout",
       "text": [
        "\n",
        "  |      1      3      2      4      5      7      6 |\n",
        "--+--------------------------------------------------+\n",
        "1 | <17.1%>  1.1%   3.7%   1.9%   1.1%   0.4%      . |\n",
        "3 |   6.7%  <9.3%>  0.4%   0.7%      .      .      . |\n",
        "2 |   4.1%   0.4% <12.3%>     .      .      .      . |\n",
        "4 |   3.7%   0.4%      .  <9.7%>     .      .   0.4% |\n",
        "5 |   3.0%   1.1%      .   0.4%  <4.1%>  0.4%   1.1% |\n",
        "7 |   3.3%   0.4%   0.4%      .   0.7%  <3.7%>  0.4% |\n",
        "6 |   1.9%      .   0.4%   0.7%      .   0.4%  <4.5%>|\n",
        "--+--------------------------------------------------+\n",
        "(row = reference; col = test)\n"
       ]
      },
      {
       "output_type": "stream",
       "stream": "stdout",
       "text": [
        "\n",
        "test 6 - 64.684%"
       ]
      },
      {
       "output_type": "stream",
       "stream": "stdout",
       "text": [
        "\n",
        "  |      1      2      3      4      7      6      5 |\n",
        "--+--------------------------------------------------+\n",
        "1 | <21.9%>  2.6%   2.6%   1.5%   1.1%      .   0.7% |\n",
        "2 |   5.6% <14.9%>  0.4%      .      .      .      . |\n",
        "3 |   3.3%      .  <9.3%>  0.7%      .      .      . |\n",
        "4 |   1.9%   0.4%   0.4%  <7.8%>     .      .      . |\n",
        "7 |   3.3%      .   0.7%   0.4%  <4.1%>  0.7%   1.1% |\n",
        "6 |   2.6%   0.4%   0.4%   0.7%   0.4%  <4.8%>  0.4% |\n",
        "5 |   1.5%   0.7%   0.4%      .   0.4%      .  <1.9%>|\n",
        "--+--------------------------------------------------+\n",
        "(row = reference; col = test)\n"
       ]
      },
      {
       "output_type": "stream",
       "stream": "stdout",
       "text": [
        "\n",
        "test 7 - 60.967%"
       ]
      },
      {
       "output_type": "stream",
       "stream": "stdout",
       "text": [
        "\n",
        "  |      1      2      3      4      7      6      5 |\n",
        "--+--------------------------------------------------+\n",
        "1 | <23.0%>  1.5%   2.2%   1.9%      .   0.4%   0.4% |\n",
        "2 |   5.2%  <9.7%>  0.7%   0.4%      .      .      . |\n",
        "3 |   4.1%   0.7%  <8.2%>  2.2%      .   0.7%      . |\n",
        "4 |   3.3%      .      .  <9.3%>  0.4%   0.4%      . |\n",
        "7 |   3.0%   0.4%   0.7%   0.7%  <3.7%>  0.4%   0.7% |\n",
        "6 |   2.2%      .   0.7%   0.4%   0.4%  <4.8%>     . |\n",
        "5 |   1.9%   1.5%      .   1.1%   0.4%      .  <2.2%>|\n",
        "--+--------------------------------------------------+\n",
        "(row = reference; col = test)\n"
       ]
      },
      {
       "output_type": "stream",
       "stream": "stdout",
       "text": [
        "\n",
        "test 8 - 57.621%"
       ]
      },
      {
       "output_type": "stream",
       "stream": "stdout",
       "text": [
        "\n",
        "  |      1      3      2      4      5      7      6 |\n",
        "--+--------------------------------------------------+\n",
        "1 | <19.3%>  2.6%   2.2%   3.7%   0.4%   0.4%   0.7% |\n",
        "3 |   6.3% <10.0%>  0.4%   1.1%   0.7%      .      . |\n",
        "2 |   5.6%   0.7%  <9.7%>     .   0.4%   0.4%      . |\n",
        "4 |   2.6%   1.1%   0.4% <10.0%>  0.4%      .   0.7% |\n",
        "5 |   3.3%   0.7%      .      .  <3.3%>  0.7%      . |\n",
        "7 |   2.2%   1.1%   0.4%      .      .  <2.6%>  1.1% |\n",
        "6 |   1.5%      .      .   0.4%      .      .  <2.6%>|\n",
        "--+--------------------------------------------------+\n",
        "(row = reference; col = test)\n"
       ]
      },
      {
       "output_type": "stream",
       "stream": "stdout",
       "text": [
        "\n",
        "test 9 - 62.094%"
       ]
      },
      {
       "output_type": "stream",
       "stream": "stdout",
       "text": [
        "\n",
        "  |      1      2      3      5      4      6      7 |\n",
        "--+--------------------------------------------------+\n",
        "1 | <23.1%>  2.2%   1.4%   0.4%   4.0%   0.4%   0.4% |\n",
        "2 |   2.9% <13.4%>  0.4%      .   0.4%   0.4%   0.4% |\n",
        "3 |   3.2%   1.1%  <6.1%>  0.4%   0.4%   0.4%   0.7% |\n",
        "5 |   4.7%   0.4%   0.4%  <4.3%>  0.4%   1.1%   0.4% |\n",
        "4 |   2.9%      .      .      .  <8.3%>     .      . |\n",
        "6 |   3.6%      .      .      .   0.4%  <4.0%>  0.4% |\n",
        "7 |   2.5%      .   1.1%   0.7%      .      .  <2.9%>|\n",
        "--+--------------------------------------------------+\n",
        "(row = reference; col = test)\n"
       ]
      },
      {
       "output_type": "stream",
       "stream": "stdout",
       "text": [
        "\n"
       ]
      }
     ],
     "prompt_number": 10
    },
    {
     "cell_type": "code",
     "collapsed": false,
     "input": [
      "extractor.train_extractors(sample_sets)"
     ],
     "language": "python",
     "metadata": {},
     "outputs": [],
     "prompt_number": 11
    },
    {
     "cell_type": "code",
     "collapsed": false,
     "input": [
      "errors = extractor.show_errors(sample_sets, classifier=classifier)"
     ],
     "language": "python",
     "metadata": {},
     "outputs": []
    },
    {
     "cell_type": "code",
     "collapsed": false,
     "input": [
      "for e in errors:\n",
      "    #if e[1]==\"2\":\n",
      "        print e"
     ],
     "language": "python",
     "metadata": {},
     "outputs": []
    },
    {
     "cell_type": "code",
     "collapsed": false,
     "input": [
      "cl = extractor.get_classifier(sample_sets)"
     ],
     "language": "python",
     "metadata": {},
     "outputs": [],
     "prompt_number": 18
    },
    {
     "cell_type": "code",
     "collapsed": false,
     "input": [
      "cl.show_most_informative_features(50)"
     ],
     "language": "python",
     "metadata": {},
     "outputs": [
      {
       "output_type": "stream",
       "stream": "stdout",
       "text": [
        "Most Informative Features\n",
        "              termscore2 = '4'                 4 : 2      =    131.8 : 1.0"
       ]
      },
      {
       "output_type": "stream",
       "stream": "stdout",
       "text": [
        "\n",
        "              termscore1 = '3'                 3 : 6      =     91.9 : 1.0\n",
        "              termscore2 = '3'                 3 : 6      =     85.8 : 1.0\n",
        "              termscore2 = '6'                 6 : 2      =     78.8 : 1.0\n",
        "              termscore1 = '7'                 7 : 4      =     72.8 : 1.0\n",
        "              termscore1 = '2'                 2 : 4      =     72.8 : 1.0\n",
        "              termscore1 = '5'                 5 : 4      =     72.6 : 1.0\n",
        "              termscore2 = '7'                 7 : 3      =     65.1 : 1.0\n",
        "               has(song) = 1                   3 : 1      =     39.7 : 1.0\n",
        "              termscore2 = '5'                 5 : 2      =     37.3 : 1.0\n",
        "               has(girl) = 1                   4 : 3      =     28.5 : 1.0\n",
        "               has(pain) = 1                   6 : 1      =     27.5 : 1.0\n",
        "           has(computer) = 1                   2 : 4      =     25.8 : 1.0\n",
        "           has(together) = 1                   4 : 1      =     24.3 : 1.0\n",
        "              termscore2 = '2'                 2 : 4      =     23.7 : 1.0\n",
        "       has(relationship) = 1                   4 : 1      =     21.7 : 1.0\n",
        "          has(boyfriend) = 1                   4 : 3      =     21.4 : 1.0\n",
        "              termscore1 = '6'                 6 : 4      =     21.1 : 1.0\n",
        "           has(marriage) = 1                   4 : 1      =     19.9 : 1.0\n",
        "               has(page) = 1                   2 : 1      =     16.4 : 1.0\n",
        "            has(smoking) = 1                   6 : 1      =     14.3 : 1.0\n",
        "            has(windows) = 1                   2 : 5      =     11.7 : 1.0\n",
        "              termscore1 = '4'                 4 : 5      =     10.8 : 1.0\n",
        "              termscore1 = '1'                 1 : 5      =     10.7 : 1.0\n",
        "            has(episode) = 1                   3 : 1      =      9.5 : 1.0\n",
        "               has(wife) = 1                   4 : 1      =      9.3 : 1.0\n",
        "             has(friend) = 1                   4 : 2      =      8.6 : 1.0\n",
        "             has(router) = 1                   2 : 1      =      8.5 : 1.0\n",
        "            has(cartoon) = 1                   3 : 1      =      8.2 : 1.0\n",
        "               has(hate) = 1                   4 : 1      =      6.6 : 1.0\n",
        "               has(told) = 1                   4 : 1      =      6.6 : 1.0\n",
        "              num_tokens = 12                  4 : 1      =      6.5 : 1.0\n",
        "              num_tokens = 10                  2 : 1      =      6.1 : 1.0\n",
        "             has(family) = 1                   4 : 1      =      6.0 : 1.0\n",
        "         has(girlfriend) = 1                   4 : 3      =      5.8 : 1.0\n",
        "             has(credit) = 1                   1 : 3      =      5.5 : 1.0\n",
        "              num_tokens = 4                   2 : 7      =      5.4 : 1.0\n",
        "              num_tokens = 14                  6 : 1      =      5.3 : 1.0\n",
        "              has(chuck) = 1                   5 : 1      =      5.2 : 1.0\n",
        "               has(wood) = 1                   5 : 1      =      5.2 : 1.0\n",
        "               has(rock) = 1                   3 : 7      =      5.1 : 1.0\n",
        "                word_len = 6                   5 : 3      =      5.0 : 1.0\n",
        "              termscore2 = '1'                 1 : 2      =      4.1 : 1.0\n",
        "        has(environment) = 1                   2 : 1      =      3.9 : 1.0\n",
        "              has(cable) = 1                   2 : 3      =      3.9 : 1.0\n",
        "                word_len = 5                   7 : 4      =      3.7 : 1.0\n",
        "              num_tokens = 8                   4 : 5      =      3.6 : 1.0\n",
        "              has(marry) = 1                   4 : 3      =      3.5 : 1.0\n",
        "            has(divorce) = 1                   4 : 3      =      3.5 : 1.0\n",
        "              has(marks) = 1                   6 : 1      =      3.3 : 1.0\n"
       ]
      }
     ],
     "prompt_number": 20
    },
    {
     "cell_type": "code",
     "collapsed": false,
     "input": [
      "final_features = util.make_feature(extractor, final_sets)"
     ],
     "language": "python",
     "metadata": {},
     "outputs": [],
     "prompt_number": 21
    },
    {
     "cell_type": "code",
     "collapsed": false,
     "input": [
      "submission = util.make_submission(cl, final_features, writeto=\"submission15.csv\")"
     ],
     "language": "python",
     "metadata": {},
     "outputs": [],
     "prompt_number": 22
    }
   ],
   "metadata": {}
  }
 ]
}