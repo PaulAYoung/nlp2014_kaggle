{
 "metadata": {
  "name": "",
  "signature": "sha256:df7c5fb4fd9e08ba1eba0491c59b5aa3c461acf8726dc6d8dae07cafb571a998"
 },
 "nbformat": 3,
 "nbformat_minor": 0,
 "worksheets": [
  {
   "cells": [
    {
     "cell_type": "code",
     "collapsed": false,
     "input": [
      "import re\n",
      "import random\n",
      "from os import path\n",
      "\n",
      "import nltk\n",
      "\n",
      "import testing_util as util\n",
      "import term_scoring\n",
      "from testing_util import sample_sets, final_sets"
     ],
     "language": "python",
     "metadata": {},
     "outputs": [],
     "prompt_number": 1
    },
    {
     "cell_type": "code",
     "collapsed": false,
     "input": [
      "class WordSearcher(object):\n",
      "    def __init__(self, wordlist=None, key=\"\", name=\"wordsearcher\"):\n",
      "        self.wordlist = wordlist if wordlist else []\n",
      "        self.key = key\n",
      "        self.name=name\n",
      "    \n",
      "    def add(self, wordlist):\n",
      "        self.wordlist.extend(wordlist)\n",
      "    \n",
      "    def clear(self):\n",
      "        self.wordlist = []\n",
      "    \n",
      "    def __call__(self, text):\n",
      "        out = {}\n",
      "        for word in self.wordlist:\n",
      "            out[\"{}has({})\".format(self.key, word)] = 1 if re.search(word, text, re.IGNORECASE) else 0\n",
      "        return out"
     ],
     "language": "python",
     "metadata": {},
     "outputs": [],
     "prompt_number": 2
    },
    {
     "cell_type": "code",
     "collapsed": false,
     "input": [
      "worder = WordSearcher()"
     ],
     "language": "python",
     "metadata": {},
     "outputs": [],
     "prompt_number": 3
    },
    {
     "cell_type": "code",
     "collapsed": false,
     "input": [
      "worder.clear()\n",
      "#1-business\n",
      "worder.add([\"money\", \"credit\", \"business\", \"sell\"])\n",
      "#2-computers\n",
      "worder.add([\"comp\", \"linux\", \"windows\", \"internet\",\n",
      "            \"software\", \"program\", r\"\\d+(mb|kb|gb)\",\n",
      "            \"download\", \"e-?mail\", \"web\", \"laptop\",\n",
      "            \"wireless\", \"website\", \"html\", \"smtp\"])\n",
      "#3 - entertainment\n",
      "worder.add([\"song\", \"movie\", \"music\", \"favorite\",\n",
      "            \"show\", \"first\", \"rock\", \"magazine\",\n",
      "            \"lyric\", \"series\", \"episode\", \"singer\",\n",
      "            \"act(or|ress)\", \"cartoon\", \"riddle\", \"joke\"\n",
      "            \"album\"])\n",
      "#4 - family/relationships\n",
      "worder.add([\"love\", \"girl\", \"boy\", \"relationship\",\n",
      "            \"women\", \"date\", \"(boy|girl)friend\", \"marri\",\n",
      "            \"wife\", \"husband\", \"family\", \"dating\", \"sex\",\n",
      "            \" friend\", \"roman(ce|tic)\"\n",
      "            ])\n",
      "#5 - education and reference\n",
      "worder.add([\"school\", \"college\", \"study\", \"english\", \"word\",\n",
      "            \"history\", \"educat\", \"teach\", \"book\", \"spanish\",\n",
      "            \"university\", \"grade\", \"exam\", \"learn\"])\n",
      "#6 - Health\n",
      "worder.add([\"pain\", \"cold\", \"body\", \"surgery\", \"blood\",\n",
      "            \"weight\", \"health\", \"smok(es|ing)\", \"symptoms\",\n",
      "            \"cure\", \"diet\", \"treatment\", \"medic\", \"penis\",\n",
      "            \"vomit\", \"acne\", \"\\d+mg\", \"itching\", \"teeth\",\n",
      "            \"materbat\"])\n",
      "#7 - Science&Mathematics\n",
      "worder.add([\"earth\", \"world\", \"theory\", \"universe\", \"point\",\n",
      "            \"planet\", \"moon\", \"science\", \"math\", \"atom\", \"stars\",\n",
      "            \"\\d+[/*^+-]\\d+\"])"
     ],
     "language": "python",
     "metadata": {},
     "outputs": [],
     "prompt_number": 4
    },
    {
     "cell_type": "code",
     "collapsed": false,
     "input": [
      "def check_propnouns(text):\n",
      "    if re.findall(\"[A-Z]\\w [A-Z]\", text):\n",
      "        return {\"has prop noun\":1}\n",
      "    else:\n",
      "        return {\"has prop noun\":0}"
     ],
     "language": "python",
     "metadata": {},
     "outputs": [],
     "prompt_number": 6
    },
    {
     "cell_type": "code",
     "collapsed": false,
     "input": [
      "class Collocator(object):\n",
      "    def __init__(self, name=\"collocator\"):\n",
      "        self.collocations = []\n",
      "        self.name = name\n",
      "\n",
      "    def train(self, samples):\n",
      "        tokens = [w.lower() for s in sample_sets for w in nltk.tokenize.word_tokenize(s[1])]\n",
      "        tokens = [t for t in tokens if (not re.findall(\"[']|what|which|where|have|why|they\", t, re.I)) and len(t)>3]\n",
      "        bigram_measures = nltk.collocations.BigramAssocMeasures()\n",
      "        finder = nltk.collocations.BigramCollocationFinder.from_words(tokens)\n",
      "        finder.apply_freq_filter(5)\n",
      "        self.collocations = finder.nbest(bigram_measures.pmi, 100)\n",
      "    \n",
      "    def __call__(self, text):\n",
      "        for co in self.collocations:\n",
      "            if \"{} {}\".format(co[0], co[1]) in text.lower():\n",
      "                return {\"{}has{}\".format(self.name, co): 1}\n",
      "            else:\n",
      "                return {\"{}has{}\".format(self.name, co): 0}"
     ],
     "language": "python",
     "metadata": {},
     "outputs": [],
     "prompt_number": 34
    },
    {
     "cell_type": "code",
     "collapsed": false,
     "input": [
      "colo = Collocator()"
     ],
     "language": "python",
     "metadata": {},
     "outputs": [],
     "prompt_number": 35
    },
    {
     "cell_type": "code",
     "collapsed": false,
     "input": [
      "extractor = util.FeatureExtractor()\n",
      "extractor.add_extractor(worder)\n",
      "extractor.add_extractor(colo, trained=True)\n",
      "#extractor.add_extractor(check_propnouns)"
     ],
     "language": "python",
     "metadata": {},
     "outputs": [],
     "prompt_number": 36
    },
    {
     "cell_type": "code",
     "collapsed": false,
     "input": [
      "classifier = nltk.classify.NaiveBayesClassifier"
     ],
     "language": "python",
     "metadata": {},
     "outputs": [],
     "prompt_number": 37
    },
    {
     "cell_type": "code",
     "collapsed": false,
     "input": [
      "extractor.test(sample_sets, confusion=True, folds=10, classifier=classifier)"
     ],
     "language": "python",
     "metadata": {},
     "outputs": [
      {
       "output_type": "stream",
       "stream": "stdout",
       "text": [
        "**************************\n",
        "Run 0\n",
        "**************************\n",
        "test 0 - 47.212%"
       ]
      },
      {
       "output_type": "stream",
       "stream": "stdout",
       "text": [
        "\n",
        "  |      1      2      3      5      7      4      6 |\n",
        "--+--------------------------------------------------+\n",
        "1 | <20.8%>  2.2%   1.1%   0.7%   0.4%   1.9%   0.4% |\n",
        "2 |   7.8%  <6.3%>  0.4%   0.4%   0.4%      .      . |\n",
        "3 |   6.3%   0.4%  <4.5%>  0.7%   0.4%   0.7%      . |\n",
        "5 |   7.8%   1.1%   0.4%  <3.3%>  0.4%      .      . |\n",
        "7 |   7.8%   0.4%      .   0.4%  <1.9%>  0.4%   0.4% |\n",
        "4 |   3.3%      .      .      .      .  <7.4%>     . |\n",
        "6 |   5.9%      .      .      .      .   0.4%  <3.0%>|\n",
        "--+--------------------------------------------------+\n",
        "(row = reference; col = test)\n"
       ]
      },
      {
       "output_type": "stream",
       "stream": "stdout",
       "text": [
        "\n",
        "test 1 - 51.673%"
       ]
      },
      {
       "output_type": "stream",
       "stream": "stdout",
       "text": [
        "\n",
        "  |      1      2      3      4      7      6      5 |\n",
        "--+--------------------------------------------------+\n",
        "1 | <23.8%>  0.7%   1.5%   0.7%   0.4%   0.4%   0.4% |\n",
        "2 |  10.0%  <8.2%>  1.1%      .      .      .      . |\n",
        "3 |   8.2%      .  <5.9%>  0.4%   0.4%   0.4%      . |\n",
        "4 |   5.6%      .   0.4%  <7.1%>  0.4%   0.4%      . |\n",
        "7 |   5.6%   0.7%   0.4%      .  <1.5%>  1.1%      . |\n",
        "6 |   4.1%      .      .   0.4%      .  <3.0%>     . |\n",
        "5 |   4.1%      .      .   0.4%      .   0.4%  <2.2%>|\n",
        "--+--------------------------------------------------+\n",
        "(row = reference; col = test)\n"
       ]
      },
      {
       "output_type": "stream",
       "stream": "stdout",
       "text": [
        "\n",
        "test 2 - 53.903%"
       ]
      },
      {
       "output_type": "stream",
       "stream": "stdout",
       "text": [
        "\n",
        "  |      1      2      3      5      7      4      6 |\n",
        "--+--------------------------------------------------+\n",
        "1 | <23.4%>  0.7%   0.4%   1.5%      .   1.9%      . |\n",
        "2 |  10.4%  <8.6%>  0.7%      .   0.4%      .      . |\n",
        "3 |   8.6%   0.7%  <7.8%>  0.7%      .   1.5%      . |\n",
        "5 |   5.6%   0.4%      .  <2.6%>     .      .   0.4% |\n",
        "7 |   8.2%      .   0.4%      .  <0.4%>     .      . |\n",
        "4 |   2.2%      .      .      .      .  <5.9%>     . |\n",
        "6 |   0.7%      .      .      .      .   0.7%  <5.2%>|\n",
        "--+--------------------------------------------------+\n",
        "(row = reference; col = test)\n"
       ]
      },
      {
       "output_type": "stream",
       "stream": "stdout",
       "text": [
        "\n",
        "test 3 - 53.903%"
       ]
      },
      {
       "output_type": "stream",
       "stream": "stdout",
       "text": [
        "\n",
        "  |      1      2      3      4      5      6      7 |\n",
        "--+--------------------------------------------------+\n",
        "1 | <22.7%>  3.0%   0.7%   4.1%   0.7%   0.4%      . |\n",
        "2 |   6.7%  <8.2%>  1.5%      .   0.4%      .      . |\n",
        "3 |   4.8%   0.4%  <7.1%>  0.7%      .      .      . |\n",
        "4 |   3.7%      .      .  <8.2%>     .      .      . |\n",
        "5 |   6.3%      .      .      .  <3.3%>  0.4%   0.4% |\n",
        "6 |   4.5%      .   0.4%   1.5%      .  <3.0%>     . |\n",
        "7 |   4.5%   0.7%      .      .   0.4%      .  <1.5%>|\n",
        "--+--------------------------------------------------+\n",
        "(row = reference; col = test)\n"
       ]
      },
      {
       "output_type": "stream",
       "stream": "stdout",
       "text": [
        "\n",
        "test 4 - 53.160%"
       ]
      },
      {
       "output_type": "stream",
       "stream": "stdout",
       "text": [
        "\n",
        "  |      1      2      4      6      3      7      5 |\n",
        "--+--------------------------------------------------+\n",
        "1 | <24.2%>  1.1%   3.0%   0.4%   0.4%   0.4%   0.4% |\n",
        "2 |   7.8%  <6.3%>     .      .   0.7%      .   0.7% |\n",
        "4 |   4.1%      . <10.4%>     .   0.7%      .      . |\n",
        "6 |   5.2%   0.4%   0.7%  <5.2%>  0.4%      .   0.4% |\n",
        "3 |   6.3%   0.4%   1.1%      .  <2.2%>     .      . |\n",
        "7 |   4.8%   1.1%      .   0.4%   0.4%  <2.2%>     . |\n",
        "5 |   5.2%   0.4%      .      .      .      .  <2.6%>|\n",
        "--+--------------------------------------------------+\n",
        "(row = reference; col = test)\n"
       ]
      },
      {
       "output_type": "stream",
       "stream": "stdout",
       "text": [
        "\n",
        "test 5 - 50.929%"
       ]
      },
      {
       "output_type": "stream",
       "stream": "stdout",
       "text": [
        "\n",
        "  |      1      2      3      4      5      7      6 |\n",
        "--+--------------------------------------------------+\n",
        "1 | <16.7%>  2.2%   1.9%   1.9%   0.7%      .      . |\n",
        "2 |   7.8% <10.0%>  0.4%      .   0.4%      .      . |\n",
        "3 |   6.3%   0.7%  <7.1%>  1.1%      .      .      . |\n",
        "4 |   3.7%   0.7%   0.4%  <8.2%>     .      .      . |\n",
        "5 |   5.9%   0.7%   0.7%      .  <3.7%>     .   0.4% |\n",
        "7 |   5.9%   0.4%   0.7%      .   0.4%  <2.2%>  0.4% |\n",
        "6 |   3.7%   0.7%   0.4%   0.4%      .      .  <3.0%>|\n",
        "--+--------------------------------------------------+\n",
        "(row = reference; col = test)\n"
       ]
      },
      {
       "output_type": "stream",
       "stream": "stdout",
       "text": [
        "\n",
        "test 6 - 53.160%"
       ]
      },
      {
       "output_type": "stream",
       "stream": "stdout",
       "text": [
        "\n",
        "  |      1      3      2      4      5      6      7 |\n",
        "--+--------------------------------------------------+\n",
        "1 | <21.6%>  1.5%   1.9%   1.9%      .   0.4%      . |\n",
        "3 |   7.4%  <8.2%>  0.7%   1.1%      .      .      . |\n",
        "2 |   7.1%   0.4%  <8.6%>  0.4%   0.4%      .      . |\n",
        "4 |   4.1%      .   0.4%  <8.6%>     .   0.4%   0.4% |\n",
        "5 |   4.1%   0.4%   1.1%      .  <2.6%>  0.4%      . |\n",
        "6 |   5.6%      .   0.4%   0.4%      .  <2.2%>     . |\n",
        "7 |   5.2%   0.7%      .      .   0.4%      .  <1.5%>|\n",
        "--+--------------------------------------------------+\n",
        "(row = reference; col = test)\n"
       ]
      },
      {
       "output_type": "stream",
       "stream": "stdout",
       "text": [
        "\n",
        "test 7 - 55.019%"
       ]
      },
      {
       "output_type": "stream",
       "stream": "stdout",
       "text": [
        "\n",
        "  |      1      3      2      4      7      5      6 |\n",
        "--+--------------------------------------------------+\n",
        "1 | <21.9%>  0.7%   1.9%   0.7%   0.4%   1.5%   0.4% |\n",
        "3 |   6.3%  <8.6%>  1.9%   2.2%      .      .   0.7% |\n",
        "2 |   5.6%   1.1%  <7.8%>  0.4%      .   0.7%   0.4% |\n",
        "4 |   4.1%   0.7%      . <10.0%>     .   0.4%      . |\n",
        "7 |   5.2%   0.4%   0.7%      .  <1.9%>     .      . |\n",
        "5 |   4.1%      .      .   0.4%      .  <3.0%>     . |\n",
        "6 |   3.3%      .      .   0.7%      .      .  <1.9%>|\n",
        "--+--------------------------------------------------+\n",
        "(row = reference; col = test)\n"
       ]
      },
      {
       "output_type": "stream",
       "stream": "stdout",
       "text": [
        "\n",
        "test 8 - 55.390%"
       ]
      },
      {
       "output_type": "stream",
       "stream": "stdout",
       "text": [
        "\n",
        "  |      1      3      2      4      7      6      5 |\n",
        "--+--------------------------------------------------+\n",
        "1 | <26.0%>  1.9%   1.1%   1.1%   0.4%   0.4%      . |\n",
        "3 |   5.6%  <6.7%>  0.7%   1.5%   0.4%      .      . |\n",
        "2 |   4.1%   0.4%  <8.9%>  0.4%      .      .   0.4% |\n",
        "4 |   4.5%   0.7%      .  <7.4%>     .   0.4%      . |\n",
        "7 |   8.2%      .   0.4%      .  <3.0%>  0.4%   0.4% |\n",
        "6 |   6.3%      .      .   0.4%      .  <1.5%>  0.4% |\n",
        "5 |   2.6%   0.4%      .      .   1.1%   0.4%  <1.9%>|\n",
        "--+--------------------------------------------------+\n",
        "(row = reference; col = test)\n"
       ]
      },
      {
       "output_type": "stream",
       "stream": "stdout",
       "text": [
        "\n",
        "test 9 - 54.152%"
       ]
      },
      {
       "output_type": "stream",
       "stream": "stdout",
       "text": [
        "\n",
        "  |      1      2      4      3      6      5      7 |\n",
        "--+--------------------------------------------------+\n",
        "1 | <23.5%>  2.9%   2.5%   0.7%   1.1%   0.7%      . |\n",
        "2 |   7.6%  <7.9%>     .      .      .      .   0.4% |\n",
        "4 |   3.6%      .  <9.7%>  0.4%      .      .      . |\n",
        "3 |   5.4%   0.4%   0.4%  <6.5%>     .      .      . |\n",
        "6 |   4.7%      .   1.1%      .  <4.0%>     .      . |\n",
        "5 |   4.7%   1.1%   0.4%   0.7%      .  <2.2%>     . |\n",
        "7 |   6.5%      .      .   0.4%   0.4%      .  <0.4%>|\n",
        "--+--------------------------------------------------+\n",
        "(row = reference; col = test)\n"
       ]
      },
      {
       "output_type": "stream",
       "stream": "stdout",
       "text": [
        "\n"
       ]
      }
     ],
     "prompt_number": 38
    },
    {
     "cell_type": "code",
     "collapsed": false,
     "input": [
      "errors = extractor.show_errors(sample_sets, classifier=classifier)"
     ],
     "language": "python",
     "metadata": {},
     "outputs": [],
     "prompt_number": 30
    },
    {
     "cell_type": "code",
     "collapsed": false,
     "input": [
      "for e in errors:\n",
      "    #if e[1]==\"2\":\n",
      "        print e"
     ],
     "language": "python",
     "metadata": {},
     "outputs": [
      {
       "output_type": "stream",
       "stream": "stdout",
       "text": [
        "('1', '7', 'why do men have nipples? ')\n",
        "('1', '5', 'what is a nice gift for my sister? she is 32 has two boys and she is studying to be a minister')\n",
        "('4', '1', 'when do you know you are in love? ')\n",
        "('6', '3', 'why is e-mail the same as a penis? ')\n",
        "('1', '2', 'can nyone have documentation on online shopping ? ')\n",
        "('1', '4', 'is there anyone for me? ')\n",
        "('2', '6', 'why old people always are complaining ? like my grandma for example: i dont like this ice cream is not tasty when the ice cream was really good.')\n",
        "('4', '3', \"who had the shortest celebrity marriage? nikki hilton's and renee zellwegger's super-short marriages this year got me thinking-- which celebrity had the shortest marriage of all time?\")\n",
        "('4', '3', 'is anyone else in total love/lust with sara silverman? ')\n",
        "('1', '6', 'what is highest live expectancy in the world? ')\n",
        "('1', '7', \"what does the time dimension of a sphere look like? (or rather, how is it percieved?)? the time dimension is accepted as the 4th dimension. if you have an idea about it or even another question that you would think i would find interesting, i'd like to hear it. thanks.\")\n",
        "('1', '2', 'what is the max file size on unix? ')\n",
        "('1', '6', 'what is the best way to get rid of heart burn? ')\n",
        "('1', '3', 'how old is juicy j from the  rap group  three 6 mafia? ')\n",
        "('1', '5', 'is yahoo or google a better resource for research? what is another good resource for academic research? thanks.')\n",
        "('1', '7', \"how do fire act in 'zero gravity'? \")\n",
        "('2', '1', \"is it really necessary to have a copyright date?  won't copyright alone suffice? this is in regards to copyright notices at the bottom of webpages.\")\n",
        "('1', '3', 'beyonce, mariah or j-lo? ')\n",
        "('1', '3', 'what is brown and sticky? ')\n",
        "('1', '6', 'where can you get an hha for free if the insurance doesnt cover it? my mothers insurance denied her right to an hha.  we have no money to pay privately and she despirately needs it')\n",
        "('1', '7', 'what is the only state in the us whose governor has no veto power? ')\n",
        "('1', '4', 'what do i do if the 2 guys i like both asked me out on the same day who should i go with? ')\n",
        "('2', '1', 'why do you think yahoo! answers is so addictive? is it the interface, the point scoring, competition, or what?')\n",
        "('1', '7', 'please find for me the force acted upon by an infinite conducting plane on a dipole.? a point dipole with dipole moment p is located at a distance l from an infinite conducting plane.find the modulus of the vector of electric interaction force acting on the dipole if the dipole moment vector is perpendicular to the plane.please help me here along with the concepts applied here.')\n",
        "('4', '1', 'who likes zoe girl? ')\n",
        "('1', '4', \"how do i no my ex isnt goin 2 lie 2 me anymore? i havent forgiven him yet but i want 2 . help!? he's lied to me before and i didnt forgive him. he says he was high and drunk whenever he did this but i dont believe him. i've known him for 8 years, we grew up together and he never lied to me before. but he made a mistake and lied to me about a lot of stuff. do i forgive him or not?\")\n",
        "('1', '7', 'why do we yawn? how is it contagious...')\n",
        "('5', '2', \"how to erase all the words i've been searched from the yahoo search? \")\n",
        "('1', '3', 'if u could only watch one tv a week what would it be? ')\n",
        "('1', '5', 'why is it important to separate current liabilities from long term liabilities? ')\n",
        "('1', '4', 'i have a husband and im paying 95% of the bill should i dump him? ')\n",
        "('1', '4', \"there's this older guy that i like...how do i get him to notice me? i'm not particularly pretty but i really like this man but i'm not sure he'll like me the same.  any advise on how the ugly duckling can capture the handsome frog's heart?\")\n",
        "('1', '5', 'what ncaa sport does not have a playoff system? ')\n",
        "('5', '1', \"what is a 'surry' ? this isn't a mis-spelling of 'surrey', but apparently a word in its own right.\")\n",
        "('1', '2', 'i know an email address but forgot the @ part. how do i find the email address if all i know is the begining? ')\n",
        "('1', '3', 'i need telugu devotional free ringtones where i have to find? devotional')\n",
        "('2', '1', 'i want to see all the company director and there e-maill address in saudi arabia? i want to know them')\n",
        "('4', '1', 'me and my boyfriend have been going out for a week. will we last? ')\n",
        "('1', '2', 'how to i get yahoo! to make it reasonably easy to ask support questions and have them respond meaningfully? - all people ever get is an automated response that, in my experience, never answers the question&#xa;- why must they make it so difficult?')\n",
        "('1', '6', \"does labour become more difficult if i've gained 20 pounds by the end of my 7th month already? plus i wanna know what contractions really feel like...i've started my 8th month and wanna know how they feel cuz i still have no idea\")\n",
        "('1', '2', 'how to fool an ip address tracer into believeing another ip? how to change ip address from original to another, but our own choice.&#xa;&#xa;http://cs.dal.ca/~koul/')\n",
        "('1', '2', 'what is rss? ')\n",
        "('3', '1', 'what should i do to find a good job? every time i look for a job the employers ask me for referers but this is my first time i would work.')\n",
        "('1', '7', 'is dna the real map from where we come from and where we go to???? ')\n",
        "('2', '5', 'which part-time mba program will add value to a software developer with 15 years experience? ')\n",
        "('1', '5', 'what sea creature sleeps with one eye open? ')\n",
        "('1', '5', 'what is meaning of shivani? ')\n",
        "('1', '4', 'do you enjoy reading erotic stories? ')\n",
        "('1', '4', 'forgive and forget? is it possible to forgive and forget a cheater?')\n",
        "('4', '3', \"do the backstreet boys have a chance on their comeback? did their little hiatus hurt their careers or can they start from scratch? i really don't care; i'm just throwing out the first thing that pops into my head.\")\n",
        "('1', '3', 'who is eddie van halen? ')\n",
        "('1', '4', 'how do house chores get divided in your family? ')\n",
        "('4', '1', 'did you ever have alot of guys ask you out in at least 20 min? i did i want to see if its normal for a girl')\n",
        "('1', '6', 'how many times is go toget upset during a day? why i am getting upset?&#xa;why i can not save money although i am working?&#xa;why i always feel lonly?')\n",
        "('1', '7', 'why salt will be spread on snowy days? ')\n",
        "('2', '1', \"why did yahoo close my 4 year old id for no reason and with no warning? all my points gone, my email, just really irritating to try to sign in and have no idea why it isn't working and then get a place that says your account is deactivated. i think it may be a defect in 360 because it kept asking me to login last 4 days but the login would never take.\")\n",
        "('1', '3', 'how many instruments would be considered to much for someone to practice? ')\n",
        "('1', '2', 'i need help on how to put flash videos on ur page,but i dont kno how to,and i need help on what a swf is??help im on this site and i want to put still tippin by paul wall,on my bebo page! but i dontknow how to,and the director of bebo wont help me..so can u ppl help me..please!!!! i  dont kno what a swf is,and i want to put the flash still tippin/by paul wall on my page!!...please....please....please help me!!!!!!!!!!!')\n",
        "('1', '4', \"does a woman's size matter? peaople always ask does size matter? referring to men, but what about a woman's size, does that matter?\")\n",
        "('4', '3', 'are there proofs of homosexuality b/w batman &amp; robin? ')\n",
        "('1', '3', \"how do you circumsize a redneck? it is the funniest joke i've ever heard\")\n",
        "('1', '3', \"brothers and sisters, i have none. this man's father is my father's son. who am i? \")\n",
        "('1', '5', 'know an easy way to remember when to use affect and effect? ')\n",
        "('1', '3', \"in the rugrats go to paris how did chuckie's mom die? \")\n",
        "('1', '2', 'what is the best place, in this game called maple story, to train? ')\n",
        "('2', '3', \"music html? hi...i was wondering if anyone knew of a good site that allows you to get the html address for mp3's??. i know you can download music offline, but that's not what i'm looking for. i simply just need a html address from a mp3 to put in my profile on myspace...any suggestions would be appreciated.&#xa;&#xa;p.s. i use to go to cdzinc.com all the time, but it's currently under construction, so i need another place to get them from. :) - thanx.\")\n",
        "('2', '1', 'what are some of the advantages of participating in a regular exercise  program? ')\n",
        "('1', '6', 'what causes the irritation around the ileostomy? what to do? ')\n",
        "('2', '6', \"anybody outthere with a shoulder problem(s) tellme how are you doing mine is a nightmare answer soon? i have had 2 surgeries on the same shoulder and it is a complete nightmare it feels like i' never be able to use my right arm it has been a year and i dont feel no changes wanna know if there's any body with the same problem.\")\n",
        "('2', '1', 'which company owns kraft foods? i heard it was a non-foods company')\n",
        "('1', '3', 'who was famous for the line nanoo nanoo? ')\n",
        "('1', '2', 'what is the best free c/c++ ide for solaris excluding vi and emacs? ')\n",
        "('1', '2', 'my prymary wsus server can not see the clients attached its down stream wsus servers. any suggestions? my prymary wsus server can not see the clients attached its down stream wsus servers. any suggestions')\n",
        "('1', '3', \"what's the name of paris hilton's pet dog? \")\n",
        "('1', '7', 'what is the oldest evidence of life? ')\n",
        "('1', '6', \"what is that tiny pinhole near the top of someone's ear near the temple? i have seen this maybe 3 or 4 times \")\n",
        "('5', '2', 'why do schools have stupid internet locks.? ')\n",
        "('1', '5', \"when you're in someone's disfavor, you are in this backyard object? \")\n",
        "('1', '7', \"'intelligent design' should be better named 'malevolent design'. do you agree ? \")\n",
        "('1', '4', 'how can u say im sori to da guy dat u hurt so much..he doesnt even wana tok to u???!!!*tears*? ')\n",
        "('1', '5', 'where on the net can i find step by step instructions on toothpick bridge building? ')\n",
        "('1', '3', 'do you think giada de laurentiis is hot? ')\n",
        "('1', '5', 'where is the  rhetorical device in this sentence? where is the rhetorical device in this sentence? the majority of americans will think that stronger drug abuse laws should be passed.')\n",
        "('6', '1', \"how long does midlife crisis last? my ex started acting out before we got divorced by doing stupid things like smoking pot all the time and getting oui's, he's still at it, being stupid and getting his a$$ arrested for dumb things, after about 6 years.  is this a midlife crisis, or is it just self destructive stupid behavior?  he's now 38, who thinks he will smarten up or what?\")\n",
        "('4', '3', \"i can't remember the name of the villain who would always tie dudley doright's girlfriend to traintracks?? \")\n",
        "('1', '4', 'how to convince people who are irresponsible? ')\n",
        "('1', '6', 'what is the psychological term or disorder, for people who see imaginary people or animals? ')\n",
        "('1', '7', 'what is the predicate logic? ')\n",
        "('1', '2', 'how i can install php on xp? ')\n",
        "('1', '2', 'why i can open the ecard from 123greetings.com? ')\n",
        "('1', '5', 'what is the difference between a bachelors and a masters degree? ')\n",
        "('2', '1', 'should us computer programmers be worried about outsourcing trend to india and other countries? ')\n",
        "('3', '2', 'i installed 64mb ram in ibm thinkpad it only reconized 40mb can anyone help with this? self diagnostic test shows 64mb ram but system mech, memory king, and win 98 al only show 40mb i am confused')\n",
        "('5', '1', 'how to get pass word of my yahoo id if i have forgotten details provided at the time of ragistration? ')\n",
        "('1', '6', 'what can you say to someone on their deathbed to help put their mind at ease? ')\n",
        "('2', '1', 'where is the best place online to find business partners for an it startup? i am currently looking for great technical partners for a new internet and it startup.  i already know about gobignetwork.com, but i was hoping to find out about similar websites or ways to find great people.')\n",
        "('1', '2', 'why do users in yahoo! 360 have almost no friends? the majority of yahoo 360 users have zero friend.')\n",
        "('1', '2', 'do you need to pay for mac os x remote desktop (client)? if so - what are some alternatives? (not vnc).? ')\n",
        "('1', '2', 'i dont understand smtp (iis) xp?? pleeeeaase?&#xa;i want details?')\n",
        "('4', '6', \"i'm a women with gential warts,partner left  afraid to be a lone for life due to condition any advise? \")\n",
        "('1', '6', 'how do you cure constipation? without having massive diarrhea.')\n",
        "('1', '7', \"how do a fish's gills extract oxygen? \")\n",
        "('1', '6', 'what store can i buy jovan ginseng? ')\n",
        "('1', '5', 'what should the serving temp. of coffee be ?? ')\n",
        "('1', '5', 'which search engine has a mascot named arfie? ')\n",
        "('1', '4', 'how can men hold their orgasms? ')\n",
        "('1', '2', 'simple dos  graphics using c? hi, &#xa;  what should i learn to create simple dos graphics by controlling pixels on the monitor. i already know how to control pixels in assembly, but i wanted it in c')\n",
        "('2', '7', 'how can i make a phone call to argentina? besides the local phone number, what are the other numbers i might have to compose to get in contact with someone from buenos aires?  also, what is the format of an argentinian phone number (in canada it would be ###-####)')\n",
        "('1', '3', \"is it's a wonderful life on tv over the next few days before christmas? \")\n",
        "('4', '1', \"why can't women just see things our way and like it?????? \")\n",
        "('1', '7', 'does having light coloured eyes make you ahve better night vision? ')\n",
        "('1', '4', 'what can a male do to be more affectionate? ')\n",
        "('1', '6', 'why do non-vegetarians get so defensive at the mere mention that one is a vegetarian? ')\n",
        "('1', '5', 'how to get rid of a beehive? who can tell me how to get rid of a beehive with out getting stung?')\n",
        "('6', '5', 'cold turkey? where and how did the term cold turkey originate? what was its original meaning?')\n",
        "('1', '5', 'why do all zippers have ykk on them? ')\n",
        "('1', '2', \"what is 'answers.yahoo.com'? \")\n"
       ]
      }
     ],
     "prompt_number": 31
    },
    {
     "cell_type": "code",
     "collapsed": false,
     "input": [
      "final_features = util.make_feature(extractor, final_sets)"
     ],
     "language": "python",
     "metadata": {},
     "outputs": [],
     "prompt_number": 40
    },
    {
     "cell_type": "code",
     "collapsed": false,
     "input": [
      "cl = util.make_classifier(extractor, sample_sets)"
     ],
     "language": "python",
     "metadata": {},
     "outputs": [],
     "prompt_number": 41
    },
    {
     "cell_type": "code",
     "collapsed": false,
     "input": [
      "cl.show_most_informative_features(200)"
     ],
     "language": "python",
     "metadata": {},
     "outputs": [
      {
       "output_type": "stream",
       "stream": "stdout",
       "text": [
        "Most Informative Features\n",
        "               has(love) = 1                   4 : 2      =     35.8 : 1.0\n",
        "               has(pain) = 1                   6 : 1      =     34.1 : 1.0\n",
        "                has(sex) = 1                   4 : 2      =     33.5 : 1.0\n",
        "              has(music) = 1                   3 : 1      =     30.9 : 1.0\n",
        "               has(girl) = 1                   4 : 7      =     28.6 : 1.0\n",
        "               has(song) = 1                   3 : 1      =     26.8 : 1.0\n",
        "       has(relationship) = 1                   4 : 1      =     25.2 : 1.0\n",
        "              has(movie) = 1                   3 : 4      =     22.5 : 1.0\n",
        "            has(college) = 1                   5 : 2      =     20.4 : 1.0\n",
        "            has( friend) = 1                   4 : 5      =     20.0 : 1.0\n",
        "                has(boy) = 1                   4 : 5      =     19.5 : 1.0\n",
        "              has(medic) = 1                   6 : 1      =     19.1 : 1.0\n",
        "   has((boy|girl)friend) = 1                   4 : 6      =     19.0 : 1.0\n",
        "           has(internet) = 1                   2 : 3      =     18.8 : 1.0\n",
        "               has(rock) = 1                   3 : 1      =     18.3 : 1.0\n",
        "              has(study) = 1                   5 : 1      =     17.8 : 1.0\n",
        "            has(program) = 1                   2 : 3      =     17.0 : 1.0\n",
        "              has(marri) = 1                   4 : 1      =     16.7 : 1.0\n",
        "           has(software) = 1                   2 : 1      =     16.6 : 1.0\n",
        "              has(blood) = 1                   6 : 1      =     16.5 : 1.0\n",
        "             has(school) = 1                   5 : 2      =     16.0 : 1.0\n",
        "                has(web) = 1                   2 : 6      =     15.9 : 1.0\n",
        "               has(cold) = 1                   6 : 3      =     15.7 : 1.0\n",
        "               has(math) = 1                   7 : 1      =     15.6 : 1.0\n",
        "       has(smok(es|ing)) = 1                   6 : 1      =     14.3 : 1.0\n",
        "              has(grade) = 1                   5 : 1      =     13.6 : 1.0\n",
        "               has(moon) = 1                   7 : 1      =     13.5 : 1.0\n",
        "            has(windows) = 1                   2 : 5      =     12.8 : 1.0\n",
        "            has(episode) = 1                   3 : 1      =     12.0 : 1.0\n",
        "           has(magazine) = 1                   3 : 1      =     12.0 : 1.0\n",
        "            has(english) = 1                   5 : 2      =     11.8 : 1.0\n",
        "              has(teach) = 1                   5 : 2      =     11.8 : 1.0\n",
        "            has(science) = 1                   7 : 1      =     11.4 : 1.0\n",
        "             has(weight) = 1                   6 : 1      =     11.2 : 1.0\n",
        "           has(wireless) = 1                   2 : 1      =     10.7 : 1.0\n",
        "              has(women) = 1                   4 : 5      =     10.6 : 1.0\n",
        "               has(wife) = 1                   4 : 1      =     10.2 : 1.0\n",
        "             has(health) = 1                   6 : 1      =      9.9 : 1.0\n",
        "              has(earth) = 1                   7 : 4      =      9.9 : 1.0\n",
        "             has(riddle) = 1                   3 : 1      =      9.5 : 1.0\n",
        "            has(spanish) = 1                   5 : 1      =      9.4 : 1.0\n",
        "               has(show) = 1                   3 : 6      =      9.4 : 1.0\n",
        "               has(date) = 1                   4 : 3      =      9.1 : 1.0\n",
        "            has(e-?mail) = 1                   2 : 3      =      8.8 : 1.0\n",
        "           has(download) = 1                   2 : 1      =      8.5 : 1.0\n",
        "               has(cure) = 1                   6 : 2      =      8.5 : 1.0\n",
        "              has(point) = 1                   7 : 3      =      8.2 : 1.0\n",
        "             has(educat) = 1                   5 : 1      =      8.2 : 1.0\n",
        "           has(favorite) = 1                   3 : 1      =      8.1 : 1.0\n",
        "               has(comp) = 1                   2 : 4      =      7.6 : 1.0\n",
        "            has(website) = 1                   2 : 7      =      7.4 : 1.0\n",
        "            has(history) = 1                   5 : 3      =      7.2 : 1.0\n",
        "             has(theory) = 1                   7 : 3      =      7.1 : 1.0\n",
        "           has(universe) = 1                   7 : 3      =      7.1 : 1.0\n",
        "             has(planet) = 1                   7 : 2      =      6.7 : 1.0\n",
        "             has(family) = 1                   4 : 1      =      6.6 : 1.0\n",
        "              has(penis) = 1                   6 : 3      =      6.4 : 1.0\n",
        "              has(money) = 1                   1 : 7      =      6.3 : 1.0\n",
        "          has(treatment) = 1                   6 : 7      =      6.0 : 1.0\n",
        "             has(credit) = 1                   1 : 3      =      5.8 : 1.0\n",
        "               has(body) = 1                   6 : 7      =      5.7 : 1.0\n",
        "           has(business) = 1                   1 : 4      =      5.3 : 1.0\n",
        "               has(word) = 1                   5 : 1      =      5.1 : 1.0\n",
        "               has(book) = 1                   5 : 3      =      5.0 : 1.0\n",
        "            has(cartoon) = 1                   3 : 1      =      4.9 : 1.0\n",
        "               has(diet) = 1                   6 : 7      =      4.6 : 1.0\n",
        "               has(exam) = 1                   2 : 1      =      4.4 : 1.0\n",
        "              has(stars) = 1                   7 : 2      =      4.3 : 1.0\n",
        "            has(husband) = 1                   4 : 1      =      4.2 : 1.0\n",
        "              has(first) = 1                   3 : 1      =      4.1 : 1.0\n",
        "       has(act(or|ress)) = 1                   3 : 1      =      4.0 : 1.0\n",
        "             has(dating) = 1                   4 : 3      =      4.0 : 1.0\n",
        "              has(world) = 1                   7 : 6      =      4.0 : 1.0\n",
        "      has(\\d+(mb|kb|gb)) = 1                   2 : 3      =      3.9 : 1.0\n",
        "               has(atom) = 1                   7 : 3      =      3.8 : 1.0\n",
        "      has(\\d+[/*^+-]\\d+) = 1                   2 : 4      =      3.8 : 1.0\n",
        "             has(series) = 1                   3 : 2      =      3.8 : 1.0\n",
        "              has(learn) = 1                   5 : 1      =      3.6 : 1.0\n",
        "             has(singer) = 1                   3 : 5      =      3.4 : 1.0\n",
        "               has(sell) = 1                   1 : 6      =      3.3 : 1.0\n",
        "      has(roman(ce|tic)) = 1                   4 : 3      =      2.6 : 1.0\n",
        "            has(itching) = 1                   6 : 4      =      2.5 : 1.0\n",
        "               has(acne) = 1                   6 : 4      =      2.5 : 1.0\n",
        "collocatorhas('united', 'states') = 1                   1 : 3      =      2.3 : 1.0\n",
        "               has(html) = 1                   2 : 3      =      2.0 : 1.0\n",
        "               has(love) = 0                   7 : 4      =      1.2 : 1.0\n",
        "               has(girl) = 0                   2 : 4      =      1.2 : 1.0\n",
        "               has(comp) = 0                   4 : 2      =      1.2 : 1.0\n",
        "   has((boy|girl)friend) = 0                   2 : 4      =      1.1 : 1.0\n",
        "            has( friend) = 0                   7 : 4      =      1.1 : 1.0\n",
        "                has(boy) = 0                   2 : 4      =      1.1 : 1.0\n",
        "                has(sex) = 0                   7 : 4      =      1.1 : 1.0\n",
        "                has(web) = 0                   6 : 2      =      1.1 : 1.0\n",
        "              has(movie) = 0                   5 : 3      =      1.1 : 1.0\n",
        "               has(song) = 0                   1 : 3      =      1.1 : 1.0\n",
        "             has(school) = 0                   1 : 5      =      1.1 : 1.0\n",
        "       has(relationship) = 0                   1 : 4      =      1.1 : 1.0\n",
        "            has(windows) = 0                   1 : 2      =      1.1 : 1.0\n",
        "              has(marri) = 0                   2 : 4      =      1.1 : 1.0\n",
        "            has(college) = 0                   3 : 5      =      1.1 : 1.0\n",
        "           has(internet) = 0                   7 : 2      =      1.1 : 1.0\n",
        "               has(pain) = 0                   3 : 6      =      1.1 : 1.0\n",
        "              has(women) = 0                   2 : 4      =      1.1 : 1.0\n",
        "               has(word) = 0                   4 : 5      =      1.1 : 1.0\n",
        "              has(medic) = 0                   2 : 6      =      1.1 : 1.0\n",
        "            has(program) = 0                   4 : 2      =      1.1 : 1.0\n",
        "              has(music) = 0                   1 : 3      =      1.1 : 1.0\n",
        "               has(cold) = 0                   2 : 6      =      1.1 : 1.0\n",
        "               has(show) = 0                   7 : 3      =      1.1 : 1.0\n",
        "           has(favorite) = 0                   4 : 3      =      1.1 : 1.0\n",
        "               has(date) = 0                   7 : 4      =      1.1 : 1.0\n",
        "           has(software) = 0                   4 : 2      =      1.1 : 1.0\n",
        "            has(e-?mail) = 0                   7 : 2      =      1.1 : 1.0\n",
        "               has(body) = 0                   7 : 6      =      1.1 : 1.0\n",
        "           has(download) = 0                   4 : 2      =      1.1 : 1.0\n",
        "              has(first) = 0                   1 : 3      =      1.0 : 1.0\n",
        "              has(world) = 0                   2 : 7      =      1.0 : 1.0\n",
        "              has(earth) = 0                   3 : 7      =      1.0 : 1.0\n",
        "              has(teach) = 0                   3 : 5      =      1.0 : 1.0\n",
        "            has(website) = 0                   7 : 2      =      1.0 : 1.0\n",
        "          has(treatment) = 0                   1 : 6      =      1.0 : 1.0\n",
        "            has(english) = 0                   6 : 5      =      1.0 : 1.0\n",
        "             has(weight) = 0                   2 : 6      =      1.0 : 1.0\n",
        "               has(rock) = 0                   2 : 3      =      1.0 : 1.0\n",
        "              has(study) = 0                   2 : 5      =      1.0 : 1.0\n",
        "            has(surgery) = 0                   1 : 6      =      1.0 : 1.0\n",
        "               has(wife) = 0                   2 : 4      =      1.0 : 1.0\n",
        "              has(blood) = 0                   2 : 6      =      1.0 : 1.0\n",
        "             has(health) = 0                   2 : 6      =      1.0 : 1.0\n",
        "              has(money) = 0                   3 : 1      =      1.0 : 1.0\n",
        "              has(linux) = 0                   1 : 2      =      1.0 : 1.0\n",
        "               has(math) = 0                   2 : 7      =      1.0 : 1.0\n",
        "              has(learn) = 0                   4 : 5      =      1.0 : 1.0\n",
        "               has(book) = 0                   4 : 5      =      1.0 : 1.0\n",
        "              has(point) = 0                   4 : 7      =      1.0 : 1.0\n",
        "             has(laptop) = 0                   1 : 2      =      1.0 : 1.0\n",
        "             has(family) = 0                   2 : 4      =      1.0 : 1.0\n",
        "            has(husband) = 0                   2 : 4      =      1.0 : 1.0\n",
        "               has(diet) = 0                   1 : 6      =      1.0 : 1.0\n",
        "           has(symptoms) = 0                   1 : 6      =      1.0 : 1.0\n",
        "       has(smok(es|ing)) = 0                   2 : 6      =      1.0 : 1.0\n",
        "               has(cure) = 0                   3 : 6      =      1.0 : 1.0\n",
        "           has(universe) = 0                   1 : 7      =      1.0 : 1.0\n",
        "             has(theory) = 0                   1 : 7      =      1.0 : 1.0\n",
        "             has(educat) = 0                   2 : 5      =      1.0 : 1.0\n",
        "              has(grade) = 0                   3 : 5      =      1.0 : 1.0\n",
        "               has(moon) = 0                   1 : 7      =      1.0 : 1.0\n",
        "            has(history) = 0                   7 : 5      =      1.0 : 1.0\n",
        "             has(dating) = 0                   1 : 4      =      1.0 : 1.0\n",
        "              has(penis) = 0                   1 : 6      =      1.0 : 1.0\n",
        "             has(planet) = 0                   1 : 7      =      1.0 : 1.0\n",
        "           has(magazine) = 0                   2 : 3      =      1.0 : 1.0\n",
        "            has(episode) = 0                   2 : 3      =      1.0 : 1.0\n",
        "            has(science) = 0                   3 : 7      =      1.0 : 1.0\n",
        "           has(business) = 0                   3 : 1      =      1.0 : 1.0\n",
        "              has(lyric) = 0                   1 : 3      =      1.0 : 1.0\n",
        "             has(singer) = 0                   1 : 3      =      1.0 : 1.0\n",
        "             has(series) = 0                   1 : 3      =      1.0 : 1.0\n",
        "       has(act(or|ress)) = 0                   5 : 3      =      1.0 : 1.0\n",
        "              has(teeth) = 0                   1 : 6      =      1.0 : 1.0\n",
        "             has(credit) = 0                   2 : 1      =      1.0 : 1.0\n",
        "           has(wireless) = 0                   3 : 2      =      1.0 : 1.0\n",
        "               has(sell) = 0                   4 : 1      =      1.0 : 1.0\n",
        "         has(university) = 0                   1 : 5      =      1.0 : 1.0\n",
        "            has(spanish) = 0                   2 : 5      =      1.0 : 1.0\n",
        "             has(riddle) = 0                   2 : 3      =      1.0 : 1.0\n",
        "      has(roman(ce|tic)) = 0                   1 : 4      =      1.0 : 1.0\n",
        "            has(cartoon) = 0                   2 : 3      =      1.0 : 1.0\n",
        "              has(stars) = 0                   1 : 7      =      1.0 : 1.0\n",
        "               has(atom) = 0                   1 : 7      =      1.0 : 1.0\n",
        "      has(\\d+(mb|kb|gb)) = 0                   1 : 2      =      1.0 : 1.0\n",
        "               has(exam) = 0                   1 : 7      =      1.0 : 1.0\n",
        "      has(\\d+[/*^+-]\\d+) = 0                   4 : 2      =      1.0 : 1.0\n",
        "               has(html) = 0                   1 : 2      =      1.0 : 1.0\n",
        "              has(vomit) = 0                   1 : 6      =      1.0 : 1.0\n",
        "            has(itching) = 0                   1 : 6      =      1.0 : 1.0\n",
        "               has(acne) = 0                   1 : 6      =      1.0 : 1.0\n",
        "              has(\\d+mg) = 0                   1 : 6      =      1.0 : 1.0\n",
        "collocatorhas('united', 'states') = 0                   2 : 1      =      1.0 : 1.0\n",
        "               has(smtp) = 0                   1 : 2      =      1.0 : 1.0\n",
        "           has(materbat) = 0                   1 : 6      =      1.0 : 1.0\n",
        "          has(jokealbum) = 0                   1 : 6      =      1.0 : 1.0\n"
       ]
      }
     ],
     "prompt_number": 42
    },
    {
     "cell_type": "code",
     "collapsed": false,
     "input": [
      "submission = util.make_submission(cl, final_features, writeto=\"submission19CLN.csv\")"
     ],
     "language": "python",
     "metadata": {},
     "outputs": [],
     "prompt_number": 43
    }
   ],
   "metadata": {}
  }
 ]
}