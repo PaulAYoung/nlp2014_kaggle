{
 "metadata": {
  "name": "",
  "signature": "sha256:e93409b670c8d1a9d2e4e20dfc6a85d1dee7b0ef386986c938464b3f381ea741"
 },
 "nbformat": 3,
 "nbformat_minor": 0,
 "worksheets": [
  {
   "cells": [
    {
     "cell_type": "code",
     "collapsed": false,
     "input": [
      "import re\n",
      "import random\n",
      "from os import path\n",
      "\n",
      "import nltk\n",
      "\n",
      "import testing_util as util\n",
      "import term_scoring\n",
      "from testing_util import sample_sets, final_sets"
     ],
     "language": "python",
     "metadata": {},
     "outputs": [],
     "prompt_number": 1
    },
    {
     "cell_type": "code",
     "collapsed": false,
     "input": [
      "from nltk.classify import SklearnClassifier\n",
      "from sklearn.svm import SVC"
     ],
     "language": "python",
     "metadata": {},
     "outputs": [],
     "prompt_number": 9
    },
    {
     "cell_type": "code",
     "collapsed": false,
     "input": [
      "from nltk.classify import SklearnClassifier\n",
      "from sklearn.svm import SVC"
     ],
     "language": "python",
     "metadata": {},
     "outputs": [],
     "prompt_number": 2
    },
    {
     "cell_type": "code",
     "collapsed": false,
     "input": [
      "def feature_num_tokens(text):\n",
      "    return {\"num_tokens\": len(nltk.word_tokenize(text))/10}"
     ],
     "language": "python",
     "metadata": {},
     "outputs": [],
     "prompt_number": 3
    },
    {
     "cell_type": "code",
     "collapsed": false,
     "input": [
      "def feature_avg_len_word(text):\n",
      "    tokens = nltk.word_tokenize(text)\n",
      "    return {\"word_len\": sum([len(w) for w in tokens])/len(tokens)}"
     ],
     "language": "python",
     "metadata": {},
     "outputs": [],
     "prompt_number": 4
    },
    {
     "cell_type": "code",
     "collapsed": false,
     "input": [
      "def make_term_counter(key, terms):\n",
      "    reg = re.compile(\"|\".join(terms), re.IGNORECASE)\n",
      "    def counter(text):\n",
      "        return {key: len(reg.findall(text))}\n",
      "    return counter"
     ],
     "language": "python",
     "metadata": {},
     "outputs": [],
     "prompt_number": 35
    },
    {
     "cell_type": "code",
     "collapsed": false,
     "input": [
      "biz_fin_terms=[\n",
      "\"money\",\n",
      "\"credit\",\n",
      "\"business\",\n",
      "\"work\",\n",
      "\"business\"\n",
      "]"
     ],
     "language": "python",
     "metadata": {},
     "outputs": [],
     "prompt_number": 42
    },
    {
     "cell_type": "code",
     "collapsed": false,
     "input": [
      "computer_terms = [\n",
      "\"comput\",\n",
      "\"software\",\n",
      "\"email\",\n",
      "\"e-mail\",\n",
      "\"linux\",\n",
      "\"windows\",\n",
      "\"laptop\",\n",
      "\"mb\",\n",
      "\"byte\",\n",
      "\"kb\",\n",
      "\"gb\"\n",
      "]"
     ],
     "language": "python",
     "metadata": {},
     "outputs": [],
     "prompt_number": 43
    },
    {
     "cell_type": "code",
     "collapsed": false,
     "input": [
      "entertainment_terms=[\n",
      "\"movie\",\n",
      "\"show\",\n",
      "\"episode\",\n",
      "\"album\",\n",
      "\"actor\",\n",
      "\"actress\",\n",
      "\"lyrics\",\n",
      "\"series\",\n",
      "\"star\",\n",
      "\"album\",\n",
      "]"
     ],
     "language": "python",
     "metadata": {},
     "outputs": [],
     "prompt_number": 44
    },
    {
     "cell_type": "code",
     "collapsed": false,
     "input": [
      "biz_fin = make_term_counter(\"bizfin\", biz_fin_terms)\n",
      "computers = make_term_counter(\"computers\", computer_terms)\n",
      "entertainment = make_term_counter(\"entertainment\", entertainment_terms)\n"
     ],
     "language": "python",
     "metadata": {},
     "outputs": [],
     "prompt_number": 45
    },
    {
     "cell_type": "code",
     "collapsed": false,
     "input": [
      "extractor = util.FeatureExtractor()\n",
      "extractor.add_extractor(biz_fin)\n",
      "extractor.add_extractor(computers)\n",
      "extractor.add_extractor(entertainment)"
     ],
     "language": "python",
     "metadata": {},
     "outputs": [],
     "prompt_number": 46
    },
    {
     "cell_type": "code",
     "collapsed": false,
     "input": [
      "#classifier = nltk.classify.NaiveBayesClassifier\n",
      "classifier = SklearnClassifier(SVC(), sparse=False)"
     ],
     "language": "python",
     "metadata": {},
     "outputs": [],
     "prompt_number": 38
    },
    {
     "cell_type": "code",
     "collapsed": false,
     "input": [
      "extractor.test(sample_sets, folds=3,confusion=True, classifier=classifier, num_tests=1)"
     ],
     "language": "python",
     "metadata": {},
     "outputs": [
      {
       "output_type": "stream",
       "stream": "stdout",
       "text": [
        "**************************\n",
        "Run 0\n",
        "**************************\n",
        "test 0 - 33.704%"
       ]
      },
      {
       "output_type": "stream",
       "stream": "stdout",
       "text": [
        "\n",
        "  |      1      2      3      4      7      5      6 |\n",
        "--+--------------------------------------------------+\n",
        "1 | <25.1%>  1.8%   0.6%      .      .      .      . |\n",
        "2 |  11.8%  <4.9%>  0.4%      .      .      .      . |\n",
        "3 |  10.7%   1.2%  <3.7%>     .      .      .      . |\n",
        "4 |  12.7%   0.2%   0.1%     <.>     .      .      . |\n",
        "7 |  10.7%   0.4%   0.3%      .     <.>     .      . |\n",
        "5 |   7.2%   0.9%      .      .      .     <.>     . |\n",
        "6 |   7.1%   0.1%      .      .      .      .     <.>|\n",
        "--+--------------------------------------------------+\n",
        "(row = reference; col = test)\n"
       ]
      },
      {
       "output_type": "stream",
       "stream": "stdout",
       "text": [
        "\n",
        "test 1 - 37.820%"
       ]
      },
      {
       "output_type": "stream",
       "stream": "stdout",
       "text": [
        "\n",
        "  |      1      2      3      4      6      5      7 |\n",
        "--+--------------------------------------------------+\n",
        "1 | <28.7%>  1.8%   0.2%      .      .      .      . |\n",
        "2 |  11.0%  <6.5%>  0.2%      .      .      .      . |\n",
        "3 |  12.3%   0.4%  <2.7%>     .      .      .      . |\n",
        "4 |  10.6%   0.2%   0.1%     <.>     .      .      . |\n",
        "6 |   8.9%   0.2%   0.1%      .     <.>     .      . |\n",
        "5 |   7.7%   0.7%   0.1%      .      .     <.>     . |\n",
        "7 |   6.9%   0.7%      .      .      .      .     <.>|\n",
        "--+--------------------------------------------------+\n",
        "(row = reference; col = test)\n"
       ]
      },
      {
       "output_type": "stream",
       "stream": "stdout",
       "text": [
        "\n",
        "test 2 - 33.889%"
       ]
      },
      {
       "output_type": "stream",
       "stream": "stdout",
       "text": [
        "\n",
        "  |      1      2      4      3      5      6      7 |\n",
        "--+--------------------------------------------------+\n",
        "1 | <25.0%>  1.8%      .   0.6%      .      .      . |\n",
        "2 |   9.9%  <5.4%>     .   0.3%      .      .      . |\n",
        "4 |  14.0%   0.6%     <.>  0.1%      .      .      . |\n",
        "3 |  10.4%   0.2%      .  <3.4%>     .      .      . |\n",
        "5 |  10.2%   0.3%      .      .     <.>     .      . |\n",
        "6 |   9.1%   0.2%      .      .      .     <.>     . |\n",
        "7 |   7.9%   0.3%      .   0.1%      .      .     <.>|\n",
        "--+--------------------------------------------------+\n",
        "(row = reference; col = test)\n"
       ]
      },
      {
       "output_type": "stream",
       "stream": "stdout",
       "text": [
        "\n"
       ]
      }
     ],
     "prompt_number": 47
    },
    {
     "cell_type": "code",
     "collapsed": false,
     "input": [
      "final_features = util.make_feature(extractor, final_sets)"
     ],
     "language": "python",
     "metadata": {},
     "outputs": [],
     "prompt_number": 11
    },
    {
     "cell_type": "code",
     "collapsed": false,
     "input": [
      "cl=extractor.get_classifier(sample_sets, classifier=classifier)"
     ],
     "language": "python",
     "metadata": {},
     "outputs": [],
     "prompt_number": 12
    },
    {
     "cell_type": "code",
     "collapsed": false,
     "input": [
      "cl.show_most_informative_features()"
     ],
     "language": "python",
     "metadata": {},
     "outputs": [
      {
       "output_type": "stream",
       "stream": "stdout",
       "text": [
        "Most Informative Features\n",
        "               TermScore = '4'                 4 : 2      =    131.8 : 1.0\n",
        "               TermScore = '3'                 3 : 6      =     85.8 : 1.0\n",
        "               TermScore = '6'                 6 : 2      =     78.8 : 1.0\n",
        "               TermScore = '7'                 7 : 3      =     65.1 : 1.0\n",
        "               TermScore = '5'                 5 : 2      =     37.3 : 1.0\n",
        "               TermScore = '2'                 2 : 4      =     23.7 : 1.0\n",
        "              num_tokens = 12                  4 : 1      =      6.5 : 1.0\n",
        "              num_tokens = 10                  2 : 1      =      6.1 : 1.0\n",
        "              num_tokens = 4                   2 : 7      =      5.4 : 1.0\n",
        "              num_tokens = 14                  6 : 1      =      5.3 : 1.0\n"
       ]
      }
     ],
     "prompt_number": 13
    },
    {
     "cell_type": "code",
     "collapsed": false,
     "input": [
      "submission = util.make_submission(cl, final_features, writeto=\"submission6.csv\")"
     ],
     "language": "python",
     "metadata": {},
     "outputs": [],
     "prompt_number": 14
    }
   ],
   "metadata": {}
  }
 ]
}