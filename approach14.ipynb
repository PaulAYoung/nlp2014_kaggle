{
 "metadata": {
  "name": "",
  "signature": "sha256:8e8765a358432c7408e4f35462ad1c98ae4dc53ab1b8e61bc7a2e98b0a2d1658"
 },
 "nbformat": 3,
 "nbformat_minor": 0,
 "worksheets": [
  {
   "cells": [
    {
     "cell_type": "code",
     "collapsed": false,
     "input": [
      "import re\n",
      "import random\n",
      "from os import path\n",
      "\n",
      "import nltk\n",
      "\n",
      "import testing_util as util\n",
      "import term_scoring\n",
      "from testing_util import sample_sets, final_sets\n",
      "\n",
      "import tfidf_class"
     ],
     "language": "python",
     "metadata": {},
     "outputs": [],
     "prompt_number": 1
    },
    {
     "cell_type": "code",
     "collapsed": false,
     "input": [
      "def feature_num_tokens(text):\n",
      "    return {\"num_tokens\": len(nltk.word_tokenize(text))/10}"
     ],
     "language": "python",
     "metadata": {},
     "outputs": [],
     "prompt_number": 2
    },
    {
     "cell_type": "code",
     "collapsed": false,
     "input": [
      "def feature_avg_len_word(text):\n",
      "    tokens = nltk.word_tokenize(text)\n",
      "    return {\"word_len\": sum([len(w) for w in tokens])/len(tokens)}"
     ],
     "language": "python",
     "metadata": {},
     "outputs": [],
     "prompt_number": 3
    },
    {
     "cell_type": "code",
     "collapsed": false,
     "input": [
      "stopwords = nltk.corpus.stopwords.words('english')\n",
      "stemmer = nltk.PorterStemmer()\n",
      "\n",
      "def get_terms(t):\n",
      "    \"\"\"\n",
      "    This is used to get the relevant items out of text. \n",
      "    \"\"\"\n",
      "    tokens = nltk.word_tokenize(t)\n",
      "    return [stemmer.stem(w.lower()) for w in tokens if len(w)>3 and (w not in stopwords)]"
     ],
     "language": "python",
     "metadata": {},
     "outputs": [],
     "prompt_number": 4
    },
    {
     "cell_type": "code",
     "collapsed": false,
     "input": [
      "def category_term_scorer(sample_list):\n",
      "    \"\"\"\n",
      "    takes a list of tuples in format (category,text) and creates scores for each term\n",
      "    for its relevance to each category\n",
      "    \"\"\"\n",
      "    \n",
      "    categories = [str(x) for x in range(1,8)]\n",
      "    idfs = tfidf_class.get_cat_idfs(sample_list, get_terms, categories)\n",
      "    terms = set([t for s in sample_list for t in get_terms(s[1])])\n",
      "    \n",
      "    scores={}\n",
      "    for t in terms:\n",
      "        t_score = {}\n",
      "        for c in categories:\n",
      "            if t in idfs[c]:\n",
      "                t_score[c] = idfs[c][t][1]\n",
      "            else:\n",
      "                others = [cat[t][1] for cat in idfs if t in cat]\n",
      "                t_score[c] = -(sum(others)/(len(others)+1))\n",
      "        scores[t]=t_score\n",
      "    \n",
      "    return scores"
     ],
     "language": "python",
     "metadata": {},
     "outputs": [],
     "prompt_number": 5
    },
    {
     "cell_type": "code",
     "collapsed": false,
     "input": [
      "feature_term_score = term_scoring.TermScoreClassiffier(scorer=category_term_scorer)"
     ],
     "language": "python",
     "metadata": {},
     "outputs": [],
     "prompt_number": 6
    },
    {
     "cell_type": "code",
     "collapsed": false,
     "input": [
      "tfidf_checker = tfidf_class.TfidfRater(get_terms, nterms=100)"
     ],
     "language": "python",
     "metadata": {},
     "outputs": [],
     "prompt_number": 7
    },
    {
     "cell_type": "code",
     "collapsed": false,
     "input": [
      "extractor = util.FeatureExtractor()\n",
      "extractor.add_extractor(feature_num_tokens)\n",
      "extractor.add_extractor(feature_avg_len_word)\n",
      "extractor.add_extractor(feature_term_score, trained=True)\n",
      "extractor.add_extractor(tfidf_checker, trained=True)"
     ],
     "language": "python",
     "metadata": {},
     "outputs": [],
     "prompt_number": 8
    },
    {
     "cell_type": "code",
     "collapsed": false,
     "input": [
      "extractor.test(sample_sets, folds=10, confusion=True, classifier=nltk.classify.NaiveBayesClassifier)"
     ],
     "language": "python",
     "metadata": {},
     "outputs": [
      {
       "output_type": "stream",
       "stream": "stdout",
       "text": [
        "**************************\n",
        "Run 0\n",
        "**************************\n",
        "test 0 - 69.145%"
       ]
      },
      {
       "output_type": "stream",
       "stream": "stdout",
       "text": [
        "\n",
        "  |      1      2      3      4      6      7      5 |\n",
        "--+--------------------------------------------------+\n",
        "1 | <23.8%>  0.7%   0.4%   1.5%      .      .      . |\n",
        "2 |   7.4% <13.4%>  0.7%      .      .      .      . |\n",
        "3 |   3.0%   0.7% <10.8%>     .      .   0.7%      . |\n",
        "4 |   3.7%      .   0.7%  <6.7%>     .      .      . |\n",
        "6 |   3.7%      .      .   0.4%  <5.6%>  1.1%      . |\n",
        "7 |   3.0%      .   0.4%      .      .  <5.2%>     . |\n",
        "5 |   1.9%      .   0.7%      .      .      .  <3.7%>|\n",
        "--+--------------------------------------------------+\n",
        "(row = reference; col = test)\n"
       ]
      },
      {
       "output_type": "stream",
       "stream": "stdout",
       "text": [
        "\n",
        "test 1 - 72.119%"
       ]
      },
      {
       "output_type": "stream",
       "stream": "stdout",
       "text": [
        "\n",
        "  |      1      2      4      3      5      7      6 |\n",
        "--+--------------------------------------------------+\n",
        "1 | <25.3%>  0.7%   0.4%   0.4%   0.7%      .      . |\n",
        "2 |   5.6% <14.9%>     .      .      .   0.4%      . |\n",
        "4 |   3.0%      .  <8.2%>  0.7%      .   0.4%      . |\n",
        "3 |   3.0%   0.7%   0.4%  <7.4%>     .      .      . |\n",
        "5 |   3.3%   0.4%      .   0.4%  <5.6%>  0.4%      . |\n",
        "7 |   3.0%   0.4%      .   1.9%      .  <4.5%>  0.4% |\n",
        "6 |   1.1%      .   0.4%      .      .      .  <6.3%>|\n",
        "--+--------------------------------------------------+\n",
        "(row = reference; col = test)\n"
       ]
      },
      {
       "output_type": "stream",
       "stream": "stdout",
       "text": [
        "\n",
        "test 2 - 69.888%"
       ]
      },
      {
       "output_type": "stream",
       "stream": "stdout",
       "text": [
        "\n",
        "  |      1      3      2      4      5      6      7 |\n",
        "--+--------------------------------------------------+\n",
        "1 | <28.3%>  0.7%   1.9%   0.4%      .      .      . |\n",
        "3 |   3.7% <10.4%>  0.4%   0.7%   0.4%      .      . |\n",
        "2 |   5.2%      .  <9.7%>     .      .      .      . |\n",
        "4 |   2.6%   0.4%      .  <7.8%>     .      .      . |\n",
        "5 |   5.2%      .      .      .  <3.7%>     .   0.7% |\n",
        "6 |   3.3%   0.4%      .      .      .  <5.6%>     . |\n",
        "7 |   3.7%      .      .      .   0.4%      .  <4.5%>|\n",
        "--+--------------------------------------------------+\n",
        "(row = reference; col = test)\n"
       ]
      },
      {
       "output_type": "stream",
       "stream": "stdout",
       "text": [
        "\n",
        "test 3 - 71.375%"
       ]
      },
      {
       "output_type": "stream",
       "stream": "stdout",
       "text": [
        "\n",
        "  |      1      2      3      4      7      6      5 |\n",
        "--+--------------------------------------------------+\n",
        "1 | <25.3%>  1.5%   1.1%   1.9%      .      .   0.4% |\n",
        "2 |   5.2% <11.5%>     .      .      .      .      . |\n",
        "3 |   1.9%      . <11.5%>  0.4%      .      .   0.4% |\n",
        "4 |   3.3%      .   0.4%  <9.3%>  0.4%      .      . |\n",
        "7 |   4.8%      .   0.7%      .  <4.5%>     .      . |\n",
        "6 |   3.3%      .      .      .   0.4%  <5.2%>     . |\n",
        "5 |   2.2%      .   0.4%      .      .      .  <4.1%>|\n",
        "--+--------------------------------------------------+\n",
        "(row = reference; col = test)\n"
       ]
      },
      {
       "output_type": "stream",
       "stream": "stdout",
       "text": [
        "\n",
        "test 4 - 68.030%"
       ]
      },
      {
       "output_type": "stream",
       "stream": "stdout",
       "text": [
        "\n",
        "  |      1      2      4      3      5      7      6 |\n",
        "--+--------------------------------------------------+\n",
        "1 | <24.2%>  1.9%   0.7%      .      .      .      . |\n",
        "2 |   5.6% <10.8%>     .   0.4%      .      .   0.4% |\n",
        "4 |   4.8%   0.4% <10.0%>  1.1%      .   0.4%      . |\n",
        "3 |   4.5%      .   1.1%  <7.4%>     .   0.4%      . |\n",
        "5 |   4.1%      .      .   0.7%  <7.8%>     .      . |\n",
        "7 |   3.0%      .      .   0.7%      .  <4.1%>     . |\n",
        "6 |   0.4%      .   0.7%   0.4%      .   0.4%  <3.7%>|\n",
        "--+--------------------------------------------------+\n",
        "(row = reference; col = test)\n"
       ]
      },
      {
       "output_type": "stream",
       "stream": "stdout",
       "text": [
        "\n",
        "test 5 - 68.773%"
       ]
      },
      {
       "output_type": "stream",
       "stream": "stdout",
       "text": [
        "\n",
        "  |      1      3      2      4      7      6      5 |\n",
        "--+--------------------------------------------------+\n",
        "1 | <23.4%>  0.7%   1.9%      .      .      .      . |\n",
        "3 |   5.2%  <8.2%>  1.1%   1.1%      .      .      . |\n",
        "2 |   3.3%      . <11.5%>     .      .      .   0.4% |\n",
        "4 |   4.5%      .      . <10.0%>     .      .      . |\n",
        "7 |   5.2%      .      .      .  <5.2%>     .   0.4% |\n",
        "6 |   3.7%   0.7%      .      .      .  <5.6%>     . |\n",
        "5 |   2.6%      .   0.4%      .      .      .  <4.8%>|\n",
        "--+--------------------------------------------------+\n",
        "(row = reference; col = test)\n"
       ]
      },
      {
       "output_type": "stream",
       "stream": "stdout",
       "text": [
        "\n",
        "test 6 - 68.773%"
       ]
      },
      {
       "output_type": "stream",
       "stream": "stdout",
       "text": [
        "\n",
        "  |      1      3      4      2      5      7      6 |\n",
        "--+--------------------------------------------------+\n",
        "1 | <26.4%>  1.1%   0.7%   0.7%   0.7%   0.7%      . |\n",
        "3 |   5.2%  <8.9%>     .   0.7%      .      .      . |\n",
        "4 |   3.0%   0.4% <10.4%>     .      .      .      . |\n",
        "2 |   4.5%   0.4%      .  <8.6%>     .      .      . |\n",
        "5 |   3.3%   0.7%      .   0.7%  <5.2%>     .      . |\n",
        "7 |   4.5%   0.4%      .      .      .  <4.1%>     . |\n",
        "6 |   3.3%      .      .      .      .      .  <5.2%>|\n",
        "--+--------------------------------------------------+\n",
        "(row = reference; col = test)\n"
       ]
      },
      {
       "output_type": "stream",
       "stream": "stdout",
       "text": [
        "\n",
        "test 7 - 69.145%"
       ]
      },
      {
       "output_type": "stream",
       "stream": "stdout",
       "text": [
        "\n",
        "  |      1      2      3      4      5      7      6 |\n",
        "--+--------------------------------------------------+\n",
        "1 | <24.9%>     .   0.4%   1.1%   0.4%      .      . |\n",
        "2 |   7.1%  <9.7%>  0.4%      .      .      .      . |\n",
        "3 |   5.6%   0.4% <10.8%>  0.4%      .      .      . |\n",
        "4 |   2.2%      .   0.4% <10.0%>     .      .   0.4% |\n",
        "5 |   5.2%      .   0.7%      .  <4.8%>  0.7%      . |\n",
        "7 |   3.7%      .      .      .      .  <4.5%>     . |\n",
        "6 |   1.5%      .   0.4%      .      .      .  <4.5%>|\n",
        "--+--------------------------------------------------+\n",
        "(row = reference; col = test)\n"
       ]
      },
      {
       "output_type": "stream",
       "stream": "stdout",
       "text": [
        "\n",
        "test 8 - 70.632%"
       ]
      },
      {
       "output_type": "stream",
       "stream": "stdout",
       "text": [
        "\n",
        "  |      1      2      3      4      5      6      7 |\n",
        "--+--------------------------------------------------+\n",
        "1 | <29.4%>  1.1%   0.7%   1.1%   0.4%   0.4%      . |\n",
        "2 |   5.2% <11.2%>     .      .      .      .      . |\n",
        "3 |   4.8%      . <10.4%>     .   0.4%   0.4%   0.4% |\n",
        "4 |   2.2%   0.4%   0.4%  <7.4%>     .      .      . |\n",
        "5 |   3.3%      .   0.7%      .  <4.5%>     .   0.4% |\n",
        "6 |   3.3%   0.4%      .   0.7%      .  <4.1%>     . |\n",
        "7 |   1.5%      .   0.7%      .   0.4%      .  <3.7%>|\n",
        "--+--------------------------------------------------+\n",
        "(row = reference; col = test)\n"
       ]
      },
      {
       "output_type": "stream",
       "stream": "stdout",
       "text": [
        "\n",
        "test 9 - 64.621%"
       ]
      },
      {
       "output_type": "stream",
       "stream": "stdout",
       "text": [
        "\n",
        "  |      1      3      2      4      7      6      5 |\n",
        "--+--------------------------------------------------+\n",
        "1 | <23.8%>  1.4%   1.1%   0.4%      .      .      . |\n",
        "3 |   6.5%  <8.7%>  0.4%   0.4%   0.4%      .   0.4% |\n",
        "2 |   6.5%   0.7%  <7.6%>     .      .      .   0.4% |\n",
        "4 |   2.9%      .      .  <9.7%>     .      .      . |\n",
        "7 |   5.4%   0.7%      .      .  <5.4%>     .   0.4% |\n",
        "6 |   2.5%      .   0.4%   0.7%   0.4%  <5.8%>  0.4% |\n",
        "5 |   1.8%   0.4%   0.7%      .   0.4%      .  <3.6%>|\n",
        "--+--------------------------------------------------+\n",
        "(row = reference; col = test)\n"
       ]
      },
      {
       "output_type": "stream",
       "stream": "stdout",
       "text": [
        "\n"
       ]
      }
     ],
     "prompt_number": 9
    },
    {
     "cell_type": "code",
     "collapsed": false,
     "input": [
      "cl = extractor.get_classifier(sample_sets)"
     ],
     "language": "python",
     "metadata": {},
     "outputs": [],
     "prompt_number": 10
    },
    {
     "cell_type": "code",
     "collapsed": false,
     "input": [
      "cl.show_most_informative_features(50)"
     ],
     "language": "python",
     "metadata": {},
     "outputs": [
      {
       "output_type": "stream",
       "stream": "stdout",
       "text": [
        "Most Informative Features\n",
        "               TermScore = '2'                 2 : 6      =     51.4 : 1.0"
       ]
      },
      {
       "output_type": "stream",
       "stream": "stdout",
       "text": [
        "\n",
        "               TermScore = '5'                 5 : 4      =     47.9 : 1.0\n",
        "             has(window) = 1                   2 : 1      =     42.3 : 1.0\n",
        "               TermScore = '7'                 7 : 4      =     38.8 : 1.0\n",
        "               has(pain) = 1                   6 : 1      =     31.9 : 1.0\n",
        "             has(comput) = 1                   2 : 4      =     29.8 : 1.0\n",
        "              has(music) = 1                   3 : 1      =     29.6 : 1.0\n",
        "               TermScore = '3'                 3 : 4      =     26.3 : 1.0\n",
        "               has(song) = 1                   3 : 1      =     25.3 : 1.0\n",
        "               has(girl) = 1                   4 : 7      =     24.9 : 1.0\n",
        "       has(relationship) = 1                   4 : 1      =     24.3 : 1.0\n",
        "             has(togeth) = 1                   4 : 1      =     24.3 : 1.0\n",
        "               has(movi) = 1                   3 : 4      =     22.5 : 1.0\n",
        "              has(studi) = 1                   5 : 1      =     22.0 : 1.0\n",
        "          has(boyfriend) = 1                   4 : 3      =     21.4 : 1.0\n",
        "         has(girlfriend) = 1                   4 : 1      =     21.4 : 1.0\n",
        "              has(medic) = 1                   6 : 1      =     20.9 : 1.0\n",
        "             has(colleg) = 1                   5 : 2      =     20.4 : 1.0\n",
        "            has(marriag) = 1                   4 : 1      =     19.9 : 1.0\n",
        "             has(friend) = 1                   4 : 5      =     19.5 : 1.0\n",
        "             has(weight) = 1                   6 : 1      =     18.7 : 1.0\n",
        "              has(cheat) = 1                   4 : 1      =     18.4 : 1.0\n",
        "             has(school) = 1                   5 : 1      =     17.5 : 1.0\n",
        "              has(smoke) = 1                   6 : 1      =     16.5 : 1.0\n",
        "              has(blood) = 1                   6 : 1      =     16.5 : 1.0\n",
        "               TermScore = '6'                 6 : 4      =     16.4 : 1.0\n",
        "               has(love) = 1                   4 : 6      =     16.2 : 1.0\n",
        "               has(rock) = 1                   3 : 1      =     15.8 : 1.0\n",
        "              has(marri) = 1                   4 : 1      =     13.7 : 1.0\n",
        "              has(woman) = 1                   4 : 1      =     13.7 : 1.0\n",
        "               has(moon) = 1                   7 : 1      =     13.5 : 1.0\n",
        "             has(instal) = 1                   2 : 1      =     13.2 : 1.0\n",
        "             has(episod) = 1                   3 : 1      =     12.0 : 1.0\n",
        "            has(magazin) = 1                   3 : 1      =     12.0 : 1.0\n",
        "            has(english) = 1                   5 : 2      =     11.8 : 1.0\n",
        "               has(date) = 1                   4 : 3      =     11.5 : 1.0\n",
        "            has(distanc) = 1                   7 : 1      =     11.4 : 1.0\n",
        "            has(browser) = 1                   2 : 1      =     10.7 : 1.0\n",
        "              has(earth) = 1                   7 : 1      =     10.6 : 1.0\n",
        "              has(women) = 1                   4 : 5      =     10.6 : 1.0\n",
        "               has(fall) = 1                   4 : 1      =     10.2 : 1.0\n",
        "            has(exercis) = 1                   6 : 1      =      9.9 : 1.0\n",
        "             has(router) = 1                   2 : 1      =      9.6 : 1.0\n",
        "             has(artist) = 1                   3 : 1      =      9.5 : 1.0\n",
        "              has(riddl) = 1                   3 : 1      =      9.5 : 1.0\n",
        "            has(spanish) = 1                   5 : 1      =      9.4 : 1.0\n",
        "            has(teacher) = 1                   5 : 1      =      9.4 : 1.0\n",
        "              has(light) = 1                   7 : 1      =      9.3 : 1.0\n",
        "               has(math) = 1                   7 : 1      =      9.3 : 1.0\n",
        "               has(wife) = 1                   4 : 1      =      9.3 : 1.0\n"
       ]
      }
     ],
     "prompt_number": 16
    },
    {
     "cell_type": "code",
     "collapsed": false,
     "input": [
      "final_features = util.make_feature(extractor, final_sets)"
     ],
     "language": "python",
     "metadata": {},
     "outputs": [],
     "prompt_number": 17
    },
    {
     "cell_type": "code",
     "collapsed": false,
     "input": [
      "submission = util.make_submission(cl, final_features, writeto=\"submission14b.csv\")"
     ],
     "language": "python",
     "metadata": {},
     "outputs": [],
     "prompt_number": 18
    }
   ],
   "metadata": {}
  }
 ]
}