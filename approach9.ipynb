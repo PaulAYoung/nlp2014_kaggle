{
 "metadata": {
  "name": "",
  "signature": "sha256:f479516eadb0e57c848d64d48376c3ea840af097b6a1408f610aa6eae450e592"
 },
 "nbformat": 3,
 "nbformat_minor": 0,
 "worksheets": [
  {
   "cells": [
    {
     "cell_type": "code",
     "collapsed": false,
     "input": [
      "import cPickle as pickle\n",
      "import re\n",
      "import random\n",
      "from os import path\n",
      "\n",
      "import nltk\n",
      "\n",
      "import testing_util as util\n",
      "import term_scoring\n",
      "from testing_util import sample_sets, final_sets"
     ],
     "language": "python",
     "metadata": {},
     "outputs": [],
     "prompt_number": 1
    },
    {
     "cell_type": "code",
     "collapsed": false,
     "input": [
      "from nltk.classify import SklearnClassifier\n",
      "from sklearn.svm import SVC"
     ],
     "language": "python",
     "metadata": {},
     "outputs": [],
     "prompt_number": 2
    },
    {
     "cell_type": "code",
     "collapsed": false,
     "input": [
      "term_idfs = pickle.load(open('term_idfs.pkl', 'rb'))\n",
      "cat_tfidfs = pickle.load(open('cattfidf.pkl', 'rb'))"
     ],
     "language": "python",
     "metadata": {},
     "outputs": [],
     "prompt_number": 3
    },
    {
     "cell_type": "code",
     "collapsed": false,
     "input": [
      "stopwords = nltk.corpus.stopwords.words('english')\n",
      "stemmer = nltk.PorterStemmer()\n",
      "\n",
      "def get_terms(t):\n",
      "    \"\"\"\n",
      "    This is used to get the relevant items out of text. \n",
      "    \"\"\"\n",
      "    tokens = nltk.word_tokenize(t)\n",
      "    return [stemmer.stem(w.lower()) for w in tokens if len(w)>3 and (w not in stopwords)]"
     ],
     "language": "python",
     "metadata": {},
     "outputs": [],
     "prompt_number": 4
    },
    {
     "cell_type": "code",
     "collapsed": false,
     "input": [
      "helpful = set()\n",
      "for i in range(1,8):\n",
      "    cterms = cat_tfidfs[str(i)].items()\n",
      "    cterms.sort(key = lambda v: v[1], reverse=True)\n",
      "    helpful.update([w[0] for w in cterms[0:200]])"
     ],
     "language": "python",
     "metadata": {},
     "outputs": [],
     "prompt_number": 15
    },
    {
     "cell_type": "code",
     "collapsed": false,
     "input": [
      "def check_helpful(text):\n",
      "    terms = get_terms(text)\n",
      "    results = {}\n",
      "    for t in helpful:\n",
      "        results[\"has({})\".format(t)] = 1 if t in terms else 0\n",
      "    \n",
      "    return results"
     ],
     "language": "python",
     "metadata": {},
     "outputs": [],
     "prompt_number": 16
    },
    {
     "cell_type": "code",
     "collapsed": false,
     "input": [
      "classifier = nltk.classify.NaiveBayesClassifier\n",
      "#classifier = SklearnClassifier(SVC(), sparse=False)"
     ],
     "language": "python",
     "metadata": {},
     "outputs": [],
     "prompt_number": 10
    },
    {
     "cell_type": "code",
     "collapsed": false,
     "input": [
      "extractor = util.FeatureExtractor()\n",
      "extractor.add_extractor(check_helpful)"
     ],
     "language": "python",
     "metadata": {},
     "outputs": [],
     "prompt_number": 17
    },
    {
     "cell_type": "code",
     "collapsed": false,
     "input": [
      "extractor.test(sample_sets, folds=3,confusion=True, classifier=classifier, num_tests=1)"
     ],
     "language": "python",
     "metadata": {},
     "outputs": [
      {
       "output_type": "stream",
       "stream": "stdout",
       "text": [
        "**************************\n",
        "Run 0\n",
        "**************************\n",
        "test 0 - 65.406%"
       ]
      },
      {
       "output_type": "stream",
       "stream": "stdout",
       "text": [
        "\n",
        "  |      1      2      3      4      7      5      6 |\n",
        "--+--------------------------------------------------+\n",
        "1 | <24.6%>  0.4%   0.6%   0.6%   0.3%   0.1%      . |\n",
        "2 |   4.2% <12.2%>  0.4%      .      .   0.1%      . |\n",
        "3 |   5.3%   0.4%  <9.6%>  0.3%      .      .      . |\n",
        "4 |   4.9%      .   0.6%  <8.1%>     .   0.1%      . |\n",
        "7 |   4.7%   0.1%   0.2%      .  <4.1%>  0.4%      . |\n",
        "5 |   4.8%   0.3%   0.4%   0.1%   0.3%  <2.8%>  0.2% |\n",
        "6 |   3.8%      .   0.2%   0.2%   0.1%   0.1%  <4.0%>|\n",
        "--+--------------------------------------------------+\n",
        "(row = reference; col = test)\n"
       ]
      },
      {
       "output_type": "stream",
       "stream": "stdout",
       "text": [
        "\n",
        "test 1 - 66.741%"
       ]
      },
      {
       "output_type": "stream",
       "stream": "stdout",
       "text": [
        "\n",
        "  |      1      2      3      4      5      6      7 |\n",
        "--+--------------------------------------------------+\n",
        "1 | <27.9%>  1.6%   0.9%   0.9%   0.2%   0.4%      . |\n",
        "2 |   5.1% <11.9%>  0.1%      .   0.1%      .   0.1% |\n",
        "3 |   4.3%   0.3%  <8.9%>  0.1%   0.1%      .   0.1% |\n",
        "4 |   4.0%      .   0.1%  <6.3%>     .      .   0.2% |\n",
        "5 |   4.4%   0.2%   0.2%   0.2%  <3.6%>     .   0.4% |\n",
        "6 |   3.3%      .   0.3%   0.3%      .  <4.6%>     . |\n",
        "7 |   4.1%      .   0.3%      .   0.3%   0.1%  <3.6%>|\n",
        "--+--------------------------------------------------+\n",
        "(row = reference; col = test)\n"
       ]
      },
      {
       "output_type": "stream",
       "stream": "stdout",
       "text": [
        "\n",
        "test 2 - 61.556%"
       ]
      },
      {
       "output_type": "stream",
       "stream": "stdout",
       "text": [
        "\n",
        "  |      1      2      3      4      7      5      6 |\n",
        "--+--------------------------------------------------+\n",
        "1 | <22.7%>  1.1%   1.1%   1.3%   0.3%   0.3%   0.1% |\n",
        "2 |   5.3% <10.0%>  0.4%      .   0.2%      .   0.1% |\n",
        "3 |   4.3%   0.3% <10.3%>  0.4%      .   0.1%      . |\n",
        "4 |   6.6%      .   0.7%  <6.9%>     .      .   0.1% |\n",
        "7 |   4.7%      .   0.6%      .  <3.9%>  0.1%   0.1% |\n",
        "5 |   4.4%   0.3%   0.2%      .   0.4%  <3.4%>  0.1% |\n",
        "6 |   4.0%   0.1%      .   0.3%      .      .  <4.3%>|\n",
        "--+--------------------------------------------------+\n",
        "(row = reference; col = test)\n"
       ]
      },
      {
       "output_type": "stream",
       "stream": "stdout",
       "text": [
        "\n"
       ]
      }
     ],
     "prompt_number": 18
    },
    {
     "cell_type": "code",
     "collapsed": false,
     "input": [
      "cl=extractor.get_classifier(sample_sets, classifier=classifier)"
     ],
     "language": "python",
     "metadata": {},
     "outputs": [],
     "prompt_number": 13
    },
    {
     "cell_type": "code",
     "collapsed": false,
     "input": [
      "cl.show_most_informative_features()"
     ],
     "language": "python",
     "metadata": {},
     "outputs": [
      {
       "output_type": "stream",
       "stream": "stdout",
       "text": [
        "Most Informative Features\n",
        "             has(window) = 1                   2 : 1      =     42.3 : 1.0"
       ]
      },
      {
       "output_type": "stream",
       "stream": "stdout",
       "text": [
        "\n",
        "               has(pain) = 1                   6 : 1      =     31.9 : 1.0\n",
        "             has(comput) = 1                   2 : 4      =     29.8 : 1.0\n",
        "              has(music) = 1                   3 : 1      =     29.6 : 1.0\n",
        "               has(song) = 1                   3 : 1      =     25.3 : 1.0\n",
        "               has(caus) = 1                   6 : 1      =     25.3 : 1.0\n",
        "               has(girl) = 1                   4 : 7      =     24.9 : 1.0\n",
        "       has(relationship) = 1                   4 : 1      =     24.3 : 1.0\n",
        "             has(togeth) = 1                   4 : 1      =     24.3 : 1.0\n",
        "               has(movi) = 1                   3 : 4      =     22.5 : 1.0\n"
       ]
      }
     ],
     "prompt_number": 14
    },
    {
     "cell_type": "code",
     "collapsed": false,
     "input": [
      "final_features = util.make_feature(extractor, final_sets)"
     ],
     "language": "python",
     "metadata": {},
     "outputs": []
    },
    {
     "cell_type": "code",
     "collapsed": false,
     "input": [
      "submission = util.make_submission(cl, final_features, writeto=\"submission_tfidf.csv\")"
     ],
     "language": "python",
     "metadata": {},
     "outputs": []
    }
   ],
   "metadata": {}
  }
 ]
}